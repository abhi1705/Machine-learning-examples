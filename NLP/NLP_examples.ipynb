{
  "nbformat": 4,
  "nbformat_minor": 0,
  "metadata": {
    "colab": {
      "name": "NLP Assignment 1 Set 13.ipynb",
      "provenance": [],
      "collapsed_sections": [
        "HOi-gltGIKyj"
      ]
    },
    "kernelspec": {
      "name": "python3",
      "display_name": "Python 3"
    },
    "accelerator": "GPU"
  },
  "cells": [
    {
      "cell_type": "markdown",
      "metadata": {
        "id": "DCj5sqMfuYCU"
      },
      "source": [
        "# NLP Assignment 1 - Set 13"
      ]
    },
    {
      "cell_type": "markdown",
      "metadata": {
        "id": "HOi-gltGIKyj"
      },
      "source": [
        "## General Instructions\r\n",
        "\r\n",
        "\r\n",
        "---\r\n",
        "\r\n"
      ]
    },
    {
      "cell_type": "markdown",
      "metadata": {
        "id": "YcUwxn2-Istr"
      },
      "source": [
        "1. In case the link to dataset is not useful, same dataset can be downloaded from any online resource.\r\n",
        "\r\n",
        "2. Each group is expected to submit jupyter notebook (.ipynb) with output for each cell.\r\n",
        "\r\n",
        "3. No extension on the deadline\r\n",
        "\r\n",
        "4. Submissions using other python IDEs will not be considered for grading.\r\n",
        "\r\n",
        "Link to the Dataset: https://www.kaggle.com/bharadwaj6/kindle-reviews (Links to an external site.)\r\n",
        "\r\n",
        "Description of Data: Dataset, consists of reviewText and Rating.\r\n",
        "\r\n",
        "\r\n",
        "\r\n",
        "1.   Download the file and set it as a Dataframe. (1 Marks)\r\n",
        "2.   Remove punctuations, special characters and stopwords from the text column. Convert the text to lower case. (3 Marks)\r\n",
        "3.   Create two objects X and y. X will be the ' reviewText ' column dataframe and y will be the “Overall Rating” column. create a CountVectorizer object and split the data into training and testing sets. Train a MultinomialNB model and Display the confusion Matrix (5 Marks)\r\n",
        "4.   Display the POS tagging on the first 4 rows of ‘reviewText’ (4 Marks)\r\n",
        "5.   Build and display a dependency parser tree for the sentence:\r\n",
        "\r\n",
        "“He staunchly opposes Jon's proposal to allow the wildlings to pass through the Wall before the White Walkers reach them and later participates in the mutiny against Jon, being the second to stab him.” (2 Marks)\r\n"
      ]
    },
    {
      "cell_type": "markdown",
      "metadata": {
        "id": "QGSD_hRULc-P"
      },
      "source": [
        "## Import Libraries"
      ]
    },
    {
      "cell_type": "code",
      "metadata": {
        "id": "oxtCPmDcLi0d",
        "colab": {
          "base_uri": "https://localhost:8080/"
        },
        "outputId": "59424ce3-33ef-47e7-92ca-1236b8ecbaa9"
      },
      "source": [
        "import numpy as np\r\n",
        "import pandas as pd\r\n",
        "\r\n",
        "import matplotlib.pyplot as plt\r\n",
        "import seaborn as sns\r\n",
        "from sklearn.naive_bayes import MultinomialNB\r\n",
        "from sklearn.linear_model import LogisticRegression\r\n",
        "from sklearn.ensemble import RandomForestClassifier\r\n",
        "from sklearn.svm import LinearSVC\r\n",
        "from sklearn.model_selection import train_test_split, cross_val_score,GridSearchCV, RandomizedSearchCV\r\n",
        "from sklearn.metrics import classification_report,confusion_matrix,accuracy_score, roc_curve, roc_auc_score\r\n",
        "\r\n",
        "import nltk\r\n",
        "nltk.download('stopwords')\r\n",
        "nltk.download('punkt')\r\n",
        "nltk.download('averaged_perceptron_tagger')\r\n",
        "import string\r\n",
        "from nltk.corpus import stopwords\r\n",
        "from sklearn.feature_extraction.text import CountVectorizer\r\n",
        "\r\n",
        "import spacy\r\n",
        "from spacy import displacy\r\n",
        "\r\n",
        "nlp = spacy.load(\"en_core_web_sm\")"
      ],
      "execution_count": 173,
      "outputs": [
        {
          "output_type": "stream",
          "text": [
            "[nltk_data] Downloading package stopwords to /root/nltk_data...\n",
            "[nltk_data]   Package stopwords is already up-to-date!\n",
            "[nltk_data] Downloading package punkt to /root/nltk_data...\n",
            "[nltk_data]   Package punkt is already up-to-date!\n",
            "[nltk_data] Downloading package averaged_perceptron_tagger to\n",
            "[nltk_data]     /root/nltk_data...\n",
            "[nltk_data]   Package averaged_perceptron_tagger is already up-to-\n",
            "[nltk_data]       date!\n"
          ],
          "name": "stdout"
        }
      ]
    },
    {
      "cell_type": "markdown",
      "metadata": {
        "id": "iJYqffFNSoqR"
      },
      "source": [
        "## Dataset"
      ]
    },
    {
      "cell_type": "markdown",
      "metadata": {
        "id": "IPVdQD9FIyFc"
      },
      "source": [
        "### Connect to Gdrive"
      ]
    },
    {
      "cell_type": "code",
      "metadata": {
        "colab": {
          "base_uri": "https://localhost:8080/"
        },
        "id": "xq4Cya1KMO5P",
        "outputId": "6e5544c7-09cb-4d17-f285-e508a1297c78"
      },
      "source": [
        "from google.colab import drive\r\n",
        "\r\n",
        "drive.mount('/content/gdrive')\r\n",
        "root_path = 'gdrive/My Drive/kaggle/'  #change dir to your project folder"
      ],
      "execution_count": 174,
      "outputs": [
        {
          "output_type": "stream",
          "text": [
            "Drive already mounted at /content/gdrive; to attempt to forcibly remount, call drive.mount(\"/content/gdrive\", force_remount=True).\n"
          ],
          "name": "stdout"
        }
      ]
    },
    {
      "cell_type": "markdown",
      "metadata": {
        "id": "MGn-NgNzIXfe"
      },
      "source": [
        "### Fetch data"
      ]
    },
    {
      "cell_type": "code",
      "metadata": {
        "colab": {
          "base_uri": "https://localhost:8080/"
        },
        "id": "EUVxSsl0S5l3",
        "outputId": "57267cab-5708-4204-9259-fe99cda2dbdc"
      },
      "source": [
        "%cd /content/gdrive/My Drive/kaggle/kindle-reviews/\r\n",
        "!ls"
      ],
      "execution_count": 175,
      "outputs": [
        {
          "output_type": "stream",
          "text": [
            "/content/gdrive/My Drive/kaggle/kindle-reviews\n",
            "kindle_reviews.csv  kindle_reviews.json\n"
          ],
          "name": "stdout"
        }
      ]
    },
    {
      "cell_type": "code",
      "metadata": {
        "colab": {
          "base_uri": "https://localhost:8080/",
          "height": 197
        },
        "id": "4v7kpiS5TRYt",
        "outputId": "08765fc0-7ff2-4e2c-ae5d-1dd357c82603"
      },
      "source": [
        "# DATASET_ENCODING = \"ISO-8859-1\"\r\n",
        "# DATASET_COLUMNS = [\"asin\", \"helpful\", \"overall\", \"reviewText\", \"reviewTime\", \"reviewerID\",\"reviewerName\",\"summary\", \"unixReviewTime\"]\r\n",
        "# #DATASET_COLUMNS = [\"target\", \"text\"]\r\n",
        "DATASET_PATH = \"/content/gdrive/My Drive/kaggle/kindle-reviews/kindle_reviews.csv\"\r\n",
        "\r\n",
        "# df = pd.read_csv(DATASET_PATH, encoding = DATASET_ENCODING, names = DATASET_COLUMNS)\r\n",
        "df = pd.read_csv(DATASET_PATH)\r\n",
        "df.head()"
      ],
      "execution_count": 176,
      "outputs": [
        {
          "output_type": "execute_result",
          "data": {
            "text/html": [
              "<div>\n",
              "<style scoped>\n",
              "    .dataframe tbody tr th:only-of-type {\n",
              "        vertical-align: middle;\n",
              "    }\n",
              "\n",
              "    .dataframe tbody tr th {\n",
              "        vertical-align: top;\n",
              "    }\n",
              "\n",
              "    .dataframe thead th {\n",
              "        text-align: right;\n",
              "    }\n",
              "</style>\n",
              "<table border=\"1\" class=\"dataframe\">\n",
              "  <thead>\n",
              "    <tr style=\"text-align: right;\">\n",
              "      <th></th>\n",
              "      <th>Unnamed: 0</th>\n",
              "      <th>asin</th>\n",
              "      <th>helpful</th>\n",
              "      <th>overall</th>\n",
              "      <th>reviewText</th>\n",
              "      <th>reviewTime</th>\n",
              "      <th>reviewerID</th>\n",
              "      <th>reviewerName</th>\n",
              "      <th>summary</th>\n",
              "      <th>unixReviewTime</th>\n",
              "    </tr>\n",
              "  </thead>\n",
              "  <tbody>\n",
              "    <tr>\n",
              "      <th>0</th>\n",
              "      <td>0</td>\n",
              "      <td>B000F83SZQ</td>\n",
              "      <td>[0, 0]</td>\n",
              "      <td>5</td>\n",
              "      <td>I enjoy vintage books and movies so I enjoyed ...</td>\n",
              "      <td>05 5, 2014</td>\n",
              "      <td>A1F6404F1VG29J</td>\n",
              "      <td>Avidreader</td>\n",
              "      <td>Nice vintage story</td>\n",
              "      <td>1399248000</td>\n",
              "    </tr>\n",
              "    <tr>\n",
              "      <th>1</th>\n",
              "      <td>1</td>\n",
              "      <td>B000F83SZQ</td>\n",
              "      <td>[2, 2]</td>\n",
              "      <td>4</td>\n",
              "      <td>This book is a reissue of an old one; the auth...</td>\n",
              "      <td>01 6, 2014</td>\n",
              "      <td>AN0N05A9LIJEQ</td>\n",
              "      <td>critters</td>\n",
              "      <td>Different...</td>\n",
              "      <td>1388966400</td>\n",
              "    </tr>\n",
              "    <tr>\n",
              "      <th>2</th>\n",
              "      <td>2</td>\n",
              "      <td>B000F83SZQ</td>\n",
              "      <td>[2, 2]</td>\n",
              "      <td>4</td>\n",
              "      <td>This was a fairly interesting read.  It had ol...</td>\n",
              "      <td>04 4, 2014</td>\n",
              "      <td>A795DMNCJILA6</td>\n",
              "      <td>dot</td>\n",
              "      <td>Oldie</td>\n",
              "      <td>1396569600</td>\n",
              "    </tr>\n",
              "    <tr>\n",
              "      <th>3</th>\n",
              "      <td>3</td>\n",
              "      <td>B000F83SZQ</td>\n",
              "      <td>[1, 1]</td>\n",
              "      <td>5</td>\n",
              "      <td>I'd never read any of the Amy Brewster mysteri...</td>\n",
              "      <td>02 19, 2014</td>\n",
              "      <td>A1FV0SX13TWVXQ</td>\n",
              "      <td>Elaine H. Turley \"Montana Songbird\"</td>\n",
              "      <td>I really liked it.</td>\n",
              "      <td>1392768000</td>\n",
              "    </tr>\n",
              "    <tr>\n",
              "      <th>4</th>\n",
              "      <td>4</td>\n",
              "      <td>B000F83SZQ</td>\n",
              "      <td>[0, 1]</td>\n",
              "      <td>4</td>\n",
              "      <td>If you like period pieces - clothing, lingo, y...</td>\n",
              "      <td>03 19, 2014</td>\n",
              "      <td>A3SPTOKDG7WBLN</td>\n",
              "      <td>Father Dowling Fan</td>\n",
              "      <td>Period Mystery</td>\n",
              "      <td>1395187200</td>\n",
              "    </tr>\n",
              "  </tbody>\n",
              "</table>\n",
              "</div>"
            ],
            "text/plain": [
              "   Unnamed: 0        asin  ...             summary  unixReviewTime\n",
              "0           0  B000F83SZQ  ...  Nice vintage story      1399248000\n",
              "1           1  B000F83SZQ  ...        Different...      1388966400\n",
              "2           2  B000F83SZQ  ...               Oldie      1396569600\n",
              "3           3  B000F83SZQ  ...  I really liked it.      1392768000\n",
              "4           4  B000F83SZQ  ...      Period Mystery      1395187200\n",
              "\n",
              "[5 rows x 10 columns]"
            ]
          },
          "metadata": {
            "tags": []
          },
          "execution_count": 176
        }
      ]
    },
    {
      "cell_type": "code",
      "metadata": {
        "colab": {
          "base_uri": "https://localhost:8080/"
        },
        "id": "D0xNiB12UPcd",
        "outputId": "2b950ed3-e461-4318-9efc-0e2bd799fd63"
      },
      "source": [
        "df['overall'].value_counts()"
      ],
      "execution_count": 177,
      "outputs": [
        {
          "output_type": "execute_result",
          "data": {
            "text/plain": [
              "5    575264\n",
              "4    254013\n",
              "3     96194\n",
              "2     34130\n",
              "1     23018\n",
              "Name: overall, dtype: int64"
            ]
          },
          "metadata": {
            "tags": []
          },
          "execution_count": 177
        }
      ]
    },
    {
      "cell_type": "code",
      "metadata": {
        "colab": {
          "base_uri": "https://localhost:8080/"
        },
        "id": "5243Kbzwm8xl",
        "outputId": "31676e49-aa50-4c39-e161-2c75940ab0f9"
      },
      "source": [
        "\r\n",
        "# Check for null\r\n",
        "df.isnull().sum()"
      ],
      "execution_count": 178,
      "outputs": [
        {
          "output_type": "execute_result",
          "data": {
            "text/plain": [
              "Unnamed: 0           0\n",
              "asin                 0\n",
              "helpful              0\n",
              "overall              0\n",
              "reviewText          22\n",
              "reviewTime           0\n",
              "reviewerID           0\n",
              "reviewerName      3816\n",
              "summary              1\n",
              "unixReviewTime       0\n",
              "dtype: int64"
            ]
          },
          "metadata": {
            "tags": []
          },
          "execution_count": 178
        }
      ]
    },
    {
      "cell_type": "code",
      "metadata": {
        "colab": {
          "base_uri": "https://localhost:8080/",
          "height": 264
        },
        "id": "Pg3W3OvrnGx6",
        "outputId": "64044260-9f4b-4e8e-858b-d5930225c1a7"
      },
      "source": [
        "# missing reviews and needs to be dropped\r\n",
        "#drop the rows where there are no reviews\r\n",
        "df.dropna(subset = ['reviewText'], inplace = True)\r\n",
        "\r\n",
        "#changing the reviewTime column to be of datetime type\r\n",
        "# df.reviewTime = pd.to_datetime(df.reviewTime)\r\n",
        "df['reviewTime'] = pd.to_datetime(df['reviewTime'])\r\n",
        "\r\n",
        "#creating a column with just the year\r\n",
        "df['Year'] = df.reviewTime.dt.year\r\n",
        "df.head()"
      ],
      "execution_count": 179,
      "outputs": [
        {
          "output_type": "execute_result",
          "data": {
            "text/html": [
              "<div>\n",
              "<style scoped>\n",
              "    .dataframe tbody tr th:only-of-type {\n",
              "        vertical-align: middle;\n",
              "    }\n",
              "\n",
              "    .dataframe tbody tr th {\n",
              "        vertical-align: top;\n",
              "    }\n",
              "\n",
              "    .dataframe thead th {\n",
              "        text-align: right;\n",
              "    }\n",
              "</style>\n",
              "<table border=\"1\" class=\"dataframe\">\n",
              "  <thead>\n",
              "    <tr style=\"text-align: right;\">\n",
              "      <th></th>\n",
              "      <th>Unnamed: 0</th>\n",
              "      <th>asin</th>\n",
              "      <th>helpful</th>\n",
              "      <th>overall</th>\n",
              "      <th>reviewText</th>\n",
              "      <th>reviewTime</th>\n",
              "      <th>reviewerID</th>\n",
              "      <th>reviewerName</th>\n",
              "      <th>summary</th>\n",
              "      <th>unixReviewTime</th>\n",
              "      <th>Year</th>\n",
              "    </tr>\n",
              "  </thead>\n",
              "  <tbody>\n",
              "    <tr>\n",
              "      <th>0</th>\n",
              "      <td>0</td>\n",
              "      <td>B000F83SZQ</td>\n",
              "      <td>[0, 0]</td>\n",
              "      <td>5</td>\n",
              "      <td>I enjoy vintage books and movies so I enjoyed ...</td>\n",
              "      <td>2014-05-05</td>\n",
              "      <td>A1F6404F1VG29J</td>\n",
              "      <td>Avidreader</td>\n",
              "      <td>Nice vintage story</td>\n",
              "      <td>1399248000</td>\n",
              "      <td>2014</td>\n",
              "    </tr>\n",
              "    <tr>\n",
              "      <th>1</th>\n",
              "      <td>1</td>\n",
              "      <td>B000F83SZQ</td>\n",
              "      <td>[2, 2]</td>\n",
              "      <td>4</td>\n",
              "      <td>This book is a reissue of an old one; the auth...</td>\n",
              "      <td>2014-01-06</td>\n",
              "      <td>AN0N05A9LIJEQ</td>\n",
              "      <td>critters</td>\n",
              "      <td>Different...</td>\n",
              "      <td>1388966400</td>\n",
              "      <td>2014</td>\n",
              "    </tr>\n",
              "    <tr>\n",
              "      <th>2</th>\n",
              "      <td>2</td>\n",
              "      <td>B000F83SZQ</td>\n",
              "      <td>[2, 2]</td>\n",
              "      <td>4</td>\n",
              "      <td>This was a fairly interesting read.  It had ol...</td>\n",
              "      <td>2014-04-04</td>\n",
              "      <td>A795DMNCJILA6</td>\n",
              "      <td>dot</td>\n",
              "      <td>Oldie</td>\n",
              "      <td>1396569600</td>\n",
              "      <td>2014</td>\n",
              "    </tr>\n",
              "    <tr>\n",
              "      <th>3</th>\n",
              "      <td>3</td>\n",
              "      <td>B000F83SZQ</td>\n",
              "      <td>[1, 1]</td>\n",
              "      <td>5</td>\n",
              "      <td>I'd never read any of the Amy Brewster mysteri...</td>\n",
              "      <td>2014-02-19</td>\n",
              "      <td>A1FV0SX13TWVXQ</td>\n",
              "      <td>Elaine H. Turley \"Montana Songbird\"</td>\n",
              "      <td>I really liked it.</td>\n",
              "      <td>1392768000</td>\n",
              "      <td>2014</td>\n",
              "    </tr>\n",
              "    <tr>\n",
              "      <th>4</th>\n",
              "      <td>4</td>\n",
              "      <td>B000F83SZQ</td>\n",
              "      <td>[0, 1]</td>\n",
              "      <td>4</td>\n",
              "      <td>If you like period pieces - clothing, lingo, y...</td>\n",
              "      <td>2014-03-19</td>\n",
              "      <td>A3SPTOKDG7WBLN</td>\n",
              "      <td>Father Dowling Fan</td>\n",
              "      <td>Period Mystery</td>\n",
              "      <td>1395187200</td>\n",
              "      <td>2014</td>\n",
              "    </tr>\n",
              "  </tbody>\n",
              "</table>\n",
              "</div>"
            ],
            "text/plain": [
              "   Unnamed: 0        asin helpful  ...             summary unixReviewTime  Year\n",
              "0           0  B000F83SZQ  [0, 0]  ...  Nice vintage story     1399248000  2014\n",
              "1           1  B000F83SZQ  [2, 2]  ...        Different...     1388966400  2014\n",
              "2           2  B000F83SZQ  [2, 2]  ...               Oldie     1396569600  2014\n",
              "3           3  B000F83SZQ  [1, 1]  ...  I really liked it.     1392768000  2014\n",
              "4           4  B000F83SZQ  [0, 1]  ...      Period Mystery     1395187200  2014\n",
              "\n",
              "[5 rows x 11 columns]"
            ]
          },
          "metadata": {
            "tags": []
          },
          "execution_count": 179
        }
      ]
    },
    {
      "cell_type": "code",
      "metadata": {
        "colab": {
          "base_uri": "https://localhost:8080/",
          "height": 311
        },
        "id": "N6A6bbB9nldC",
        "outputId": "eca307df-0d3f-4198-a14b-4690e64b1001"
      },
      "source": [
        "df.Year.value_counts().sort_index().plot(kind = 'bar')\r\n",
        "plt.title('Number of Reviews per Year')\r\n",
        "plt.xlabel('Year')\r\n",
        "plt.ylabel('Number of Reviews')\r\n",
        "plt.show()"
      ],
      "execution_count": 180,
      "outputs": [
        {
          "output_type": "display_data",
          "data": {
            "image/png": "[encoded data removed]",
            "text/plain": [
              "<Figure size 432x288 with 1 Axes>"
            ]
          },
          "metadata": {
            "tags": [],
            "needs_background": "light"
          }
        }
      ]
    },
    {
      "cell_type": "code",
      "metadata": {
        "colab": {
          "base_uri": "https://localhost:8080/",
          "height": 364
        },
        "id": "lzeZI0bhnqck",
        "outputId": "82056571-6f68-4ecc-e4d5-06a5ceab8595"
      },
      "source": [
        "# Top 10 users based on reviews\r\n",
        "\r\n",
        "df.reviewerID.value_counts().head(10).plot(kind = 'bar')\r\n",
        "plt.xticks(rotation = 80)\r\n",
        "plt.xlabel('UserID')\r\n",
        "plt.ylabel('Number of Reviews')\r\n",
        "plt.show()"
      ],
      "execution_count": 181,
      "outputs": [
        {
          "output_type": "display_data",
          "data": {
            "image/png": "[encoded data removed]",
            "text/plain": [
              "<Figure size 432x288 with 1 Axes>"
            ]
          },
          "metadata": {
            "tags": [],
            "needs_background": "light"
          }
        }
      ]
    },
    {
      "cell_type": "code",
      "metadata": {
        "colab": {
          "base_uri": "https://localhost:8080/",
          "height": 294
        },
        "id": "igDicr3fpI56",
        "outputId": "b459da8b-1621-4de1-942d-25a775c87339"
      },
      "source": [
        "# Ratings count\r\n",
        "\r\n",
        "df.overall.value_counts().plot(kind = 'bar')\r\n",
        "plt.title('Number of Good Ratings vs Bad Ratings')\r\n",
        "plt.xlabel('Rating Scales')\r\n",
        "plt.xticks(rotation = 0)\r\n",
        "plt.ylabel('Total ratings')\r\n",
        "plt.show()"
      ],
      "execution_count": 182,
      "outputs": [
        {
          "output_type": "display_data",
          "data": {
            "image/png": "[encoded data removed]",
            "text/plain": [
              "<Figure size 432x288 with 1 Axes>"
            ]
          },
          "metadata": {
            "tags": [],
            "needs_background": "light"
          }
        }
      ]
    },
    {
      "cell_type": "markdown",
      "metadata": {
        "id": "CoJ_CRoBr-7C"
      },
      "source": [
        "## Text Preprocessing"
      ]
    },
    {
      "cell_type": "code",
      "metadata": {
        "colab": {
          "base_uri": "https://localhost:8080/",
          "height": 197
        },
        "id": "SVCvGk6zsBvi",
        "outputId": "abd843cb-f02e-44d5-d9d9-9d55ca209281"
      },
      "source": [
        "reviews = df[['reviewText', 'overall']]\r\n",
        "originalReviewText = reviews['reviewText'].copy()\r\n",
        "reviews.head()"
      ],
      "execution_count": 183,
      "outputs": [
        {
          "output_type": "execute_result",
          "data": {
            "text/html": [
              "<div>\n",
              "<style scoped>\n",
              "    .dataframe tbody tr th:only-of-type {\n",
              "        vertical-align: middle;\n",
              "    }\n",
              "\n",
              "    .dataframe tbody tr th {\n",
              "        vertical-align: top;\n",
              "    }\n",
              "\n",
              "    .dataframe thead th {\n",
              "        text-align: right;\n",
              "    }\n",
              "</style>\n",
              "<table border=\"1\" class=\"dataframe\">\n",
              "  <thead>\n",
              "    <tr style=\"text-align: right;\">\n",
              "      <th></th>\n",
              "      <th>reviewText</th>\n",
              "      <th>overall</th>\n",
              "    </tr>\n",
              "  </thead>\n",
              "  <tbody>\n",
              "    <tr>\n",
              "      <th>0</th>\n",
              "      <td>I enjoy vintage books and movies so I enjoyed ...</td>\n",
              "      <td>5</td>\n",
              "    </tr>\n",
              "    <tr>\n",
              "      <th>1</th>\n",
              "      <td>This book is a reissue of an old one; the auth...</td>\n",
              "      <td>4</td>\n",
              "    </tr>\n",
              "    <tr>\n",
              "      <th>2</th>\n",
              "      <td>This was a fairly interesting read.  It had ol...</td>\n",
              "      <td>4</td>\n",
              "    </tr>\n",
              "    <tr>\n",
              "      <th>3</th>\n",
              "      <td>I'd never read any of the Amy Brewster mysteri...</td>\n",
              "      <td>5</td>\n",
              "    </tr>\n",
              "    <tr>\n",
              "      <th>4</th>\n",
              "      <td>If you like period pieces - clothing, lingo, y...</td>\n",
              "      <td>4</td>\n",
              "    </tr>\n",
              "  </tbody>\n",
              "</table>\n",
              "</div>"
            ],
            "text/plain": [
              "                                          reviewText  overall\n",
              "0  I enjoy vintage books and movies so I enjoyed ...        5\n",
              "1  This book is a reissue of an old one; the auth...        4\n",
              "2  This was a fairly interesting read.  It had ol...        4\n",
              "3  I'd never read any of the Amy Brewster mysteri...        5\n",
              "4  If you like period pieces - clothing, lingo, y...        4"
            ]
          },
          "metadata": {
            "tags": []
          },
          "execution_count": 183
        }
      ]
    },
    {
      "cell_type": "code",
      "metadata": {
        "colab": {
          "base_uri": "https://localhost:8080/",
          "height": 517
        },
        "id": "1ywDYbPMJGg6",
        "outputId": "eeba9a89-54df-4060-e3cd-7f9a8b9e632a"
      },
      "source": [
        "# Remove punctuations, special characters and stopwords from the text column. Convert the text to lower case.\r\n",
        "\r\n",
        "punc = str.maketrans('', '', string.punctuation)\r\n",
        "#apply the empty mapping table to each element of the series where x is the review for one document.\r\n",
        "reviews['reviewText'] = reviews['reviewText'].apply(lambda x : ' '.join(word.translate(punc) for word in x.split()))\r\n",
        "\r\n",
        "#removing words that is non alpha\r\n",
        "reviews['reviewText'] = reviews['reviewText'].apply(lambda x: ' '.join(word for word in x.split() if word.isalpha()))\r\n",
        "\r\n",
        "#making all words to be lowercase\r\n",
        "reviews['reviewText'] = reviews['reviewText'].apply(lambda x: ' '.join(word.lower() for word in x.split()))\r\n",
        "\r\n",
        "\r\n",
        "reviews.head()\r\n"
      ],
      "execution_count": 184,
      "outputs": [
        {
          "output_type": "stream",
          "text": [
            "/usr/local/lib/python3.6/dist-packages/ipykernel_launcher.py:5: SettingWithCopyWarning: \n",
            "A value is trying to be set on a copy of a slice from a DataFrame.\n",
            "Try using .loc[row_indexer,col_indexer] = value instead\n",
            "\n",
            "See the caveats in the documentation: https://pandas.pydata.org/pandas-docs/stable/user_guide/indexing.html#returning-a-view-versus-a-copy\n",
            "  \"\"\"\n",
            "/usr/local/lib/python3.6/dist-packages/ipykernel_launcher.py:8: SettingWithCopyWarning: \n",
            "A value is trying to be set on a copy of a slice from a DataFrame.\n",
            "Try using .loc[row_indexer,col_indexer] = value instead\n",
            "\n",
            "See the caveats in the documentation: https://pandas.pydata.org/pandas-docs/stable/user_guide/indexing.html#returning-a-view-versus-a-copy\n",
            "  \n",
            "/usr/local/lib/python3.6/dist-packages/ipykernel_launcher.py:11: SettingWithCopyWarning: \n",
            "A value is trying to be set on a copy of a slice from a DataFrame.\n",
            "Try using .loc[row_indexer,col_indexer] = value instead\n",
            "\n",
            "See the caveats in the documentation: https://pandas.pydata.org/pandas-docs/stable/user_guide/indexing.html#returning-a-view-versus-a-copy\n",
            "  # This is added back by InteractiveShellApp.init_path()\n"
          ],
          "name": "stderr"
        },
        {
          "output_type": "execute_result",
          "data": {
            "text/html": [
              "<div>\n",
              "<style scoped>\n",
              "    .dataframe tbody tr th:only-of-type {\n",
              "        vertical-align: middle;\n",
              "    }\n",
              "\n",
              "    .dataframe tbody tr th {\n",
              "        vertical-align: top;\n",
              "    }\n",
              "\n",
              "    .dataframe thead th {\n",
              "        text-align: right;\n",
              "    }\n",
              "</style>\n",
              "<table border=\"1\" class=\"dataframe\">\n",
              "  <thead>\n",
              "    <tr style=\"text-align: right;\">\n",
              "      <th></th>\n",
              "      <th>reviewText</th>\n",
              "      <th>overall</th>\n",
              "    </tr>\n",
              "  </thead>\n",
              "  <tbody>\n",
              "    <tr>\n",
              "      <th>0</th>\n",
              "      <td>i enjoy vintage books and movies so i enjoyed ...</td>\n",
              "      <td>5</td>\n",
              "    </tr>\n",
              "    <tr>\n",
              "      <th>1</th>\n",
              "      <td>this book is a reissue of an old one the autho...</td>\n",
              "      <td>4</td>\n",
              "    </tr>\n",
              "    <tr>\n",
              "      <th>2</th>\n",
              "      <td>this was a fairly interesting read it had old ...</td>\n",
              "      <td>4</td>\n",
              "    </tr>\n",
              "    <tr>\n",
              "      <th>3</th>\n",
              "      <td>id never read any of the amy brewster mysterie...</td>\n",
              "      <td>5</td>\n",
              "    </tr>\n",
              "    <tr>\n",
              "      <th>4</th>\n",
              "      <td>if you like period pieces clothing lingo you w...</td>\n",
              "      <td>4</td>\n",
              "    </tr>\n",
              "  </tbody>\n",
              "</table>\n",
              "</div>"
            ],
            "text/plain": [
              "                                          reviewText  overall\n",
              "0  i enjoy vintage books and movies so i enjoyed ...        5\n",
              "1  this book is a reissue of an old one the autho...        4\n",
              "2  this was a fairly interesting read it had old ...        4\n",
              "3  id never read any of the amy brewster mysterie...        5\n",
              "4  if you like period pieces clothing lingo you w...        4"
            ]
          },
          "metadata": {
            "tags": []
          },
          "execution_count": 184
        }
      ]
    },
    {
      "cell_type": "code",
      "metadata": {
        "colab": {
          "base_uri": "https://localhost:8080/",
          "height": 0
        },
        "id": "xvzmuTkrO0D3",
        "outputId": "18431b9f-890a-4b3f-923a-a8c17d7a2a14"
      },
      "source": [
        "\r\n",
        "#list of stop words\r\n",
        "stop = stopwords.words('english')\r\n",
        "\r\n",
        "#removing the stop words\r\n",
        "reviews['reviewText'] = reviews['reviewText'].apply(lambda x : ' '.join(word for word in x.split() if word not in stop))\r\n",
        "\r\n",
        "# #Lemmatize words to reduce them to their root form. Note: added the pos = 'v' to reduce the incoming word to verb root\r\n",
        "# lem = WordNetLemmatizer()\r\n",
        "# reviews['reviewText'] = reviews['reviewText'].apply(lambda x : ' '.join(lem.lemmatize(word, pos = 'v') for word in x.split()))\r\n",
        "\r\n",
        "reviews.head()"
      ],
      "execution_count": 185,
      "outputs": [
        {
          "output_type": "stream",
          "text": [
            "/usr/local/lib/python3.6/dist-packages/ipykernel_launcher.py:6: SettingWithCopyWarning: \n",
            "A value is trying to be set on a copy of a slice from a DataFrame.\n",
            "Try using .loc[row_indexer,col_indexer] = value instead\n",
            "\n",
            "See the caveats in the documentation: https://pandas.pydata.org/pandas-docs/stable/user_guide/indexing.html#returning-a-view-versus-a-copy\n",
            "  \n"
          ],
          "name": "stderr"
        },
        {
          "output_type": "execute_result",
          "data": {
            "text/html": [
              "<div>\n",
              "<style scoped>\n",
              "    .dataframe tbody tr th:only-of-type {\n",
              "        vertical-align: middle;\n",
              "    }\n",
              "\n",
              "    .dataframe tbody tr th {\n",
              "        vertical-align: top;\n",
              "    }\n",
              "\n",
              "    .dataframe thead th {\n",
              "        text-align: right;\n",
              "    }\n",
              "</style>\n",
              "<table border=\"1\" class=\"dataframe\">\n",
              "  <thead>\n",
              "    <tr style=\"text-align: right;\">\n",
              "      <th></th>\n",
              "      <th>reviewText</th>\n",
              "      <th>overall</th>\n",
              "    </tr>\n",
              "  </thead>\n",
              "  <tbody>\n",
              "    <tr>\n",
              "      <th>0</th>\n",
              "      <td>enjoy vintage books movies enjoyed reading boo...</td>\n",
              "      <td>5</td>\n",
              "    </tr>\n",
              "    <tr>\n",
              "      <th>1</th>\n",
              "      <td>book reissue old one author born era say nero ...</td>\n",
              "      <td>4</td>\n",
              "    </tr>\n",
              "    <tr>\n",
              "      <th>2</th>\n",
              "      <td>fairly interesting read old style terminologyi...</td>\n",
              "      <td>4</td>\n",
              "    </tr>\n",
              "    <tr>\n",
              "      <th>3</th>\n",
              "      <td>id never read amy brewster mysteries one reall...</td>\n",
              "      <td>5</td>\n",
              "    </tr>\n",
              "    <tr>\n",
              "      <th>4</th>\n",
              "      <td>like period pieces clothing lingo enjoy myster...</td>\n",
              "      <td>4</td>\n",
              "    </tr>\n",
              "  </tbody>\n",
              "</table>\n",
              "</div>"
            ],
            "text/plain": [
              "                                          reviewText  overall\n",
              "0  enjoy vintage books movies enjoyed reading boo...        5\n",
              "1  book reissue old one author born era say nero ...        4\n",
              "2  fairly interesting read old style terminologyi...        4\n",
              "3  id never read amy brewster mysteries one reall...        5\n",
              "4  like period pieces clothing lingo enjoy myster...        4"
            ]
          },
          "metadata": {
            "tags": []
          },
          "execution_count": 185
        }
      ]
    },
    {
      "cell_type": "markdown",
      "metadata": {
        "id": "QeicoTGFRLie"
      },
      "source": [
        "## Split the data into training and testing sets"
      ]
    },
    {
      "cell_type": "code",
      "metadata": {
        "colab": {
          "base_uri": "https://localhost:8080/"
        },
        "id": "mPpRKYXES441",
        "outputId": "0577b40c-0a0a-484d-8e7e-1d52337a7c1c"
      },
      "source": [
        "X = reviews['reviewText']\r\n",
        "\r\n",
        "y = reviews['overall']\r\n",
        "\r\n",
        "print(X)"
      ],
      "execution_count": 186,
      "outputs": [
        {
          "output_type": "stream",
          "text": [
            "0         enjoy vintage books movies enjoyed reading boo...\n",
            "1         book reissue old one author born era say nero ...\n",
            "2         fairly interesting read old style terminologyi...\n",
            "3         id never read amy brewster mysteries one reall...\n",
            "4         like period pieces clothing lingo enjoy myster...\n",
            "                                ...                        \n",
            "982614    yasss hunny great read dre mess cherika refuse...\n",
            "982615    enjoyed book beginning end far lex hoe sneaky ...\n",
            "982616    great book cherika fool let man get away much ...\n",
            "982617    say excellent book please believe definitely p...\n",
            "982618    book everything hope alexus wise move lawd tho...\n",
            "Name: reviewText, Length: 982597, dtype: object\n"
          ],
          "name": "stdout"
        }
      ]
    },
    {
      "cell_type": "markdown",
      "metadata": {
        "id": "kPtNueYBRHxV"
      },
      "source": [
        "Coverting rating to positive and negative\r\n",
        "\r\n",
        "less than 3 = negative\r\n",
        "greater than 3 = positive"
      ]
    },
    {
      "cell_type": "code",
      "metadata": {
        "colab": {
          "base_uri": "https://localhost:8080/",
          "height": 304
        },
        "id": "8ZftGTzKRFE7",
        "outputId": "78aa5345-e30a-4b3c-f39b-0c4bd96a966d"
      },
      "source": [
        "reviews['overall'] = np.where(reviews['overall'] > 2, 1, 0)\r\n",
        "reviews.head()"
      ],
      "execution_count": 187,
      "outputs": [
        {
          "output_type": "stream",
          "text": [
            "/usr/local/lib/python3.6/dist-packages/ipykernel_launcher.py:1: SettingWithCopyWarning: \n",
            "A value is trying to be set on a copy of a slice from a DataFrame.\n",
            "Try using .loc[row_indexer,col_indexer] = value instead\n",
            "\n",
            "See the caveats in the documentation: https://pandas.pydata.org/pandas-docs/stable/user_guide/indexing.html#returning-a-view-versus-a-copy\n",
            "  \"\"\"Entry point for launching an IPython kernel.\n"
          ],
          "name": "stderr"
        },
        {
          "output_type": "execute_result",
          "data": {
            "text/html": [
              "<div>\n",
              "<style scoped>\n",
              "    .dataframe tbody tr th:only-of-type {\n",
              "        vertical-align: middle;\n",
              "    }\n",
              "\n",
              "    .dataframe tbody tr th {\n",
              "        vertical-align: top;\n",
              "    }\n",
              "\n",
              "    .dataframe thead th {\n",
              "        text-align: right;\n",
              "    }\n",
              "</style>\n",
              "<table border=\"1\" class=\"dataframe\">\n",
              "  <thead>\n",
              "    <tr style=\"text-align: right;\">\n",
              "      <th></th>\n",
              "      <th>reviewText</th>\n",
              "      <th>overall</th>\n",
              "    </tr>\n",
              "  </thead>\n",
              "  <tbody>\n",
              "    <tr>\n",
              "      <th>0</th>\n",
              "      <td>enjoy vintage books movies enjoyed reading boo...</td>\n",
              "      <td>1</td>\n",
              "    </tr>\n",
              "    <tr>\n",
              "      <th>1</th>\n",
              "      <td>book reissue old one author born era say nero ...</td>\n",
              "      <td>1</td>\n",
              "    </tr>\n",
              "    <tr>\n",
              "      <th>2</th>\n",
              "      <td>fairly interesting read old style terminologyi...</td>\n",
              "      <td>1</td>\n",
              "    </tr>\n",
              "    <tr>\n",
              "      <th>3</th>\n",
              "      <td>id never read amy brewster mysteries one reall...</td>\n",
              "      <td>1</td>\n",
              "    </tr>\n",
              "    <tr>\n",
              "      <th>4</th>\n",
              "      <td>like period pieces clothing lingo enjoy myster...</td>\n",
              "      <td>1</td>\n",
              "    </tr>\n",
              "  </tbody>\n",
              "</table>\n",
              "</div>"
            ],
            "text/plain": [
              "                                          reviewText  overall\n",
              "0  enjoy vintage books movies enjoyed reading boo...        1\n",
              "1  book reissue old one author born era say nero ...        1\n",
              "2  fairly interesting read old style terminologyi...        1\n",
              "3  id never read amy brewster mysteries one reall...        1\n",
              "4  like period pieces clothing lingo enjoy myster...        1"
            ]
          },
          "metadata": {
            "tags": []
          },
          "execution_count": 187
        }
      ]
    },
    {
      "cell_type": "code",
      "metadata": {
        "colab": {
          "base_uri": "https://localhost:8080/"
        },
        "id": "cLi5aPM_RdJ9",
        "outputId": "2bae2b8d-fc12-44e8-a8f6-140600770f1f"
      },
      "source": [
        "reviews.overall.value_counts()"
      ],
      "execution_count": 188,
      "outputs": [
        {
          "output_type": "execute_result",
          "data": {
            "text/plain": [
              "1    925449\n",
              "0     57148\n",
              "Name: overall, dtype: int64"
            ]
          },
          "metadata": {
            "tags": []
          },
          "execution_count": 188
        }
      ]
    },
    {
      "cell_type": "code",
      "metadata": {
        "id": "E-vjE8TlR0e5"
      },
      "source": [
        "Xtrain, Xtest, Ytrain, Ytest = train_test_split(X, y, test_size = .25, random_state = 42, stratify = y)\r\n",
        "\r\n"
      ],
      "execution_count": 189,
      "outputs": []
    },
    {
      "cell_type": "code",
      "metadata": {
        "colab": {
          "base_uri": "https://localhost:8080/"
        },
        "id": "oZAnl8AXScSe",
        "outputId": "e50f4375-f42c-4c8e-f8c4-921890f4b30d"
      },
      "source": [
        "print(np.unique(Ytrain.values,return_counts=True))"
      ],
      "execution_count": 190,
      "outputs": [
        {
          "output_type": "stream",
          "text": [
            "(array([0, 1]), array([ 42861, 694086]))\n"
          ],
          "name": "stdout"
        }
      ]
    },
    {
      "cell_type": "code",
      "metadata": {
        "colab": {
          "base_uri": "https://localhost:8080/"
        },
        "id": "2BwC2F2YSjiP",
        "outputId": "c4e47d39-82c0-4e8f-e8ab-33860f4d42a7"
      },
      "source": [
        "# size of the datsets\r\n",
        "\r\n",
        "print(\"\\n Xtrain :\\n\")\r\n",
        "print(Xtrain.head())\r\n",
        "print(Xtrain.shape)\r\n",
        "\r\n",
        "print(\"\\n Xtest :\\n\")\r\n",
        "print(Xtest.head())\r\n",
        "print(Xtest.shape)\r\n",
        "\r\n",
        "print(\"\\n Ytrain :\\n\")\r\n",
        "print(Ytrain.head())\r\n",
        "print(Ytrain.shape)\r\n",
        "\r\n",
        "print(\"\\n Ytest :\\n\")\r\n",
        "print(Ytest.head())\r\n",
        "print(Ytest.shape)\r\n"
      ],
      "execution_count": 191,
      "outputs": [
        {
          "output_type": "stream",
          "text": [
            "\n",
            " Xtrain :\n",
            "\n",
            "254057    nice case sturdy magnet works well product des...\n",
            "282137    found new favorite book long way joy read fell...\n",
            "608486    dear lordwhat thatshort freaking funfingtastic...\n",
            "913578    ok reason first review didnt take ugh anyways ...\n",
            "316334    great start series ive read second book alread...\n",
            "Name: reviewText, dtype: object\n",
            "(736947,)\n",
            "\n",
            " Xtest :\n",
            "\n",
            "238254    think youll enjoy one fun read surprise twists...\n",
            "376587    enjoyed book looking something short fun one f...\n",
            "154095    absolutely loved western ties sad wonderful se...\n",
            "353536    ill admit dont lot experience mass transit tra...\n",
            "314823    highly recommend book anyone interested becomi...\n",
            "Name: reviewText, dtype: object\n",
            "(245650,)\n",
            "\n",
            " Ytrain :\n",
            "\n",
            "254057    1\n",
            "282137    1\n",
            "608486    1\n",
            "913578    1\n",
            "316334    1\n",
            "Name: overall, dtype: int64\n",
            "(736947,)\n",
            "\n",
            " Ytest :\n",
            "\n",
            "238254    1\n",
            "376587    1\n",
            "154095    1\n",
            "353536    1\n",
            "314823    1\n",
            "Name: overall, dtype: int64\n",
            "(245650,)\n"
          ],
          "name": "stdout"
        }
      ]
    },
    {
      "cell_type": "code",
      "metadata": {
        "id": "sTHMwTXYGc6f"
      },
      "source": [
        "cv=CountVectorizer(min_df=0,max_df=1,ngram_range=(1,1))\r\n",
        "#transformed train reviews\r\n",
        "cv_train_reviews=cv.fit_transform(Xtrain)\r\n",
        "#transformed test reviews\r\n",
        "cv_test_reviews=cv.transform(Xtest)"
      ],
      "execution_count": 192,
      "outputs": []
    },
    {
      "cell_type": "code",
      "metadata": {
        "colab": {
          "base_uri": "https://localhost:8080/"
        },
        "id": "_b2bRsYFHxNd",
        "outputId": "8ad88b1a-83a5-4d58-a58a-8bfa8e94fddd"
      },
      "source": [
        "\r\n",
        "print(\"\\n cv_train_reviews :\\n\")\r\n",
        "# print(cv_train_reviews)\r\n",
        "print(cv_train_reviews.shape)\r\n",
        "\r\n",
        "print(\"\\n cv_test_reviews :\\n\")\r\n",
        "# print(cv_test_reviews)\r\n",
        "print(cv_test_reviews.shape)"
      ],
      "execution_count": 193,
      "outputs": [
        {
          "output_type": "stream",
          "text": [
            "\n",
            " cv_train_reviews :\n",
            "\n",
            "(736947, 496577)\n",
            "\n",
            " cv_test_reviews :\n",
            "\n",
            "(245650, 496577)\n"
          ],
          "name": "stdout"
        }
      ]
    },
    {
      "cell_type": "markdown",
      "metadata": {
        "id": "wVYVE4M6KDC1"
      },
      "source": [
        "## Train a Multinomial Naive Bayes model"
      ]
    },
    {
      "cell_type": "code",
      "metadata": {
        "colab": {
          "base_uri": "https://localhost:8080/"
        },
        "id": "-NKjxXpbKOr7",
        "outputId": "6a37e6f2-53bf-42d4-d4f7-9605aa2e14be"
      },
      "source": [
        "reviews.overall.value_counts()"
      ],
      "execution_count": 194,
      "outputs": [
        {
          "output_type": "execute_result",
          "data": {
            "text/plain": [
              "1    925449\n",
              "0     57148\n",
              "Name: overall, dtype: int64"
            ]
          },
          "metadata": {
            "tags": []
          },
          "execution_count": 194
        }
      ]
    },
    {
      "cell_type": "code",
      "metadata": {
        "colab": {
          "base_uri": "https://localhost:8080/"
        },
        "id": "oWEDEhM_Kc-c",
        "outputId": "bb5b8a9d-e9f5-45d3-b89b-a91099359ac0"
      },
      "source": [
        "\r\n",
        "nb = MultinomialNB()\r\n",
        "nb.fit(cv_train_reviews, Ytrain)\r\n"
      ],
      "execution_count": 195,
      "outputs": [
        {
          "output_type": "execute_result",
          "data": {
            "text/plain": [
              "MultinomialNB(alpha=1.0, class_prior=None, fit_prior=True)"
            ]
          },
          "metadata": {
            "tags": []
          },
          "execution_count": 195
        }
      ]
    },
    {
      "cell_type": "code",
      "metadata": {
        "colab": {
          "base_uri": "https://localhost:8080/"
        },
        "id": "3pmd1jbYPZQE",
        "outputId": "7301fb85-1a95-4db5-99fa-279c14762316"
      },
      "source": [
        "mnb_pred = nb.predict(cv_test_reviews)\r\n",
        "accuracy_score(Ytest,mnb_pred)"
      ],
      "execution_count": 196,
      "outputs": [
        {
          "output_type": "execute_result",
          "data": {
            "text/plain": [
              "0.9417870954610218"
            ]
          },
          "metadata": {
            "tags": []
          },
          "execution_count": 196
        }
      ]
    },
    {
      "cell_type": "code",
      "metadata": {
        "colab": {
          "base_uri": "https://localhost:8080/"
        },
        "id": "eTHr3LV6P7KT",
        "outputId": "15b25e0a-0b47-4f3f-ad6a-7e3a42d991b8"
      },
      "source": [
        "cv_report = classification_report(Ytest,mnb_pred,target_names = ['0','1'])\r\n",
        "print(cv_report)"
      ],
      "execution_count": 197,
      "outputs": [
        {
          "output_type": "stream",
          "text": [
            "              precision    recall  f1-score   support\n",
            "\n",
            "           0       0.26      0.00      0.00     14287\n",
            "           1       0.94      1.00      0.97    231363\n",
            "\n",
            "    accuracy                           0.94    245650\n",
            "   macro avg       0.60      0.50      0.49    245650\n",
            "weighted avg       0.90      0.94      0.91    245650\n",
            "\n"
          ],
          "name": "stdout"
        }
      ]
    },
    {
      "cell_type": "code",
      "metadata": {
        "colab": {
          "base_uri": "https://localhost:8080/"
        },
        "id": "5KvTeWt9QTec",
        "outputId": "5742fe66-2a5e-4061-eacd-0a5cac25a609"
      },
      "source": [
        "cm_cv = confusion_matrix(Ytest,mnb_pred)\r\n",
        "cm_cv"
      ],
      "execution_count": 198,
      "outputs": [
        {
          "output_type": "execute_result",
          "data": {
            "text/plain": [
              "array([[     7,  14280],\n",
              "       [    20, 231343]])"
            ]
          },
          "metadata": {
            "tags": []
          },
          "execution_count": 198
        }
      ]
    },
    {
      "cell_type": "code",
      "metadata": {
        "id": "E8fXjsT-QfPb"
      },
      "source": [
        "cm_cv = pd.DataFrame(cm_cv, index=[0,4], columns=[0,4])\r\n",
        "cm_cv.index.name = 'Actual'\r\n",
        "cm_cv.columns.name = 'Predicted'"
      ],
      "execution_count": 199,
      "outputs": []
    },
    {
      "cell_type": "code",
      "metadata": {
        "colab": {
          "base_uri": "https://localhost:8080/",
          "height": 0
        },
        "id": "jTMB-ceyQf30",
        "outputId": "1d04e422-cbf0-4cea-f005-b5eb341fd647"
      },
      "source": [
        "plt.figure(figsize = (10,10))\r\n",
        "sns.heatmap(cm_cv,cmap= \"Blues\",annot = True, fmt='')"
      ],
      "execution_count": 200,
      "outputs": [
        {
          "output_type": "execute_result",
          "data": {
            "text/plain": [
              "<matplotlib.axes._subplots.AxesSubplot at 0x7f7bff3a5390>"
            ]
          },
          "metadata": {
            "tags": []
          },
          "execution_count": 200
        },
        {
          "output_type": "display_data",
          "data": {
            "image/png": "[encoded data removed]",
            "text/plain": [
              "<Figure size 720x720 with 2 Axes>"
            ]
          },
          "metadata": {
            "tags": [],
            "needs_background": "light"
          }
        }
      ]
    },
    {
      "cell_type": "code",
      "metadata": {
        "colab": {
          "base_uri": "https://localhost:8080/"
        },
        "id": "QpbPa0MuPa2E",
        "outputId": "61e873f9-2b06-4d4d-d769-4c5991770b38"
      },
      "source": [
        "print('Training Accuracy: {:.2f}'.format(nb.score(cv_train_reviews, Ytrain)))\r\n",
        "print('Testing Accuracy: {:.2f}'.format(nb.score(cv_test_reviews, Ytest)))"
      ],
      "execution_count": 201,
      "outputs": [
        {
          "output_type": "stream",
          "text": [
            "Training Accuracy: 0.95\n",
            "Testing Accuracy: 0.94\n"
          ],
          "name": "stdout"
        }
      ]
    },
    {
      "cell_type": "markdown",
      "metadata": {
        "id": "xSgzLVdlSAIT"
      },
      "source": [
        "## POS tagging"
      ]
    },
    {
      "cell_type": "markdown",
      "metadata": {
        "id": "49xj1PM-hNv6"
      },
      "source": [
        "Steps Involved:\r\n",
        "\r\n",
        "1. Tokenize text (word_tokenize)\r\n",
        "2. apply pos_tag to above step that is nltk.pos_tag(tokenize_text)\r\n",
        "\r\n",
        "Ref : https://medium.com/@gianpaul.r/tokenization-and-parts-of-speech-pos-tagging-in-pythons-nltk-library-2d30f70af13b"
      ]
    },
    {
      "cell_type": "code",
      "metadata": {
        "id": "W7bQxjKIg1TT"
      },
      "source": [
        "def POSTagMethod(ptData):\r\n",
        "  for i in ptData:\r\n",
        "    print(i)\r\n",
        "    tokens = nltk.word_tokenize(i)\r\n",
        "    print(\"\\t Tokens : \", tokens)\r\n",
        "    postext = nltk.pos_tag(tokens)\r\n",
        "    print(\"\\t Parts Of Speech : \", postext)\r\n",
        "    print('\\n')\r\n",
        "  \r\n"
      ],
      "execution_count": 202,
      "outputs": []
    },
    {
      "cell_type": "code",
      "metadata": {
        "colab": {
          "base_uri": "https://localhost:8080/"
        },
        "id": "FLWb6q9FbJK7",
        "outputId": "ce902a98-20d7-43bb-8b14-f7a4bc5a0a95"
      },
      "source": [
        "# Post Tagging method called for pre processed data\r\n",
        "ptData1 = X.head(4)\r\n",
        "print(ptData1)"
      ],
      "execution_count": 203,
      "outputs": [
        {
          "output_type": "stream",
          "text": [
            "0    enjoy vintage books movies enjoyed reading boo...\n",
            "1    book reissue old one author born era say nero ...\n",
            "2    fairly interesting read old style terminologyi...\n",
            "3    id never read amy brewster mysteries one reall...\n",
            "Name: reviewText, dtype: object\n"
          ],
          "name": "stdout"
        }
      ]
    },
    {
      "cell_type": "code",
      "metadata": {
        "colab": {
          "base_uri": "https://localhost:8080/"
        },
        "id": "-S8G0PZ9oYja",
        "outputId": "3e19a9a9-b366-46d1-986d-0385d9e2090f"
      },
      "source": [
        "POSTagMethod(ptData1)"
      ],
      "execution_count": 204,
      "outputs": [
        {
          "output_type": "stream",
          "text": [
            "enjoy vintage books movies enjoyed reading book plot unusual dont think killing someone selfdefense leaving scene body without notifying police hitting someone jaw knock would wash todaystill good read\n",
            "\t Tokens :  ['enjoy', 'vintage', 'books', 'movies', 'enjoyed', 'reading', 'book', 'plot', 'unusual', 'dont', 'think', 'killing', 'someone', 'selfdefense', 'leaving', 'scene', 'body', 'without', 'notifying', 'police', 'hitting', 'someone', 'jaw', 'knock', 'would', 'wash', 'todaystill', 'good', 'read']\n",
            "\t Parts Of Speech :  [('enjoy', 'NN'), ('vintage', 'NN'), ('books', 'NNS'), ('movies', 'NNS'), ('enjoyed', 'VBD'), ('reading', 'VBG'), ('book', 'NN'), ('plot', 'NN'), ('unusual', 'JJ'), ('dont', 'NN'), ('think', 'VBP'), ('killing', 'VBG'), ('someone', 'NN'), ('selfdefense', 'NN'), ('leaving', 'VBG'), ('scene', 'NN'), ('body', 'NN'), ('without', 'IN'), ('notifying', 'VBG'), ('police', 'NN'), ('hitting', 'VBG'), ('someone', 'NN'), ('jaw', 'NN'), ('knock', 'NN'), ('would', 'MD'), ('wash', 'VB'), ('todaystill', 'RB'), ('good', 'JJ'), ('read', 'NN')]\n",
            "\n",
            "\n",
            "book reissue old one author born era say nero wolfe introduction quite interesting explaining author hes forgotten id never heard himthe language little dated times like calling gun also made good use fires dictionary look words like still well worth looksee\n",
            "\t Tokens :  ['book', 'reissue', 'old', 'one', 'author', 'born', 'era', 'say', 'nero', 'wolfe', 'introduction', 'quite', 'interesting', 'explaining', 'author', 'hes', 'forgotten', 'id', 'never', 'heard', 'himthe', 'language', 'little', 'dated', 'times', 'like', 'calling', 'gun', 'also', 'made', 'good', 'use', 'fires', 'dictionary', 'look', 'words', 'like', 'still', 'well', 'worth', 'looksee']\n",
            "\t Parts Of Speech :  [('book', 'NN'), ('reissue', 'NN'), ('old', 'JJ'), ('one', 'CD'), ('author', 'NN'), ('born', 'VBN'), ('era', 'NNS'), ('say', 'VBP'), ('nero', 'JJ'), ('wolfe', 'JJ'), ('introduction', 'NN'), ('quite', 'RB'), ('interesting', 'JJ'), ('explaining', 'VBG'), ('author', 'NN'), ('hes', 'NNS'), ('forgotten', 'VBP'), ('id', 'JJ'), ('never', 'RB'), ('heard', 'VBP'), ('himthe', 'JJ'), ('language', 'NN'), ('little', 'RB'), ('dated', 'JJ'), ('times', 'NNS'), ('like', 'IN'), ('calling', 'VBG'), ('gun', 'NN'), ('also', 'RB'), ('made', 'VBD'), ('good', 'JJ'), ('use', 'NN'), ('fires', 'NNS'), ('dictionary', 'JJ'), ('look', 'VBP'), ('words', 'NNS'), ('like', 'IN'), ('still', 'RB'), ('well', 'RB'), ('worth', 'JJ'), ('looksee', 'NN')]\n",
            "\n",
            "\n",
            "fairly interesting read old style terminologyi glad get read story doesnt coarse crasslanguage read fun relaxationi like free ebooksbecause check writer decide intriguinginnovative enough command englishthat convey story without crude language\n",
            "\t Tokens :  ['fairly', 'interesting', 'read', 'old', 'style', 'terminologyi', 'glad', 'get', 'read', 'story', 'doesnt', 'coarse', 'crasslanguage', 'read', 'fun', 'relaxationi', 'like', 'free', 'ebooksbecause', 'check', 'writer', 'decide', 'intriguinginnovative', 'enough', 'command', 'englishthat', 'convey', 'story', 'without', 'crude', 'language']\n",
            "\t Parts Of Speech :  [('fairly', 'RB'), ('interesting', 'JJ'), ('read', 'JJ'), ('old', 'JJ'), ('style', 'NN'), ('terminologyi', 'NN'), ('glad', 'JJ'), ('get', 'NN'), ('read', 'JJ'), ('story', 'NN'), ('doesnt', 'JJ'), ('coarse', 'JJ'), ('crasslanguage', 'NN'), ('read', 'VBD'), ('fun', 'JJ'), ('relaxationi', 'NNS'), ('like', 'IN'), ('free', 'JJ'), ('ebooksbecause', 'NN'), ('check', 'NN'), ('writer', 'NN'), ('decide', 'VBP'), ('intriguinginnovative', 'JJ'), ('enough', 'RB'), ('command', 'NN'), ('englishthat', 'WP'), ('convey', 'VBZ'), ('story', 'NN'), ('without', 'IN'), ('crude', 'NN'), ('language', 'NN')]\n",
            "\n",
            "\n",
            "id never read amy brewster mysteries one really hooked\n",
            "\t Tokens :  ['id', 'never', 'read', 'amy', 'brewster', 'mysteries', 'one', 'really', 'hooked']\n",
            "\t Parts Of Speech :  [('id', 'NN'), ('never', 'RB'), ('read', 'VBD'), ('amy', 'JJ'), ('brewster', 'NN'), ('mysteries', 'NNS'), ('one', 'CD'), ('really', 'RB'), ('hooked', 'JJ')]\n",
            "\n",
            "\n"
          ],
          "name": "stdout"
        }
      ]
    },
    {
      "cell_type": "code",
      "metadata": {
        "colab": {
          "base_uri": "https://localhost:8080/"
        },
        "id": "cfvR54Eymle0",
        "outputId": "ca569cc6-5a58-428a-bf2f-4df514f02b12"
      },
      "source": [
        "# Post Tagging method called for Original data\r\n",
        "ptData2 = originalReviewText.head(4)\r\n",
        "print(ptData2)"
      ],
      "execution_count": 205,
      "outputs": [
        {
          "output_type": "stream",
          "text": [
            "0    I enjoy vintage books and movies so I enjoyed ...\n",
            "1    This book is a reissue of an old one; the auth...\n",
            "2    This was a fairly interesting read.  It had ol...\n",
            "3    I'd never read any of the Amy Brewster mysteri...\n",
            "Name: reviewText, dtype: object\n"
          ],
          "name": "stdout"
        }
      ]
    },
    {
      "cell_type": "code",
      "metadata": {
        "colab": {
          "base_uri": "https://localhost:8080/"
        },
        "id": "LTKgRHKmov2x",
        "outputId": "10d583bb-e819-41de-f24e-6616961857c8"
      },
      "source": [
        "POSTagMethod(ptData2)"
      ],
      "execution_count": 206,
      "outputs": [
        {
          "output_type": "stream",
          "text": [
            "I enjoy vintage books and movies so I enjoyed reading this book.  The plot was unusual.  Don't think killing someone in self-defense but leaving the scene and the body without notifying the police or hitting someone in the jaw to knock them out would wash today.Still it was a good read for me.\n",
            "\t Tokens :  ['I', 'enjoy', 'vintage', 'books', 'and', 'movies', 'so', 'I', 'enjoyed', 'reading', 'this', 'book', '.', 'The', 'plot', 'was', 'unusual', '.', 'Do', \"n't\", 'think', 'killing', 'someone', 'in', 'self-defense', 'but', 'leaving', 'the', 'scene', 'and', 'the', 'body', 'without', 'notifying', 'the', 'police', 'or', 'hitting', 'someone', 'in', 'the', 'jaw', 'to', 'knock', 'them', 'out', 'would', 'wash', 'today.Still', 'it', 'was', 'a', 'good', 'read', 'for', 'me', '.']\n",
            "\t Parts Of Speech :  [('I', 'PRP'), ('enjoy', 'VBP'), ('vintage', 'JJ'), ('books', 'NNS'), ('and', 'CC'), ('movies', 'NNS'), ('so', 'RB'), ('I', 'PRP'), ('enjoyed', 'VBP'), ('reading', 'VBG'), ('this', 'DT'), ('book', 'NN'), ('.', '.'), ('The', 'DT'), ('plot', 'NN'), ('was', 'VBD'), ('unusual', 'JJ'), ('.', '.'), ('Do', 'VBP'), (\"n't\", 'RB'), ('think', 'VB'), ('killing', 'VBG'), ('someone', 'NN'), ('in', 'IN'), ('self-defense', 'JJ'), ('but', 'CC'), ('leaving', 'VBG'), ('the', 'DT'), ('scene', 'NN'), ('and', 'CC'), ('the', 'DT'), ('body', 'NN'), ('without', 'IN'), ('notifying', 'VBG'), ('the', 'DT'), ('police', 'NN'), ('or', 'CC'), ('hitting', 'VBG'), ('someone', 'NN'), ('in', 'IN'), ('the', 'DT'), ('jaw', 'NN'), ('to', 'TO'), ('knock', 'VB'), ('them', 'PRP'), ('out', 'RP'), ('would', 'MD'), ('wash', 'VB'), ('today.Still', 'VB'), ('it', 'PRP'), ('was', 'VBD'), ('a', 'DT'), ('good', 'JJ'), ('read', 'NN'), ('for', 'IN'), ('me', 'PRP'), ('.', '.')]\n",
            "\n",
            "\n",
            "This book is a reissue of an old one; the author was born in 1910. It's of the era of, say, Nero Wolfe. The introduction was quite interesting, explaining who the author was and why he's been forgotten; I'd never heard of him.The language is a little dated at times, like calling a gun a &#34;heater.&#34;  I also made good use of my Fire's dictionary to look up words like &#34;deshabille&#34; and &#34;Canarsie.&#34; Still, it was well worth a look-see.\n",
            "\t Tokens :  ['This', 'book', 'is', 'a', 'reissue', 'of', 'an', 'old', 'one', ';', 'the', 'author', 'was', 'born', 'in', '1910', '.', 'It', \"'s\", 'of', 'the', 'era', 'of', ',', 'say', ',', 'Nero', 'Wolfe', '.', 'The', 'introduction', 'was', 'quite', 'interesting', ',', 'explaining', 'who', 'the', 'author', 'was', 'and', 'why', 'he', \"'s\", 'been', 'forgotten', ';', 'I', \"'d\", 'never', 'heard', 'of', 'him.The', 'language', 'is', 'a', 'little', 'dated', 'at', 'times', ',', 'like', 'calling', 'a', 'gun', 'a', '&', '#', '34', ';', 'heater.', '&', '#', '34', ';', 'I', 'also', 'made', 'good', 'use', 'of', 'my', 'Fire', \"'s\", 'dictionary', 'to', 'look', 'up', 'words', 'like', '&', '#', '34', ';', 'deshabille', '&', '#', '34', ';', 'and', '&', '#', '34', ';', 'Canarsie.', '&', '#', '34', ';', 'Still', ',', 'it', 'was', 'well', 'worth', 'a', 'look-see', '.']\n",
            "\t Parts Of Speech :  [('This', 'DT'), ('book', 'NN'), ('is', 'VBZ'), ('a', 'DT'), ('reissue', 'NN'), ('of', 'IN'), ('an', 'DT'), ('old', 'JJ'), ('one', 'CD'), (';', ':'), ('the', 'DT'), ('author', 'NN'), ('was', 'VBD'), ('born', 'VBN'), ('in', 'IN'), ('1910', 'CD'), ('.', '.'), ('It', 'PRP'), (\"'s\", 'VBZ'), ('of', 'IN'), ('the', 'DT'), ('era', 'NN'), ('of', 'IN'), (',', ','), ('say', 'UH'), (',', ','), ('Nero', 'NNP'), ('Wolfe', 'NNP'), ('.', '.'), ('The', 'DT'), ('introduction', 'NN'), ('was', 'VBD'), ('quite', 'RB'), ('interesting', 'JJ'), (',', ','), ('explaining', 'VBG'), ('who', 'WP'), ('the', 'DT'), ('author', 'NN'), ('was', 'VBD'), ('and', 'CC'), ('why', 'WRB'), ('he', 'PRP'), (\"'s\", 'VBZ'), ('been', 'VBN'), ('forgotten', 'JJ'), (';', ':'), ('I', 'PRP'), (\"'d\", 'MD'), ('never', 'RB'), ('heard', 'VB'), ('of', 'IN'), ('him.The', 'JJ'), ('language', 'NN'), ('is', 'VBZ'), ('a', 'DT'), ('little', 'JJ'), ('dated', 'VBN'), ('at', 'IN'), ('times', 'NNS'), (',', ','), ('like', 'IN'), ('calling', 'VBG'), ('a', 'DT'), ('gun', 'NN'), ('a', 'DT'), ('&', 'CC'), ('#', '#'), ('34', 'CD'), (';', ':'), ('heater.', 'NN'), ('&', 'CC'), ('#', '#'), ('34', 'CD'), (';', ':'), ('I', 'PRP'), ('also', 'RB'), ('made', 'VBD'), ('good', 'JJ'), ('use', 'NN'), ('of', 'IN'), ('my', 'PRP$'), ('Fire', 'NNP'), (\"'s\", 'POS'), ('dictionary', 'JJ'), ('to', 'TO'), ('look', 'VB'), ('up', 'RP'), ('words', 'NNS'), ('like', 'IN'), ('&', 'CC'), ('#', '#'), ('34', 'CD'), (';', ':'), ('deshabille', 'NNP'), ('&', 'CC'), ('#', '#'), ('34', 'CD'), (';', ':'), ('and', 'CC'), ('&', 'CC'), ('#', '#'), ('34', 'CD'), (';', ':'), ('Canarsie.', 'NNP'), ('&', 'CC'), ('#', '#'), ('34', 'CD'), (';', ':'), ('Still', 'RB'), (',', ','), ('it', 'PRP'), ('was', 'VBD'), ('well', 'RB'), ('worth', 'IN'), ('a', 'DT'), ('look-see', 'NN'), ('.', '.')]\n",
            "\n",
            "\n",
            "This was a fairly interesting read.  It had old- style terminology.I was glad to get  to read a story that doesn't have coarse, crasslanguage.  I read for fun and relaxation......I like the free ebooksbecause I can check out a writer and decide if they are intriguing,innovative, and have enough of the command of Englishthat they can convey the story without crude language.\n",
            "\t Tokens :  ['This', 'was', 'a', 'fairly', 'interesting', 'read', '.', 'It', 'had', 'old-', 'style', 'terminology.I', 'was', 'glad', 'to', 'get', 'to', 'read', 'a', 'story', 'that', 'does', \"n't\", 'have', 'coarse', ',', 'crasslanguage', '.', 'I', 'read', 'for', 'fun', 'and', 'relaxation', '...', '...', 'I', 'like', 'the', 'free', 'ebooksbecause', 'I', 'can', 'check', 'out', 'a', 'writer', 'and', 'decide', 'if', 'they', 'are', 'intriguing', ',', 'innovative', ',', 'and', 'have', 'enough', 'of', 'the', 'command', 'of', 'Englishthat', 'they', 'can', 'convey', 'the', 'story', 'without', 'crude', 'language', '.']\n",
            "\t Parts Of Speech :  [('This', 'DT'), ('was', 'VBD'), ('a', 'DT'), ('fairly', 'RB'), ('interesting', 'JJ'), ('read', 'NN'), ('.', '.'), ('It', 'PRP'), ('had', 'VBD'), ('old-', 'JJ'), ('style', 'NN'), ('terminology.I', 'NN'), ('was', 'VBD'), ('glad', 'VBN'), ('to', 'TO'), ('get', 'VB'), ('to', 'TO'), ('read', 'VB'), ('a', 'DT'), ('story', 'NN'), ('that', 'WDT'), ('does', 'VBZ'), (\"n't\", 'RB'), ('have', 'VB'), ('coarse', 'NN'), (',', ','), ('crasslanguage', 'NN'), ('.', '.'), ('I', 'PRP'), ('read', 'VBP'), ('for', 'IN'), ('fun', 'NN'), ('and', 'CC'), ('relaxation', 'NN'), ('...', ':'), ('...', ':'), ('I', 'PRP'), ('like', 'IN'), ('the', 'DT'), ('free', 'JJ'), ('ebooksbecause', 'NN'), ('I', 'PRP'), ('can', 'MD'), ('check', 'VB'), ('out', 'RP'), ('a', 'DT'), ('writer', 'NN'), ('and', 'CC'), ('decide', 'VB'), ('if', 'IN'), ('they', 'PRP'), ('are', 'VBP'), ('intriguing', 'VBG'), (',', ','), ('innovative', 'JJ'), (',', ','), ('and', 'CC'), ('have', 'VBP'), ('enough', 'VBN'), ('of', 'IN'), ('the', 'DT'), ('command', 'NN'), ('of', 'IN'), ('Englishthat', 'NNP'), ('they', 'PRP'), ('can', 'MD'), ('convey', 'VB'), ('the', 'DT'), ('story', 'NN'), ('without', 'IN'), ('crude', 'JJ'), ('language', 'NN'), ('.', '.')]\n",
            "\n",
            "\n",
            "I'd never read any of the Amy Brewster mysteries until this one..  So I am really hooked on them now.\n",
            "\t Tokens :  ['I', \"'d\", 'never', 'read', 'any', 'of', 'the', 'Amy', 'Brewster', 'mysteries', 'until', 'this', 'one..', 'So', 'I', 'am', 'really', 'hooked', 'on', 'them', 'now', '.']\n",
            "\t Parts Of Speech :  [('I', 'PRP'), (\"'d\", 'MD'), ('never', 'RB'), ('read', 'VB'), ('any', 'DT'), ('of', 'IN'), ('the', 'DT'), ('Amy', 'NNP'), ('Brewster', 'NNP'), ('mysteries', 'NNS'), ('until', 'IN'), ('this', 'DT'), ('one..', 'VBZ'), ('So', 'RB'), ('I', 'PRP'), ('am', 'VBP'), ('really', 'RB'), ('hooked', 'VBN'), ('on', 'IN'), ('them', 'PRP'), ('now', 'RB'), ('.', '.')]\n",
            "\n",
            "\n"
          ],
          "name": "stdout"
        }
      ]
    },
    {
      "cell_type": "markdown",
      "metadata": {
        "id": "M2zP4MNBo8p3"
      },
      "source": [
        "## Dependency Parser Tree"
      ]
    },
    {
      "cell_type": "markdown",
      "metadata": {
        "id": "fcLfgzukpZ9q"
      },
      "source": [
        "Build and display a dependency parser tree for the sentence:\r\n",
        "\r\n",
        "“He staunchly opposes Jon's proposal to allow the wildlings to pass through the Wall before the White Walkers reach them and later participates in the mutiny against Jon, being the second to stab him.”"
      ]
    },
    {
      "cell_type": "code",
      "metadata": {
        "colab": {
          "base_uri": "https://localhost:8080/",
          "height": 628
        },
        "id": "o3Vbav3ipfcD",
        "outputId": "de0d85ab-ea6b-429f-e4cf-c8b578518ef5"
      },
      "source": [
        "sentence = \"He staunchly opposes Jon's proposal to allow the wildlings to pass through the Wall before the White Walkers reach them and later participates in the mutiny against Jon, being the second to stab him.\"\r\n",
        "\r\n",
        "doc = nlp(sentence)\r\n",
        "options = {\"compact\": True, \"bg\": \"#09a3d5\",\r\n",
        "           \"color\": \"white\", \"font\": \"Source Sans Pro\"}\r\n",
        "displacy.render(doc,style=\"dep\",options=options,jupyter=True)\r\n"
      ],
      "execution_count": 207,
      "outputs": [
        {
          "output_type": "display_data",
          "data": {
            "text/html": [
              "<span class=\"tex2jax_ignore\"><svg xmlns=\"http://www.w3.org/2000/svg\" xmlns:xlink=\"http://www.w3.org/1999/xlink\" xml:lang=\"en\" id=\"88a1a86c8c414bcb965d38f189ed7d00-0\" class=\"displacy\" width=\"5300\" height=\"587.0\" direction=\"ltr\" style=\"max-width: none; height: 587.0px; color: white; background: #09a3d5; font-family: Source Sans Pro; direction: ltr\">\n",
              "<text class=\"displacy-token\" fill=\"currentColor\" text-anchor=\"middle\" y=\"497.0\">\n",
              "    <tspan class=\"displacy-word\" fill=\"currentColor\" x=\"50\">He</tspan>\n",
              "    <tspan class=\"displacy-tag\" dy=\"2em\" fill=\"currentColor\" x=\"50\">PRON</tspan>\n",
              "</text>\n",
              "\n",
              "<text class=\"displacy-token\" fill=\"currentColor\" text-anchor=\"middle\" y=\"497.0\">\n",
              "    <tspan class=\"displacy-word\" fill=\"currentColor\" x=\"200\">staunchly</tspan>\n",
              "    <tspan class=\"displacy-tag\" dy=\"2em\" fill=\"currentColor\" x=\"200\">ADV</tspan>\n",
              "</text>\n",
              "\n",
              "<text class=\"displacy-token\" fill=\"currentColor\" text-anchor=\"middle\" y=\"497.0\">\n",
              "    <tspan class=\"displacy-word\" fill=\"currentColor\" x=\"350\">opposes</tspan>\n",
              "    <tspan class=\"displacy-tag\" dy=\"2em\" fill=\"currentColor\" x=\"350\">VERB</tspan>\n",
              "</text>\n",
              "\n",
              "<text class=\"displacy-token\" fill=\"currentColor\" text-anchor=\"middle\" y=\"497.0\">\n",
              "    <tspan class=\"displacy-word\" fill=\"currentColor\" x=\"500\">Jon</tspan>\n",
              "    <tspan class=\"displacy-tag\" dy=\"2em\" fill=\"currentColor\" x=\"500\">PROPN</tspan>\n",
              "</text>\n",
              "\n",
              "<text class=\"displacy-token\" fill=\"currentColor\" text-anchor=\"middle\" y=\"497.0\">\n",
              "    <tspan class=\"displacy-word\" fill=\"currentColor\" x=\"650\">'s</tspan>\n",
              "    <tspan class=\"displacy-tag\" dy=\"2em\" fill=\"currentColor\" x=\"650\">PART</tspan>\n",
              "</text>\n",
              "\n",
              "<text class=\"displacy-token\" fill=\"currentColor\" text-anchor=\"middle\" y=\"497.0\">\n",
              "    <tspan class=\"displacy-word\" fill=\"currentColor\" x=\"800\">proposal</tspan>\n",
              "    <tspan class=\"displacy-tag\" dy=\"2em\" fill=\"currentColor\" x=\"800\">NOUN</tspan>\n",
              "</text>\n",
              "\n",
              "<text class=\"displacy-token\" fill=\"currentColor\" text-anchor=\"middle\" y=\"497.0\">\n",
              "    <tspan class=\"displacy-word\" fill=\"currentColor\" x=\"950\">to</tspan>\n",
              "    <tspan class=\"displacy-tag\" dy=\"2em\" fill=\"currentColor\" x=\"950\">PART</tspan>\n",
              "</text>\n",
              "\n",
              "<text class=\"displacy-token\" fill=\"currentColor\" text-anchor=\"middle\" y=\"497.0\">\n",
              "    <tspan class=\"displacy-word\" fill=\"currentColor\" x=\"1100\">allow</tspan>\n",
              "    <tspan class=\"displacy-tag\" dy=\"2em\" fill=\"currentColor\" x=\"1100\">VERB</tspan>\n",
              "</text>\n",
              "\n",
              "<text class=\"displacy-token\" fill=\"currentColor\" text-anchor=\"middle\" y=\"497.0\">\n",
              "    <tspan class=\"displacy-word\" fill=\"currentColor\" x=\"1250\">the</tspan>\n",
              "    <tspan class=\"displacy-tag\" dy=\"2em\" fill=\"currentColor\" x=\"1250\">DET</tspan>\n",
              "</text>\n",
              "\n",
              "<text class=\"displacy-token\" fill=\"currentColor\" text-anchor=\"middle\" y=\"497.0\">\n",
              "    <tspan class=\"displacy-word\" fill=\"currentColor\" x=\"1400\">wildlings</tspan>\n",
              "    <tspan class=\"displacy-tag\" dy=\"2em\" fill=\"currentColor\" x=\"1400\">NOUN</tspan>\n",
              "</text>\n",
              "\n",
              "<text class=\"displacy-token\" fill=\"currentColor\" text-anchor=\"middle\" y=\"497.0\">\n",
              "    <tspan class=\"displacy-word\" fill=\"currentColor\" x=\"1550\">to</tspan>\n",
              "    <tspan class=\"displacy-tag\" dy=\"2em\" fill=\"currentColor\" x=\"1550\">PART</tspan>\n",
              "</text>\n",
              "\n",
              "<text class=\"displacy-token\" fill=\"currentColor\" text-anchor=\"middle\" y=\"497.0\">\n",
              "    <tspan class=\"displacy-word\" fill=\"currentColor\" x=\"1700\">pass</tspan>\n",
              "    <tspan class=\"displacy-tag\" dy=\"2em\" fill=\"currentColor\" x=\"1700\">VERB</tspan>\n",
              "</text>\n",
              "\n",
              "<text class=\"displacy-token\" fill=\"currentColor\" text-anchor=\"middle\" y=\"497.0\">\n",
              "    <tspan class=\"displacy-word\" fill=\"currentColor\" x=\"1850\">through</tspan>\n",
              "    <tspan class=\"displacy-tag\" dy=\"2em\" fill=\"currentColor\" x=\"1850\">ADP</tspan>\n",
              "</text>\n",
              "\n",
              "<text class=\"displacy-token\" fill=\"currentColor\" text-anchor=\"middle\" y=\"497.0\">\n",
              "    <tspan class=\"displacy-word\" fill=\"currentColor\" x=\"2000\">the</tspan>\n",
              "    <tspan class=\"displacy-tag\" dy=\"2em\" fill=\"currentColor\" x=\"2000\">DET</tspan>\n",
              "</text>\n",
              "\n",
              "<text class=\"displacy-token\" fill=\"currentColor\" text-anchor=\"middle\" y=\"497.0\">\n",
              "    <tspan class=\"displacy-word\" fill=\"currentColor\" x=\"2150\">Wall</tspan>\n",
              "    <tspan class=\"displacy-tag\" dy=\"2em\" fill=\"currentColor\" x=\"2150\">PROPN</tspan>\n",
              "</text>\n",
              "\n",
              "<text class=\"displacy-token\" fill=\"currentColor\" text-anchor=\"middle\" y=\"497.0\">\n",
              "    <tspan class=\"displacy-word\" fill=\"currentColor\" x=\"2300\">before</tspan>\n",
              "    <tspan class=\"displacy-tag\" dy=\"2em\" fill=\"currentColor\" x=\"2300\">ADP</tspan>\n",
              "</text>\n",
              "\n",
              "<text class=\"displacy-token\" fill=\"currentColor\" text-anchor=\"middle\" y=\"497.0\">\n",
              "    <tspan class=\"displacy-word\" fill=\"currentColor\" x=\"2450\">the</tspan>\n",
              "    <tspan class=\"displacy-tag\" dy=\"2em\" fill=\"currentColor\" x=\"2450\">DET</tspan>\n",
              "</text>\n",
              "\n",
              "<text class=\"displacy-token\" fill=\"currentColor\" text-anchor=\"middle\" y=\"497.0\">\n",
              "    <tspan class=\"displacy-word\" fill=\"currentColor\" x=\"2600\">White</tspan>\n",
              "    <tspan class=\"displacy-tag\" dy=\"2em\" fill=\"currentColor\" x=\"2600\">PROPN</tspan>\n",
              "</text>\n",
              "\n",
              "<text class=\"displacy-token\" fill=\"currentColor\" text-anchor=\"middle\" y=\"497.0\">\n",
              "    <tspan class=\"displacy-word\" fill=\"currentColor\" x=\"2750\">Walkers</tspan>\n",
              "    <tspan class=\"displacy-tag\" dy=\"2em\" fill=\"currentColor\" x=\"2750\">PROPN</tspan>\n",
              "</text>\n",
              "\n",
              "<text class=\"displacy-token\" fill=\"currentColor\" text-anchor=\"middle\" y=\"497.0\">\n",
              "    <tspan class=\"displacy-word\" fill=\"currentColor\" x=\"2900\">reach</tspan>\n",
              "    <tspan class=\"displacy-tag\" dy=\"2em\" fill=\"currentColor\" x=\"2900\">VERB</tspan>\n",
              "</text>\n",
              "\n",
              "<text class=\"displacy-token\" fill=\"currentColor\" text-anchor=\"middle\" y=\"497.0\">\n",
              "    <tspan class=\"displacy-word\" fill=\"currentColor\" x=\"3050\">them</tspan>\n",
              "    <tspan class=\"displacy-tag\" dy=\"2em\" fill=\"currentColor\" x=\"3050\">PRON</tspan>\n",
              "</text>\n",
              "\n",
              "<text class=\"displacy-token\" fill=\"currentColor\" text-anchor=\"middle\" y=\"497.0\">\n",
              "    <tspan class=\"displacy-word\" fill=\"currentColor\" x=\"3200\">and</tspan>\n",
              "    <tspan class=\"displacy-tag\" dy=\"2em\" fill=\"currentColor\" x=\"3200\">CCONJ</tspan>\n",
              "</text>\n",
              "\n",
              "<text class=\"displacy-token\" fill=\"currentColor\" text-anchor=\"middle\" y=\"497.0\">\n",
              "    <tspan class=\"displacy-word\" fill=\"currentColor\" x=\"3350\">later</tspan>\n",
              "    <tspan class=\"displacy-tag\" dy=\"2em\" fill=\"currentColor\" x=\"3350\">ADV</tspan>\n",
              "</text>\n",
              "\n",
              "<text class=\"displacy-token\" fill=\"currentColor\" text-anchor=\"middle\" y=\"497.0\">\n",
              "    <tspan class=\"displacy-word\" fill=\"currentColor\" x=\"3500\">participates</tspan>\n",
              "    <tspan class=\"displacy-tag\" dy=\"2em\" fill=\"currentColor\" x=\"3500\">VERB</tspan>\n",
              "</text>\n",
              "\n",
              "<text class=\"displacy-token\" fill=\"currentColor\" text-anchor=\"middle\" y=\"497.0\">\n",
              "    <tspan class=\"displacy-word\" fill=\"currentColor\" x=\"3650\">in</tspan>\n",
              "    <tspan class=\"displacy-tag\" dy=\"2em\" fill=\"currentColor\" x=\"3650\">ADP</tspan>\n",
              "</text>\n",
              "\n",
              "<text class=\"displacy-token\" fill=\"currentColor\" text-anchor=\"middle\" y=\"497.0\">\n",
              "    <tspan class=\"displacy-word\" fill=\"currentColor\" x=\"3800\">the</tspan>\n",
              "    <tspan class=\"displacy-tag\" dy=\"2em\" fill=\"currentColor\" x=\"3800\">DET</tspan>\n",
              "</text>\n",
              "\n",
              "<text class=\"displacy-token\" fill=\"currentColor\" text-anchor=\"middle\" y=\"497.0\">\n",
              "    <tspan class=\"displacy-word\" fill=\"currentColor\" x=\"3950\">mutiny</tspan>\n",
              "    <tspan class=\"displacy-tag\" dy=\"2em\" fill=\"currentColor\" x=\"3950\">NOUN</tspan>\n",
              "</text>\n",
              "\n",
              "<text class=\"displacy-token\" fill=\"currentColor\" text-anchor=\"middle\" y=\"497.0\">\n",
              "    <tspan class=\"displacy-word\" fill=\"currentColor\" x=\"4100\">against</tspan>\n",
              "    <tspan class=\"displacy-tag\" dy=\"2em\" fill=\"currentColor\" x=\"4100\">ADP</tspan>\n",
              "</text>\n",
              "\n",
              "<text class=\"displacy-token\" fill=\"currentColor\" text-anchor=\"middle\" y=\"497.0\">\n",
              "    <tspan class=\"displacy-word\" fill=\"currentColor\" x=\"4250\">Jon,</tspan>\n",
              "    <tspan class=\"displacy-tag\" dy=\"2em\" fill=\"currentColor\" x=\"4250\">PROPN</tspan>\n",
              "</text>\n",
              "\n",
              "<text class=\"displacy-token\" fill=\"currentColor\" text-anchor=\"middle\" y=\"497.0\">\n",
              "    <tspan class=\"displacy-word\" fill=\"currentColor\" x=\"4400\">being</tspan>\n",
              "    <tspan class=\"displacy-tag\" dy=\"2em\" fill=\"currentColor\" x=\"4400\">AUX</tspan>\n",
              "</text>\n",
              "\n",
              "<text class=\"displacy-token\" fill=\"currentColor\" text-anchor=\"middle\" y=\"497.0\">\n",
              "    <tspan class=\"displacy-word\" fill=\"currentColor\" x=\"4550\">the</tspan>\n",
              "    <tspan class=\"displacy-tag\" dy=\"2em\" fill=\"currentColor\" x=\"4550\">DET</tspan>\n",
              "</text>\n",
              "\n",
              "<text class=\"displacy-token\" fill=\"currentColor\" text-anchor=\"middle\" y=\"497.0\">\n",
              "    <tspan class=\"displacy-word\" fill=\"currentColor\" x=\"4700\">second</tspan>\n",
              "    <tspan class=\"displacy-tag\" dy=\"2em\" fill=\"currentColor\" x=\"4700\">ADJ</tspan>\n",
              "</text>\n",
              "\n",
              "<text class=\"displacy-token\" fill=\"currentColor\" text-anchor=\"middle\" y=\"497.0\">\n",
              "    <tspan class=\"displacy-word\" fill=\"currentColor\" x=\"4850\">to</tspan>\n",
              "    <tspan class=\"displacy-tag\" dy=\"2em\" fill=\"currentColor\" x=\"4850\">PART</tspan>\n",
              "</text>\n",
              "\n",
              "<text class=\"displacy-token\" fill=\"currentColor\" text-anchor=\"middle\" y=\"497.0\">\n",
              "    <tspan class=\"displacy-word\" fill=\"currentColor\" x=\"5000\">stab</tspan>\n",
              "    <tspan class=\"displacy-tag\" dy=\"2em\" fill=\"currentColor\" x=\"5000\">VERB</tspan>\n",
              "</text>\n",
              "\n",
              "<text class=\"displacy-token\" fill=\"currentColor\" text-anchor=\"middle\" y=\"497.0\">\n",
              "    <tspan class=\"displacy-word\" fill=\"currentColor\" x=\"5150\">him.</tspan>\n",
              "    <tspan class=\"displacy-tag\" dy=\"2em\" fill=\"currentColor\" x=\"5150\">PRON</tspan>\n",
              "</text>\n",
              "\n",
              "<g class=\"displacy-arrow\">\n",
              "    <path class=\"displacy-arc\" id=\"arrow-88a1a86c8c414bcb965d38f189ed7d00-0-0\" stroke-width=\"2px\" d=\"M62,452.0 62,402.0 338.0,402.0 338.0,452.0\" fill=\"none\" stroke=\"currentColor\"/>\n",
              "    <text dy=\"1.25em\" style=\"font-size: 0.8em; letter-spacing: 1px\">\n",
              "        <textPath xlink:href=\"#arrow-88a1a86c8c414bcb965d38f189ed7d00-0-0\" class=\"displacy-label\" startOffset=\"50%\" side=\"left\" fill=\"currentColor\" text-anchor=\"middle\">nsubj</textPath>\n",
              "    </text>\n",
              "    <path class=\"displacy-arrowhead\" d=\"M62,454.0 L58,446.0 66,446.0\" fill=\"currentColor\"/>\n",
              "</g>\n",
              "\n",
              "<g class=\"displacy-arrow\">\n",
              "    <path class=\"displacy-arc\" id=\"arrow-88a1a86c8c414bcb965d38f189ed7d00-0-1\" stroke-width=\"2px\" d=\"M212,452.0 212,427.0 335.0,427.0 335.0,452.0\" fill=\"none\" stroke=\"currentColor\"/>\n",
              "    <text dy=\"1.25em\" style=\"font-size: 0.8em; letter-spacing: 1px\">\n",
              "        <textPath xlink:href=\"#arrow-88a1a86c8c414bcb965d38f189ed7d00-0-1\" class=\"displacy-label\" startOffset=\"50%\" side=\"left\" fill=\"currentColor\" text-anchor=\"middle\">advmod</textPath>\n",
              "    </text>\n",
              "    <path class=\"displacy-arrowhead\" d=\"M212,454.0 L208,446.0 216,446.0\" fill=\"currentColor\"/>\n",
              "</g>\n",
              "\n",
              "<g class=\"displacy-arrow\">\n",
              "    <path class=\"displacy-arc\" id=\"arrow-88a1a86c8c414bcb965d38f189ed7d00-0-2\" stroke-width=\"2px\" d=\"M512,452.0 512,402.0 788.0,402.0 788.0,452.0\" fill=\"none\" stroke=\"currentColor\"/>\n",
              "    <text dy=\"1.25em\" style=\"font-size: 0.8em; letter-spacing: 1px\">\n",
              "        <textPath xlink:href=\"#arrow-88a1a86c8c414bcb965d38f189ed7d00-0-2\" class=\"displacy-label\" startOffset=\"50%\" side=\"left\" fill=\"currentColor\" text-anchor=\"middle\">poss</textPath>\n",
              "    </text>\n",
              "    <path class=\"displacy-arrowhead\" d=\"M512,454.0 L508,446.0 516,446.0\" fill=\"currentColor\"/>\n",
              "</g>\n",
              "\n",
              "<g class=\"displacy-arrow\">\n",
              "    <path class=\"displacy-arc\" id=\"arrow-88a1a86c8c414bcb965d38f189ed7d00-0-3\" stroke-width=\"2px\" d=\"M512,452.0 512,427.0 635.0,427.0 635.0,452.0\" fill=\"none\" stroke=\"currentColor\"/>\n",
              "    <text dy=\"1.25em\" style=\"font-size: 0.8em; letter-spacing: 1px\">\n",
              "        <textPath xlink:href=\"#arrow-88a1a86c8c414bcb965d38f189ed7d00-0-3\" class=\"displacy-label\" startOffset=\"50%\" side=\"left\" fill=\"currentColor\" text-anchor=\"middle\">case</textPath>\n",
              "    </text>\n",
              "    <path class=\"displacy-arrowhead\" d=\"M635.0,454.0 L639.0,446.0 631.0,446.0\" fill=\"currentColor\"/>\n",
              "</g>\n",
              "\n",
              "<g class=\"displacy-arrow\">\n",
              "    <path class=\"displacy-arc\" id=\"arrow-88a1a86c8c414bcb965d38f189ed7d00-0-4\" stroke-width=\"2px\" d=\"M362,452.0 362,377.0 791.0,377.0 791.0,452.0\" fill=\"none\" stroke=\"currentColor\"/>\n",
              "    <text dy=\"1.25em\" style=\"font-size: 0.8em; letter-spacing: 1px\">\n",
              "        <textPath xlink:href=\"#arrow-88a1a86c8c414bcb965d38f189ed7d00-0-4\" class=\"displacy-label\" startOffset=\"50%\" side=\"left\" fill=\"currentColor\" text-anchor=\"middle\">dobj</textPath>\n",
              "    </text>\n",
              "    <path class=\"displacy-arrowhead\" d=\"M791.0,454.0 L795.0,446.0 787.0,446.0\" fill=\"currentColor\"/>\n",
              "</g>\n",
              "\n",
              "<g class=\"displacy-arrow\">\n",
              "    <path class=\"displacy-arc\" id=\"arrow-88a1a86c8c414bcb965d38f189ed7d00-0-5\" stroke-width=\"2px\" d=\"M962,452.0 962,427.0 1085.0,427.0 1085.0,452.0\" fill=\"none\" stroke=\"currentColor\"/>\n",
              "    <text dy=\"1.25em\" style=\"font-size: 0.8em; letter-spacing: 1px\">\n",
              "        <textPath xlink:href=\"#arrow-88a1a86c8c414bcb965d38f189ed7d00-0-5\" class=\"displacy-label\" startOffset=\"50%\" side=\"left\" fill=\"currentColor\" text-anchor=\"middle\">aux</textPath>\n",
              "    </text>\n",
              "    <path class=\"displacy-arrowhead\" d=\"M962,454.0 L958,446.0 966,446.0\" fill=\"currentColor\"/>\n",
              "</g>\n",
              "\n",
              "<g class=\"displacy-arrow\">\n",
              "    <path class=\"displacy-arc\" id=\"arrow-88a1a86c8c414bcb965d38f189ed7d00-0-6\" stroke-width=\"2px\" d=\"M812,452.0 812,402.0 1088.0,402.0 1088.0,452.0\" fill=\"none\" stroke=\"currentColor\"/>\n",
              "    <text dy=\"1.25em\" style=\"font-size: 0.8em; letter-spacing: 1px\">\n",
              "        <textPath xlink:href=\"#arrow-88a1a86c8c414bcb965d38f189ed7d00-0-6\" class=\"displacy-label\" startOffset=\"50%\" side=\"left\" fill=\"currentColor\" text-anchor=\"middle\">acl</textPath>\n",
              "    </text>\n",
              "    <path class=\"displacy-arrowhead\" d=\"M1088.0,454.0 L1092.0,446.0 1084.0,446.0\" fill=\"currentColor\"/>\n",
              "</g>\n",
              "\n",
              "<g class=\"displacy-arrow\">\n",
              "    <path class=\"displacy-arc\" id=\"arrow-88a1a86c8c414bcb965d38f189ed7d00-0-7\" stroke-width=\"2px\" d=\"M1262,452.0 1262,427.0 1385.0,427.0 1385.0,452.0\" fill=\"none\" stroke=\"currentColor\"/>\n",
              "    <text dy=\"1.25em\" style=\"font-size: 0.8em; letter-spacing: 1px\">\n",
              "        <textPath xlink:href=\"#arrow-88a1a86c8c414bcb965d38f189ed7d00-0-7\" class=\"displacy-label\" startOffset=\"50%\" side=\"left\" fill=\"currentColor\" text-anchor=\"middle\">det</textPath>\n",
              "    </text>\n",
              "    <path class=\"displacy-arrowhead\" d=\"M1262,454.0 L1258,446.0 1266,446.0\" fill=\"currentColor\"/>\n",
              "</g>\n",
              "\n",
              "<g class=\"displacy-arrow\">\n",
              "    <path class=\"displacy-arc\" id=\"arrow-88a1a86c8c414bcb965d38f189ed7d00-0-8\" stroke-width=\"2px\" d=\"M1412,452.0 1412,402.0 1688.0,402.0 1688.0,452.0\" fill=\"none\" stroke=\"currentColor\"/>\n",
              "    <text dy=\"1.25em\" style=\"font-size: 0.8em; letter-spacing: 1px\">\n",
              "        <textPath xlink:href=\"#arrow-88a1a86c8c414bcb965d38f189ed7d00-0-8\" class=\"displacy-label\" startOffset=\"50%\" side=\"left\" fill=\"currentColor\" text-anchor=\"middle\">nsubj</textPath>\n",
              "    </text>\n",
              "    <path class=\"displacy-arrowhead\" d=\"M1412,454.0 L1408,446.0 1416,446.0\" fill=\"currentColor\"/>\n",
              "</g>\n",
              "\n",
              "<g class=\"displacy-arrow\">\n",
              "    <path class=\"displacy-arc\" id=\"arrow-88a1a86c8c414bcb965d38f189ed7d00-0-9\" stroke-width=\"2px\" d=\"M1562,452.0 1562,427.0 1685.0,427.0 1685.0,452.0\" fill=\"none\" stroke=\"currentColor\"/>\n",
              "    <text dy=\"1.25em\" style=\"font-size: 0.8em; letter-spacing: 1px\">\n",
              "        <textPath xlink:href=\"#arrow-88a1a86c8c414bcb965d38f189ed7d00-0-9\" class=\"displacy-label\" startOffset=\"50%\" side=\"left\" fill=\"currentColor\" text-anchor=\"middle\">aux</textPath>\n",
              "    </text>\n",
              "    <path class=\"displacy-arrowhead\" d=\"M1562,454.0 L1558,446.0 1566,446.0\" fill=\"currentColor\"/>\n",
              "</g>\n",
              "\n",
              "<g class=\"displacy-arrow\">\n",
              "    <path class=\"displacy-arc\" id=\"arrow-88a1a86c8c414bcb965d38f189ed7d00-0-10\" stroke-width=\"2px\" d=\"M1112,452.0 1112,352.0 1694.0,352.0 1694.0,452.0\" fill=\"none\" stroke=\"currentColor\"/>\n",
              "    <text dy=\"1.25em\" style=\"font-size: 0.8em; letter-spacing: 1px\">\n",
              "        <textPath xlink:href=\"#arrow-88a1a86c8c414bcb965d38f189ed7d00-0-10\" class=\"displacy-label\" startOffset=\"50%\" side=\"left\" fill=\"currentColor\" text-anchor=\"middle\">ccomp</textPath>\n",
              "    </text>\n",
              "    <path class=\"displacy-arrowhead\" d=\"M1694.0,454.0 L1698.0,446.0 1690.0,446.0\" fill=\"currentColor\"/>\n",
              "</g>\n",
              "\n",
              "<g class=\"displacy-arrow\">\n",
              "    <path class=\"displacy-arc\" id=\"arrow-88a1a86c8c414bcb965d38f189ed7d00-0-11\" stroke-width=\"2px\" d=\"M1712,452.0 1712,427.0 1835.0,427.0 1835.0,452.0\" fill=\"none\" stroke=\"currentColor\"/>\n",
              "    <text dy=\"1.25em\" style=\"font-size: 0.8em; letter-spacing: 1px\">\n",
              "        <textPath xlink:href=\"#arrow-88a1a86c8c414bcb965d38f189ed7d00-0-11\" class=\"displacy-label\" startOffset=\"50%\" side=\"left\" fill=\"currentColor\" text-anchor=\"middle\">prep</textPath>\n",
              "    </text>\n",
              "    <path class=\"displacy-arrowhead\" d=\"M1835.0,454.0 L1839.0,446.0 1831.0,446.0\" fill=\"currentColor\"/>\n",
              "</g>\n",
              "\n",
              "<g class=\"displacy-arrow\">\n",
              "    <path class=\"displacy-arc\" id=\"arrow-88a1a86c8c414bcb965d38f189ed7d00-0-12\" stroke-width=\"2px\" d=\"M2012,452.0 2012,427.0 2135.0,427.0 2135.0,452.0\" fill=\"none\" stroke=\"currentColor\"/>\n",
              "    <text dy=\"1.25em\" style=\"font-size: 0.8em; letter-spacing: 1px\">\n",
              "        <textPath xlink:href=\"#arrow-88a1a86c8c414bcb965d38f189ed7d00-0-12\" class=\"displacy-label\" startOffset=\"50%\" side=\"left\" fill=\"currentColor\" text-anchor=\"middle\">det</textPath>\n",
              "    </text>\n",
              "    <path class=\"displacy-arrowhead\" d=\"M2012,454.0 L2008,446.0 2016,446.0\" fill=\"currentColor\"/>\n",
              "</g>\n",
              "\n",
              "<g class=\"displacy-arrow\">\n",
              "    <path class=\"displacy-arc\" id=\"arrow-88a1a86c8c414bcb965d38f189ed7d00-0-13\" stroke-width=\"2px\" d=\"M1862,452.0 1862,402.0 2138.0,402.0 2138.0,452.0\" fill=\"none\" stroke=\"currentColor\"/>\n",
              "    <text dy=\"1.25em\" style=\"font-size: 0.8em; letter-spacing: 1px\">\n",
              "        <textPath xlink:href=\"#arrow-88a1a86c8c414bcb965d38f189ed7d00-0-13\" class=\"displacy-label\" startOffset=\"50%\" side=\"left\" fill=\"currentColor\" text-anchor=\"middle\">pobj</textPath>\n",
              "    </text>\n",
              "    <path class=\"displacy-arrowhead\" d=\"M2138.0,454.0 L2142.0,446.0 2134.0,446.0\" fill=\"currentColor\"/>\n",
              "</g>\n",
              "\n",
              "<g class=\"displacy-arrow\">\n",
              "    <path class=\"displacy-arc\" id=\"arrow-88a1a86c8c414bcb965d38f189ed7d00-0-14\" stroke-width=\"2px\" d=\"M2312,452.0 2312,352.0 2894.0,352.0 2894.0,452.0\" fill=\"none\" stroke=\"currentColor\"/>\n",
              "    <text dy=\"1.25em\" style=\"font-size: 0.8em; letter-spacing: 1px\">\n",
              "        <textPath xlink:href=\"#arrow-88a1a86c8c414bcb965d38f189ed7d00-0-14\" class=\"displacy-label\" startOffset=\"50%\" side=\"left\" fill=\"currentColor\" text-anchor=\"middle\">mark</textPath>\n",
              "    </text>\n",
              "    <path class=\"displacy-arrowhead\" d=\"M2312,454.0 L2308,446.0 2316,446.0\" fill=\"currentColor\"/>\n",
              "</g>\n",
              "\n",
              "<g class=\"displacy-arrow\">\n",
              "    <path class=\"displacy-arc\" id=\"arrow-88a1a86c8c414bcb965d38f189ed7d00-0-15\" stroke-width=\"2px\" d=\"M2462,452.0 2462,402.0 2738.0,402.0 2738.0,452.0\" fill=\"none\" stroke=\"currentColor\"/>\n",
              "    <text dy=\"1.25em\" style=\"font-size: 0.8em; letter-spacing: 1px\">\n",
              "        <textPath xlink:href=\"#arrow-88a1a86c8c414bcb965d38f189ed7d00-0-15\" class=\"displacy-label\" startOffset=\"50%\" side=\"left\" fill=\"currentColor\" text-anchor=\"middle\">det</textPath>\n",
              "    </text>\n",
              "    <path class=\"displacy-arrowhead\" d=\"M2462,454.0 L2458,446.0 2466,446.0\" fill=\"currentColor\"/>\n",
              "</g>\n",
              "\n",
              "<g class=\"displacy-arrow\">\n",
              "    <path class=\"displacy-arc\" id=\"arrow-88a1a86c8c414bcb965d38f189ed7d00-0-16\" stroke-width=\"2px\" d=\"M2612,452.0 2612,427.0 2735.0,427.0 2735.0,452.0\" fill=\"none\" stroke=\"currentColor\"/>\n",
              "    <text dy=\"1.25em\" style=\"font-size: 0.8em; letter-spacing: 1px\">\n",
              "        <textPath xlink:href=\"#arrow-88a1a86c8c414bcb965d38f189ed7d00-0-16\" class=\"displacy-label\" startOffset=\"50%\" side=\"left\" fill=\"currentColor\" text-anchor=\"middle\">compound</textPath>\n",
              "    </text>\n",
              "    <path class=\"displacy-arrowhead\" d=\"M2612,454.0 L2608,446.0 2616,446.0\" fill=\"currentColor\"/>\n",
              "</g>\n",
              "\n",
              "<g class=\"displacy-arrow\">\n",
              "    <path class=\"displacy-arc\" id=\"arrow-88a1a86c8c414bcb965d38f189ed7d00-0-17\" stroke-width=\"2px\" d=\"M2762,452.0 2762,427.0 2885.0,427.0 2885.0,452.0\" fill=\"none\" stroke=\"currentColor\"/>\n",
              "    <text dy=\"1.25em\" style=\"font-size: 0.8em; letter-spacing: 1px\">\n",
              "        <textPath xlink:href=\"#arrow-88a1a86c8c414bcb965d38f189ed7d00-0-17\" class=\"displacy-label\" startOffset=\"50%\" side=\"left\" fill=\"currentColor\" text-anchor=\"middle\">nsubj</textPath>\n",
              "    </text>\n",
              "    <path class=\"displacy-arrowhead\" d=\"M2762,454.0 L2758,446.0 2766,446.0\" fill=\"currentColor\"/>\n",
              "</g>\n",
              "\n",
              "<g class=\"displacy-arrow\">\n",
              "    <path class=\"displacy-arc\" id=\"arrow-88a1a86c8c414bcb965d38f189ed7d00-0-18\" stroke-width=\"2px\" d=\"M362,452.0 362,302.0 2900.0,302.0 2900.0,452.0\" fill=\"none\" stroke=\"currentColor\"/>\n",
              "    <text dy=\"1.25em\" style=\"font-size: 0.8em; letter-spacing: 1px\">\n",
              "        <textPath xlink:href=\"#arrow-88a1a86c8c414bcb965d38f189ed7d00-0-18\" class=\"displacy-label\" startOffset=\"50%\" side=\"left\" fill=\"currentColor\" text-anchor=\"middle\">advcl</textPath>\n",
              "    </text>\n",
              "    <path class=\"displacy-arrowhead\" d=\"M2900.0,454.0 L2904.0,446.0 2896.0,446.0\" fill=\"currentColor\"/>\n",
              "</g>\n",
              "\n",
              "<g class=\"displacy-arrow\">\n",
              "    <path class=\"displacy-arc\" id=\"arrow-88a1a86c8c414bcb965d38f189ed7d00-0-19\" stroke-width=\"2px\" d=\"M2912,452.0 2912,427.0 3035.0,427.0 3035.0,452.0\" fill=\"none\" stroke=\"currentColor\"/>\n",
              "    <text dy=\"1.25em\" style=\"font-size: 0.8em; letter-spacing: 1px\">\n",
              "        <textPath xlink:href=\"#arrow-88a1a86c8c414bcb965d38f189ed7d00-0-19\" class=\"displacy-label\" startOffset=\"50%\" side=\"left\" fill=\"currentColor\" text-anchor=\"middle\">dobj</textPath>\n",
              "    </text>\n",
              "    <path class=\"displacy-arrowhead\" d=\"M3035.0,454.0 L3039.0,446.0 3031.0,446.0\" fill=\"currentColor\"/>\n",
              "</g>\n",
              "\n",
              "<g class=\"displacy-arrow\">\n",
              "    <path class=\"displacy-arc\" id=\"arrow-88a1a86c8c414bcb965d38f189ed7d00-0-20\" stroke-width=\"2px\" d=\"M2912,452.0 2912,402.0 3188.0,402.0 3188.0,452.0\" fill=\"none\" stroke=\"currentColor\"/>\n",
              "    <text dy=\"1.25em\" style=\"font-size: 0.8em; letter-spacing: 1px\">\n",
              "        <textPath xlink:href=\"#arrow-88a1a86c8c414bcb965d38f189ed7d00-0-20\" class=\"displacy-label\" startOffset=\"50%\" side=\"left\" fill=\"currentColor\" text-anchor=\"middle\">cc</textPath>\n",
              "    </text>\n",
              "    <path class=\"displacy-arrowhead\" d=\"M3188.0,454.0 L3192.0,446.0 3184.0,446.0\" fill=\"currentColor\"/>\n",
              "</g>\n",
              "\n",
              "<g class=\"displacy-arrow\">\n",
              "    <path class=\"displacy-arc\" id=\"arrow-88a1a86c8c414bcb965d38f189ed7d00-0-21\" stroke-width=\"2px\" d=\"M3362,452.0 3362,427.0 3485.0,427.0 3485.0,452.0\" fill=\"none\" stroke=\"currentColor\"/>\n",
              "    <text dy=\"1.25em\" style=\"font-size: 0.8em; letter-spacing: 1px\">\n",
              "        <textPath xlink:href=\"#arrow-88a1a86c8c414bcb965d38f189ed7d00-0-21\" class=\"displacy-label\" startOffset=\"50%\" side=\"left\" fill=\"currentColor\" text-anchor=\"middle\">advmod</textPath>\n",
              "    </text>\n",
              "    <path class=\"displacy-arrowhead\" d=\"M3362,454.0 L3358,446.0 3366,446.0\" fill=\"currentColor\"/>\n",
              "</g>\n",
              "\n",
              "<g class=\"displacy-arrow\">\n",
              "    <path class=\"displacy-arc\" id=\"arrow-88a1a86c8c414bcb965d38f189ed7d00-0-22\" stroke-width=\"2px\" d=\"M2912,452.0 2912,352.0 3494.0,352.0 3494.0,452.0\" fill=\"none\" stroke=\"currentColor\"/>\n",
              "    <text dy=\"1.25em\" style=\"font-size: 0.8em; letter-spacing: 1px\">\n",
              "        <textPath xlink:href=\"#arrow-88a1a86c8c414bcb965d38f189ed7d00-0-22\" class=\"displacy-label\" startOffset=\"50%\" side=\"left\" fill=\"currentColor\" text-anchor=\"middle\">conj</textPath>\n",
              "    </text>\n",
              "    <path class=\"displacy-arrowhead\" d=\"M3494.0,454.0 L3498.0,446.0 3490.0,446.0\" fill=\"currentColor\"/>\n",
              "</g>\n",
              "\n",
              "<g class=\"displacy-arrow\">\n",
              "    <path class=\"displacy-arc\" id=\"arrow-88a1a86c8c414bcb965d38f189ed7d00-0-23\" stroke-width=\"2px\" d=\"M3512,452.0 3512,427.0 3635.0,427.0 3635.0,452.0\" fill=\"none\" stroke=\"currentColor\"/>\n",
              "    <text dy=\"1.25em\" style=\"font-size: 0.8em; letter-spacing: 1px\">\n",
              "        <textPath xlink:href=\"#arrow-88a1a86c8c414bcb965d38f189ed7d00-0-23\" class=\"displacy-label\" startOffset=\"50%\" side=\"left\" fill=\"currentColor\" text-anchor=\"middle\">prep</textPath>\n",
              "    </text>\n",
              "    <path class=\"displacy-arrowhead\" d=\"M3635.0,454.0 L3639.0,446.0 3631.0,446.0\" fill=\"currentColor\"/>\n",
              "</g>\n",
              "\n",
              "<g class=\"displacy-arrow\">\n",
              "    <path class=\"displacy-arc\" id=\"arrow-88a1a86c8c414bcb965d38f189ed7d00-0-24\" stroke-width=\"2px\" d=\"M3812,452.0 3812,427.0 3935.0,427.0 3935.0,452.0\" fill=\"none\" stroke=\"currentColor\"/>\n",
              "    <text dy=\"1.25em\" style=\"font-size: 0.8em; letter-spacing: 1px\">\n",
              "        <textPath xlink:href=\"#arrow-88a1a86c8c414bcb965d38f189ed7d00-0-24\" class=\"displacy-label\" startOffset=\"50%\" side=\"left\" fill=\"currentColor\" text-anchor=\"middle\">det</textPath>\n",
              "    </text>\n",
              "    <path class=\"displacy-arrowhead\" d=\"M3812,454.0 L3808,446.0 3816,446.0\" fill=\"currentColor\"/>\n",
              "</g>\n",
              "\n",
              "<g class=\"displacy-arrow\">\n",
              "    <path class=\"displacy-arc\" id=\"arrow-88a1a86c8c414bcb965d38f189ed7d00-0-25\" stroke-width=\"2px\" d=\"M3662,452.0 3662,402.0 3938.0,402.0 3938.0,452.0\" fill=\"none\" stroke=\"currentColor\"/>\n",
              "    <text dy=\"1.25em\" style=\"font-size: 0.8em; letter-spacing: 1px\">\n",
              "        <textPath xlink:href=\"#arrow-88a1a86c8c414bcb965d38f189ed7d00-0-25\" class=\"displacy-label\" startOffset=\"50%\" side=\"left\" fill=\"currentColor\" text-anchor=\"middle\">pobj</textPath>\n",
              "    </text>\n",
              "    <path class=\"displacy-arrowhead\" d=\"M3938.0,454.0 L3942.0,446.0 3934.0,446.0\" fill=\"currentColor\"/>\n",
              "</g>\n",
              "\n",
              "<g class=\"displacy-arrow\">\n",
              "    <path class=\"displacy-arc\" id=\"arrow-88a1a86c8c414bcb965d38f189ed7d00-0-26\" stroke-width=\"2px\" d=\"M3962,452.0 3962,427.0 4085.0,427.0 4085.0,452.0\" fill=\"none\" stroke=\"currentColor\"/>\n",
              "    <text dy=\"1.25em\" style=\"font-size: 0.8em; letter-spacing: 1px\">\n",
              "        <textPath xlink:href=\"#arrow-88a1a86c8c414bcb965d38f189ed7d00-0-26\" class=\"displacy-label\" startOffset=\"50%\" side=\"left\" fill=\"currentColor\" text-anchor=\"middle\">prep</textPath>\n",
              "    </text>\n",
              "    <path class=\"displacy-arrowhead\" d=\"M4085.0,454.0 L4089.0,446.0 4081.0,446.0\" fill=\"currentColor\"/>\n",
              "</g>\n",
              "\n",
              "<g class=\"displacy-arrow\">\n",
              "    <path class=\"displacy-arc\" id=\"arrow-88a1a86c8c414bcb965d38f189ed7d00-0-27\" stroke-width=\"2px\" d=\"M4112,452.0 4112,427.0 4235.0,427.0 4235.0,452.0\" fill=\"none\" stroke=\"currentColor\"/>\n",
              "    <text dy=\"1.25em\" style=\"font-size: 0.8em; letter-spacing: 1px\">\n",
              "        <textPath xlink:href=\"#arrow-88a1a86c8c414bcb965d38f189ed7d00-0-27\" class=\"displacy-label\" startOffset=\"50%\" side=\"left\" fill=\"currentColor\" text-anchor=\"middle\">pobj</textPath>\n",
              "    </text>\n",
              "    <path class=\"displacy-arrowhead\" d=\"M4235.0,454.0 L4239.0,446.0 4231.0,446.0\" fill=\"currentColor\"/>\n",
              "</g>\n",
              "\n",
              "<g class=\"displacy-arrow\">\n",
              "    <path class=\"displacy-arc\" id=\"arrow-88a1a86c8c414bcb965d38f189ed7d00-0-28\" stroke-width=\"2px\" d=\"M2912,452.0 2912,327.0 4397.0,327.0 4397.0,452.0\" fill=\"none\" stroke=\"currentColor\"/>\n",
              "    <text dy=\"1.25em\" style=\"font-size: 0.8em; letter-spacing: 1px\">\n",
              "        <textPath xlink:href=\"#arrow-88a1a86c8c414bcb965d38f189ed7d00-0-28\" class=\"displacy-label\" startOffset=\"50%\" side=\"left\" fill=\"currentColor\" text-anchor=\"middle\">advcl</textPath>\n",
              "    </text>\n",
              "    <path class=\"displacy-arrowhead\" d=\"M4397.0,454.0 L4401.0,446.0 4393.0,446.0\" fill=\"currentColor\"/>\n",
              "</g>\n",
              "\n",
              "<g class=\"displacy-arrow\">\n",
              "    <path class=\"displacy-arc\" id=\"arrow-88a1a86c8c414bcb965d38f189ed7d00-0-29\" stroke-width=\"2px\" d=\"M4562,452.0 4562,427.0 4685.0,427.0 4685.0,452.0\" fill=\"none\" stroke=\"currentColor\"/>\n",
              "    <text dy=\"1.25em\" style=\"font-size: 0.8em; letter-spacing: 1px\">\n",
              "        <textPath xlink:href=\"#arrow-88a1a86c8c414bcb965d38f189ed7d00-0-29\" class=\"displacy-label\" startOffset=\"50%\" side=\"left\" fill=\"currentColor\" text-anchor=\"middle\">det</textPath>\n",
              "    </text>\n",
              "    <path class=\"displacy-arrowhead\" d=\"M4562,454.0 L4558,446.0 4566,446.0\" fill=\"currentColor\"/>\n",
              "</g>\n",
              "\n",
              "<g class=\"displacy-arrow\">\n",
              "    <path class=\"displacy-arc\" id=\"arrow-88a1a86c8c414bcb965d38f189ed7d00-0-30\" stroke-width=\"2px\" d=\"M4412,452.0 4412,402.0 4688.0,402.0 4688.0,452.0\" fill=\"none\" stroke=\"currentColor\"/>\n",
              "    <text dy=\"1.25em\" style=\"font-size: 0.8em; letter-spacing: 1px\">\n",
              "        <textPath xlink:href=\"#arrow-88a1a86c8c414bcb965d38f189ed7d00-0-30\" class=\"displacy-label\" startOffset=\"50%\" side=\"left\" fill=\"currentColor\" text-anchor=\"middle\">attr</textPath>\n",
              "    </text>\n",
              "    <path class=\"displacy-arrowhead\" d=\"M4688.0,454.0 L4692.0,446.0 4684.0,446.0\" fill=\"currentColor\"/>\n",
              "</g>\n",
              "\n",
              "<g class=\"displacy-arrow\">\n",
              "    <path class=\"displacy-arc\" id=\"arrow-88a1a86c8c414bcb965d38f189ed7d00-0-31\" stroke-width=\"2px\" d=\"M4862,452.0 4862,427.0 4985.0,427.0 4985.0,452.0\" fill=\"none\" stroke=\"currentColor\"/>\n",
              "    <text dy=\"1.25em\" style=\"font-size: 0.8em; letter-spacing: 1px\">\n",
              "        <textPath xlink:href=\"#arrow-88a1a86c8c414bcb965d38f189ed7d00-0-31\" class=\"displacy-label\" startOffset=\"50%\" side=\"left\" fill=\"currentColor\" text-anchor=\"middle\">aux</textPath>\n",
              "    </text>\n",
              "    <path class=\"displacy-arrowhead\" d=\"M4862,454.0 L4858,446.0 4866,446.0\" fill=\"currentColor\"/>\n",
              "</g>\n",
              "\n",
              "<g class=\"displacy-arrow\">\n",
              "    <path class=\"displacy-arc\" id=\"arrow-88a1a86c8c414bcb965d38f189ed7d00-0-32\" stroke-width=\"2px\" d=\"M4712,452.0 4712,402.0 4988.0,402.0 4988.0,452.0\" fill=\"none\" stroke=\"currentColor\"/>\n",
              "    <text dy=\"1.25em\" style=\"font-size: 0.8em; letter-spacing: 1px\">\n",
              "        <textPath xlink:href=\"#arrow-88a1a86c8c414bcb965d38f189ed7d00-0-32\" class=\"displacy-label\" startOffset=\"50%\" side=\"left\" fill=\"currentColor\" text-anchor=\"middle\">relcl</textPath>\n",
              "    </text>\n",
              "    <path class=\"displacy-arrowhead\" d=\"M4988.0,454.0 L4992.0,446.0 4984.0,446.0\" fill=\"currentColor\"/>\n",
              "</g>\n",
              "\n",
              "<g class=\"displacy-arrow\">\n",
              "    <path class=\"displacy-arc\" id=\"arrow-88a1a86c8c414bcb965d38f189ed7d00-0-33\" stroke-width=\"2px\" d=\"M5012,452.0 5012,427.0 5135.0,427.0 5135.0,452.0\" fill=\"none\" stroke=\"currentColor\"/>\n",
              "    <text dy=\"1.25em\" style=\"font-size: 0.8em; letter-spacing: 1px\">\n",
              "        <textPath xlink:href=\"#arrow-88a1a86c8c414bcb965d38f189ed7d00-0-33\" class=\"displacy-label\" startOffset=\"50%\" side=\"left\" fill=\"currentColor\" text-anchor=\"middle\">dobj</textPath>\n",
              "    </text>\n",
              "    <path class=\"displacy-arrowhead\" d=\"M5135.0,454.0 L5139.0,446.0 5131.0,446.0\" fill=\"currentColor\"/>\n",
              "</g>\n",
              "</svg></span>"
            ],
            "text/plain": [
              "<IPython.core.display.HTML object>"
            ]
          },
          "metadata": {
            "tags": []
          }
        }
      ]
    },
    {
      "cell_type": "markdown",
      "metadata": {
        "id": "VHbM6S1utd3k"
      },
      "source": [
        "### Entity visualizer"
      ]
    },
    {
      "cell_type": "code",
      "metadata": {
        "colab": {
          "base_uri": "https://localhost:8080/",
          "height": 85
        },
        "id": "M50omN1otQ-F",
        "outputId": "409ebf7b-f667-465b-b121-23c55146ae30"
      },
      "source": [
        "colors1 = {\"ORG\": \"linear-gradient(90deg, #aa9cfc, #fc9ce7)\"}\r\n",
        "options1 = {\"colors\": colors1}\r\n",
        "displacy.render(doc, style=\"ent\",options=options1,jupyter=True)"
      ],
      "execution_count": 208,
      "outputs": [
        {
          "output_type": "display_data",
          "data": {
            "text/html": [
              "<span class=\"tex2jax_ignore\"><div class=\"entities\" style=\"line-height: 2.5; direction: ltr\">He staunchly opposes \n",
              "<mark class=\"entity\" style=\"background: #aa9cfc; padding: 0.45em 0.6em; margin: 0 0.25em; line-height: 1; border-radius: 0.35em;\">\n",
              "    Jon\n",
              "    <span style=\"font-size: 0.8em; font-weight: bold; line-height: 1; border-radius: 0.35em; text-transform: uppercase; vertical-align: middle; margin-left: 0.5rem\">PERSON</span>\n",
              "</mark>\n",
              "'s proposal to allow the wildlings to pass through the Wall before the \n",
              "<mark class=\"entity\" style=\"background: linear-gradient(90deg, #aa9cfc, #fc9ce7); padding: 0.45em 0.6em; margin: 0 0.25em; line-height: 1; border-radius: 0.35em;\">\n",
              "    White Walkers\n",
              "    <span style=\"font-size: 0.8em; font-weight: bold; line-height: 1; border-radius: 0.35em; text-transform: uppercase; vertical-align: middle; margin-left: 0.5rem\">ORG</span>\n",
              "</mark>\n",
              " reach them and later participates in the mutiny against \n",
              "<mark class=\"entity\" style=\"background: #aa9cfc; padding: 0.45em 0.6em; margin: 0 0.25em; line-height: 1; border-radius: 0.35em;\">\n",
              "    Jon\n",
              "    <span style=\"font-size: 0.8em; font-weight: bold; line-height: 1; border-radius: 0.35em; text-transform: uppercase; vertical-align: middle; margin-left: 0.5rem\">PERSON</span>\n",
              "</mark>\n",
              ", being the \n",
              "<mark class=\"entity\" style=\"background: #e4e7d2; padding: 0.45em 0.6em; margin: 0 0.25em; line-height: 1; border-radius: 0.35em;\">\n",
              "    second\n",
              "    <span style=\"font-size: 0.8em; font-weight: bold; line-height: 1; border-radius: 0.35em; text-transform: uppercase; vertical-align: middle; margin-left: 0.5rem\">ORDINAL</span>\n",
              "</mark>\n",
              " to stab him.</div></span>"
            ],
            "text/plain": [
              "<IPython.core.display.HTML object>"
            ]
          },
          "metadata": {
            "tags": []
          }
        }
      ]
    }
  ]
}