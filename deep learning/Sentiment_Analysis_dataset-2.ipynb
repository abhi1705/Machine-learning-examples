{
  "nbformat": 4,
  "nbformat_minor": 0,
  "metadata": {
    "colab": {
      "name": "Assignment 1 - Problem 6 -Sentiment Analysis dataset.ipynb",
      "provenance": [],
      "collapsed_sections": []
    },
    "kernelspec": {
      "name": "python3",
      "display_name": "Python 3"
    },
    "accelerator": "GPU"
  },
  "cells": [
    {
      "cell_type": "markdown",
      "metadata": {
        "id": "8x2MuoYdD3sr"
      },
      "source": [
        "**Question No.2. NLP Dataset**\n",
        "---\n",
        "Sentiment Analysis dataset - 1.6 Million tweets. Please find your dataset https://www.kaggle.com/kazanova/sentiment140. The column 'text' has the tweet and 'target' gives the sentiment of the text.\n",
        "\n",
        "Prepare a python notebook (recommended-use Google Colab) to build, train and evaluate a deep neural network on the given dataset. Read the instructions carefully."
      ]
    },
    {
      "cell_type": "markdown",
      "metadata": {
        "id": "p36BEBtYE6PX"
      },
      "source": [
        "**Import Libraries/Dataset**\n",
        "---\n",
        "\n",
        "\n",
        "1.   Import required libraries (recommended-use tensorflow/keraslibrary).\n",
        "2.   Import the dataset (use Google Drive if required).\n",
        "3.   Check the GPU available (recommended-use free GPU provided by Google Colab).\n",
        "\n",
        "\n"
      ]
    },
    {
      "cell_type": "markdown",
      "metadata": {
        "id": "0tdDXyZ-HRih"
      },
      "source": [
        "##Import Libraries"
      ]
    },
    {
      "cell_type": "code",
      "metadata": {
        "id": "hBtC1iC1KhHr",
        "outputId": "945ad985-bd39-4cac-abf8-4b4dcf970033",
        "colab": {
          "base_uri": "https://localhost:8080/",
          "height": 513
        }
      },
      "source": [
        "!pip install tensorflow==1.15\n",
        "!pip install \"tensorflow_hub>=0.6.0\""
      ],
      "execution_count": 54,
      "outputs": [
        {
          "output_type": "stream",
          "text": [
            "Requirement already satisfied: tensorflow==1.15 in /usr/local/lib/python3.6/dist-packages (1.15.0)\n",
            "Requirement already satisfied: google-pasta>=0.1.6 in /usr/local/lib/python3.6/dist-packages (from tensorflow==1.15) (0.2.0)\n",
            "Requirement already satisfied: absl-py>=0.7.0 in /usr/local/lib/python3.6/dist-packages (from tensorflow==1.15) (0.10.0)\n",
            "Requirement already satisfied: gast==0.2.2 in /usr/local/lib/python3.6/dist-packages (from tensorflow==1.15) (0.2.2)\n",
            "Requirement already satisfied: six>=1.10.0 in /usr/local/lib/python3.6/dist-packages (from tensorflow==1.15) (1.15.0)\n",
            "Requirement already satisfied: wheel>=0.26 in /usr/local/lib/python3.6/dist-packages (from tensorflow==1.15) (0.35.1)\n",
            "Requirement already satisfied: wrapt>=1.11.1 in /usr/local/lib/python3.6/dist-packages (from tensorflow==1.15) (1.12.1)\n",
            "Requirement already satisfied: protobuf>=3.6.1 in /usr/local/lib/python3.6/dist-packages (from tensorflow==1.15) (3.12.4)\n",
            "Requirement already satisfied: keras-applications>=1.0.8 in /usr/local/lib/python3.6/dist-packages (from tensorflow==1.15) (1.0.8)\n",
            "Requirement already satisfied: grpcio>=1.8.6 in /usr/local/lib/python3.6/dist-packages (from tensorflow==1.15) (1.32.0)\n",
            "Requirement already satisfied: opt-einsum>=2.3.2 in /usr/local/lib/python3.6/dist-packages (from tensorflow==1.15) (3.3.0)\n",
            "Requirement already satisfied: astor>=0.6.0 in /usr/local/lib/python3.6/dist-packages (from tensorflow==1.15) (0.8.1)\n",
            "Requirement already satisfied: tensorflow-estimator==1.15.1 in /usr/local/lib/python3.6/dist-packages (from tensorflow==1.15) (1.15.1)\n",
            "Requirement already satisfied: numpy<2.0,>=1.16.0 in /usr/local/lib/python3.6/dist-packages (from tensorflow==1.15) (1.18.5)\n",
            "Requirement already satisfied: termcolor>=1.1.0 in /usr/local/lib/python3.6/dist-packages (from tensorflow==1.15) (1.1.0)\n",
            "Requirement already satisfied: keras-preprocessing>=1.0.5 in /usr/local/lib/python3.6/dist-packages (from tensorflow==1.15) (1.1.2)\n",
            "Requirement already satisfied: tensorboard<1.16.0,>=1.15.0 in /usr/local/lib/python3.6/dist-packages (from tensorflow==1.15) (1.15.0)\n",
            "Requirement already satisfied: setuptools in /usr/local/lib/python3.6/dist-packages (from protobuf>=3.6.1->tensorflow==1.15) (50.3.0)\n",
            "Requirement already satisfied: h5py in /usr/local/lib/python3.6/dist-packages (from keras-applications>=1.0.8->tensorflow==1.15) (2.10.0)\n",
            "Requirement already satisfied: werkzeug>=0.11.15 in /usr/local/lib/python3.6/dist-packages (from tensorboard<1.16.0,>=1.15.0->tensorflow==1.15) (1.0.1)\n",
            "Requirement already satisfied: markdown>=2.6.8 in /usr/local/lib/python3.6/dist-packages (from tensorboard<1.16.0,>=1.15.0->tensorflow==1.15) (3.2.2)\n",
            "Requirement already satisfied: importlib-metadata; python_version < \"3.8\" in /usr/local/lib/python3.6/dist-packages (from markdown>=2.6.8->tensorboard<1.16.0,>=1.15.0->tensorflow==1.15) (2.0.0)\n",
            "Requirement already satisfied: zipp>=0.5 in /usr/local/lib/python3.6/dist-packages (from importlib-metadata; python_version < \"3.8\"->markdown>=2.6.8->tensorboard<1.16.0,>=1.15.0->tensorflow==1.15) (3.2.0)\n",
            "Requirement already satisfied: tensorflow_hub>=0.6.0 in /usr/local/lib/python3.6/dist-packages (0.9.0)\n",
            "Requirement already satisfied: protobuf>=3.8.0 in /usr/local/lib/python3.6/dist-packages (from tensorflow_hub>=0.6.0) (3.12.4)\n",
            "Requirement already satisfied: six>=1.12.0 in /usr/local/lib/python3.6/dist-packages (from tensorflow_hub>=0.6.0) (1.15.0)\n",
            "Requirement already satisfied: numpy>=1.12.0 in /usr/local/lib/python3.6/dist-packages (from tensorflow_hub>=0.6.0) (1.18.5)\n",
            "Requirement already satisfied: setuptools in /usr/local/lib/python3.6/dist-packages (from protobuf>=3.8.0->tensorflow_hub>=0.6.0) (50.3.0)\n"
          ],
          "name": "stdout"
        }
      ]
    },
    {
      "cell_type": "code",
      "metadata": {
        "id": "m85ShGi0DgwO"
      },
      "source": [
        "\n",
        "\n",
        "import tensorflow as tf\n",
        "\n",
        "from tensorflow.keras import models\n",
        "from tensorflow.keras import layers\n",
        "from tensorflow.keras import regularizers\n",
        "# from tensorflow.keras.optimizers import SGD\n",
        "from tensorflow.keras.optimizers import Adam\n",
        "\n",
        "import random\n",
        "import numpy as np\n",
        "import pandas as pd\n",
        "\n",
        "import sklearn as sk\n",
        "from sklearn.model_selection import train_test_split\n",
        "\n",
        "import matplotlib.pyplot as plt\n",
        "%matplotlib inline\n",
        "import matplotlib.image as mpimg\n",
        "import seaborn as sns\n",
        "\n",
        "from sklearn.metrics import confusion_matrix,classification_report\n",
        "\n",
        "# !pip install --upgrade tensorflow_hub\n",
        "\n",
        "import tensorflow_hub as hub\n",
        "\n",
        "import time"
      ],
      "execution_count": 3,
      "outputs": []
    },
    {
      "cell_type": "code",
      "metadata": {
        "id": "SuQ-1gsyJmHW"
      },
      "source": [
        "random.seed(42)         # Initialize the random number generator.\n",
        "np.random.seed(42)      # With the seed reset, the same set of numbers will appear every time. \n",
        "#tf.random.set_seed(42)  # sets the graph-level random seed"
      ],
      "execution_count": 4,
      "outputs": []
    },
    {
      "cell_type": "markdown",
      "metadata": {
        "id": "RzYt7MeaHaLt"
      },
      "source": [
        "## Dataset"
      ]
    },
    {
      "cell_type": "code",
      "metadata": {
        "id": "VrD245KQ7ajv",
        "outputId": "43e50457-e9ee-44b7-a313-ea13de643569",
        "colab": {
          "base_uri": "https://localhost:8080/",
          "height": 34
        }
      },
      "source": [
        "from google.colab import drive\n",
        "\n",
        "drive.mount('/content/gdrive')\n",
        "root_path = 'gdrive/My Drive/kaggle/'  #change dir to your project folder"
      ],
      "execution_count": 5,
      "outputs": [
        {
          "output_type": "stream",
          "text": [
            "Drive already mounted at /content/gdrive; to attempt to forcibly remount, call drive.mount(\"/content/gdrive\", force_remount=True).\n"
          ],
          "name": "stdout"
        }
      ]
    },
    {
      "cell_type": "code",
      "metadata": {
        "id": "L7BB5Zf07j4P",
        "outputId": "b5fc4251-6504-482e-f57a-ba82a48b6f1e",
        "colab": {
          "base_uri": "https://localhost:8080/",
          "height": 51
        }
      },
      "source": [
        "%cd /content/gdrive/My Drive//kaggle/SentimentAnalysis/\n",
        "!ls"
      ],
      "execution_count": 6,
      "outputs": [
        {
          "output_type": "stream",
          "text": [
            "/content/gdrive/My Drive/kaggle/SentimentAnalysis\n",
            "training.1600000.processed.noemoticon.csv\n"
          ],
          "name": "stdout"
        }
      ]
    },
    {
      "cell_type": "code",
      "metadata": {
        "id": "CzQMAs3_7osW"
      },
      "source": [
        "DATASET_ENCODING = \"ISO-8859-1\"\n",
        "DATASET_COLUMNS = [\"target\", \"ids\", \"date\", \"flag\", \"user\", \"text\"]\n",
        "#DATASET_COLUMNS = [\"target\", \"text\"]\n",
        "DATASET_PATH = \"/content/gdrive/My Drive/kaggle/SentimentAnalysis/training.1600000.processed.noemoticon.csv\"\n",
        "\n",
        "seands = pd.read_csv(DATASET_PATH, encoding = DATASET_ENCODING, names = DATASET_COLUMNS)\n"
      ],
      "execution_count": 7,
      "outputs": []
    },
    {
      "cell_type": "code",
      "metadata": {
        "id": "adfWLPbN_fpW",
        "outputId": "a359c75b-5ae6-49fc-a60a-ddf3a9a4cd1e",
        "colab": {
          "base_uri": "https://localhost:8080/",
          "height": 204
        }
      },
      "source": [
        "seands.head()"
      ],
      "execution_count": 8,
      "outputs": [
        {
          "output_type": "execute_result",
          "data": {
            "text/html": [
              "<div>\n",
              "<style scoped>\n",
              "    .dataframe tbody tr th:only-of-type {\n",
              "        vertical-align: middle;\n",
              "    }\n",
              "\n",
              "    .dataframe tbody tr th {\n",
              "        vertical-align: top;\n",
              "    }\n",
              "\n",
              "    .dataframe thead th {\n",
              "        text-align: right;\n",
              "    }\n",
              "</style>\n",
              "<table border=\"1\" class=\"dataframe\">\n",
              "  <thead>\n",
              "    <tr style=\"text-align: right;\">\n",
              "      <th></th>\n",
              "      <th>target</th>\n",
              "      <th>ids</th>\n",
              "      <th>date</th>\n",
              "      <th>flag</th>\n",
              "      <th>user</th>\n",
              "      <th>text</th>\n",
              "    </tr>\n",
              "  </thead>\n",
              "  <tbody>\n",
              "    <tr>\n",
              "      <th>0</th>\n",
              "      <td>0</td>\n",
              "      <td>1467810369</td>\n",
              "      <td>Mon Apr 06 22:19:45 PDT 2009</td>\n",
              "      <td>NO_QUERY</td>\n",
              "      <td>_TheSpecialOne_</td>\n",
              "      <td>@switchfoot http://twitpic.com/2y1zl - Awww, t...</td>\n",
              "    </tr>\n",
              "    <tr>\n",
              "      <th>1</th>\n",
              "      <td>0</td>\n",
              "      <td>1467810672</td>\n",
              "      <td>Mon Apr 06 22:19:49 PDT 2009</td>\n",
              "      <td>NO_QUERY</td>\n",
              "      <td>scotthamilton</td>\n",
              "      <td>is upset that he can't update his Facebook by ...</td>\n",
              "    </tr>\n",
              "    <tr>\n",
              "      <th>2</th>\n",
              "      <td>0</td>\n",
              "      <td>1467810917</td>\n",
              "      <td>Mon Apr 06 22:19:53 PDT 2009</td>\n",
              "      <td>NO_QUERY</td>\n",
              "      <td>mattycus</td>\n",
              "      <td>@Kenichan I dived many times for the ball. Man...</td>\n",
              "    </tr>\n",
              "    <tr>\n",
              "      <th>3</th>\n",
              "      <td>0</td>\n",
              "      <td>1467811184</td>\n",
              "      <td>Mon Apr 06 22:19:57 PDT 2009</td>\n",
              "      <td>NO_QUERY</td>\n",
              "      <td>ElleCTF</td>\n",
              "      <td>my whole body feels itchy and like its on fire</td>\n",
              "    </tr>\n",
              "    <tr>\n",
              "      <th>4</th>\n",
              "      <td>0</td>\n",
              "      <td>1467811193</td>\n",
              "      <td>Mon Apr 06 22:19:57 PDT 2009</td>\n",
              "      <td>NO_QUERY</td>\n",
              "      <td>Karoli</td>\n",
              "      <td>@nationwideclass no, it's not behaving at all....</td>\n",
              "    </tr>\n",
              "  </tbody>\n",
              "</table>\n",
              "</div>"
            ],
            "text/plain": [
              "   target  ...                                               text\n",
              "0       0  ...  @switchfoot http://twitpic.com/2y1zl - Awww, t...\n",
              "1       0  ...  is upset that he can't update his Facebook by ...\n",
              "2       0  ...  @Kenichan I dived many times for the ball. Man...\n",
              "3       0  ...    my whole body feels itchy and like its on fire \n",
              "4       0  ...  @nationwideclass no, it's not behaving at all....\n",
              "\n",
              "[5 rows x 6 columns]"
            ]
          },
          "metadata": {
            "tags": []
          },
          "execution_count": 8
        }
      ]
    },
    {
      "cell_type": "code",
      "metadata": {
        "id": "gAOZcSUBBDLp",
        "outputId": "33a9dcbe-a486-48ff-fa7a-c57525a23a9b",
        "colab": {
          "base_uri": "https://localhost:8080/",
          "height": 204
        }
      },
      "source": [
        "seands = seands[[\"target\", \"text\"]]\n",
        "seands.head()"
      ],
      "execution_count": 9,
      "outputs": [
        {
          "output_type": "execute_result",
          "data": {
            "text/html": [
              "<div>\n",
              "<style scoped>\n",
              "    .dataframe tbody tr th:only-of-type {\n",
              "        vertical-align: middle;\n",
              "    }\n",
              "\n",
              "    .dataframe tbody tr th {\n",
              "        vertical-align: top;\n",
              "    }\n",
              "\n",
              "    .dataframe thead th {\n",
              "        text-align: right;\n",
              "    }\n",
              "</style>\n",
              "<table border=\"1\" class=\"dataframe\">\n",
              "  <thead>\n",
              "    <tr style=\"text-align: right;\">\n",
              "      <th></th>\n",
              "      <th>target</th>\n",
              "      <th>text</th>\n",
              "    </tr>\n",
              "  </thead>\n",
              "  <tbody>\n",
              "    <tr>\n",
              "      <th>0</th>\n",
              "      <td>0</td>\n",
              "      <td>@switchfoot http://twitpic.com/2y1zl - Awww, t...</td>\n",
              "    </tr>\n",
              "    <tr>\n",
              "      <th>1</th>\n",
              "      <td>0</td>\n",
              "      <td>is upset that he can't update his Facebook by ...</td>\n",
              "    </tr>\n",
              "    <tr>\n",
              "      <th>2</th>\n",
              "      <td>0</td>\n",
              "      <td>@Kenichan I dived many times for the ball. Man...</td>\n",
              "    </tr>\n",
              "    <tr>\n",
              "      <th>3</th>\n",
              "      <td>0</td>\n",
              "      <td>my whole body feels itchy and like its on fire</td>\n",
              "    </tr>\n",
              "    <tr>\n",
              "      <th>4</th>\n",
              "      <td>0</td>\n",
              "      <td>@nationwideclass no, it's not behaving at all....</td>\n",
              "    </tr>\n",
              "  </tbody>\n",
              "</table>\n",
              "</div>"
            ],
            "text/plain": [
              "   target                                               text\n",
              "0       0  @switchfoot http://twitpic.com/2y1zl - Awww, t...\n",
              "1       0  is upset that he can't update his Facebook by ...\n",
              "2       0  @Kenichan I dived many times for the ball. Man...\n",
              "3       0    my whole body feels itchy and like its on fire \n",
              "4       0  @nationwideclass no, it's not behaving at all...."
            ]
          },
          "metadata": {
            "tags": []
          },
          "execution_count": 9
        }
      ]
    },
    {
      "cell_type": "code",
      "metadata": {
        "id": "DYxFMJ9xCtc3",
        "outputId": "7ccfd55d-906e-42b3-d77c-1b9e8c27b908",
        "colab": {
          "base_uri": "https://localhost:8080/",
          "height": 68
        }
      },
      "source": [
        "seands['target'].value_counts()"
      ],
      "execution_count": 10,
      "outputs": [
        {
          "output_type": "execute_result",
          "data": {
            "text/plain": [
              "4    800000\n",
              "0    800000\n",
              "Name: target, dtype: int64"
            ]
          },
          "metadata": {
            "tags": []
          },
          "execution_count": 10
        }
      ]
    },
    {
      "cell_type": "markdown",
      "metadata": {
        "id": "kdvlxBBD2Sxj"
      },
      "source": [
        "## Check the GPU available"
      ]
    },
    {
      "cell_type": "code",
      "metadata": {
        "id": "R3wYZMRl2U4-",
        "outputId": "ace0c8c6-e89b-41ae-b66f-067a8175d7bd",
        "colab": {
          "base_uri": "https://localhost:8080/",
          "height": 34
        }
      },
      "source": [
        "if tf.test.gpu_device_name(): \n",
        "\n",
        "    print('Default GPU Device: {}'.format(tf.test.gpu_device_name()))\n",
        "\n",
        "else:\n",
        "\n",
        "   print(\"Please install GPU version of TF\")"
      ],
      "execution_count": 11,
      "outputs": [
        {
          "output_type": "stream",
          "text": [
            "Default GPU Device: /device:GPU:0\n"
          ],
          "name": "stdout"
        }
      ]
    },
    {
      "cell_type": "code",
      "metadata": {
        "id": "P3ga6Z6F2xut",
        "outputId": "72958ff7-1afd-414f-f33f-789bdd53c7c8",
        "colab": {
          "base_uri": "https://localhost:8080/",
          "height": 238
        }
      },
      "source": [
        "# memory footprint support libraries/code\n",
        "!ln -sf /opt/bin/nvidia-smi /usr/bin/nvidia-smi\n",
        "!pip install gputil\n",
        "!pip install psutil\n",
        "!pip install humanize\n",
        "\n",
        "import psutil\n",
        "import humanize\n",
        "import os\n",
        "import GPUtil as GPU\n",
        "GPUs = GPU.getGPUs()\n",
        "\n",
        "# XXX: only one GPU on Colab and isn’t guaranteed\n",
        "gpu = GPUs[0]\n",
        "def printm():\n",
        "  process = psutil.Process(os.getpid())\n",
        "  print(\"Gen RAM Free: \" + humanize.naturalsize( psutil.virtual_memory().available ), \" | Proc size: \" + humanize.naturalsize( process.memory_info().rss))\n",
        "  print(\"GPU RAM Free: {0:.0f}MB | Used: {1:.0f}MB | Util {2:3.0f}% | Total {3:.0f}MB\".format(gpu.memoryFree, gpu.memoryUsed, gpu.memoryUtil*100, gpu.memoryTotal))\n",
        "\n",
        "printm()"
      ],
      "execution_count": 12,
      "outputs": [
        {
          "output_type": "stream",
          "text": [
            "Collecting gputil\n",
            "  Downloading https://files.pythonhosted.org/packages/ed/0e/5c61eedde9f6c87713e89d794f01e378cfd9565847d4576fa627d758c554/GPUtil-1.4.0.tar.gz\n",
            "Building wheels for collected packages: gputil\n",
            "  Building wheel for gputil (setup.py) ... \u001b[?25l\u001b[?25hdone\n",
            "  Created wheel for gputil: filename=GPUtil-1.4.0-cp36-none-any.whl size=7411 sha256=1e7c5ce3f596deb61e089964cb60b7d74dfc550a48ddb21ca0622b5f33b8155f\n",
            "  Stored in directory: /root/.cache/pip/wheels/3d/77/07/80562de4bb0786e5ea186911a2c831fdd0018bda69beab71fd\n",
            "Successfully built gputil\n",
            "Installing collected packages: gputil\n",
            "Successfully installed gputil-1.4.0\n",
            "Requirement already satisfied: psutil in /usr/local/lib/python3.6/dist-packages (5.4.8)\n",
            "Requirement already satisfied: humanize in /usr/local/lib/python3.6/dist-packages (0.5.1)\n",
            "Gen RAM Free: 12.1 GB  | Proc size: 1.0 GB\n",
            "GPU RAM Free: 14968MB | Used: 111MB | Util   1% | Total 15079MB\n"
          ],
          "name": "stdout"
        }
      ]
    },
    {
      "cell_type": "markdown",
      "metadata": {
        "id": "2bYKuiq6KdX-"
      },
      "source": [
        "##Data Visualization\n",
        "---\n",
        "1.   Print at least two tweets from each class of the dataset, for a sanity check that labels match the text.\n",
        "2.   Plot a bar graph of class distribution in dataset. Each bar depicts the number of tweets belonging to a particular sentiment. (recommended -matplotlib/seaborn libraries)\n",
        "3.   Any other visualizations that seem appropriate for this problem are encouraged but not necessary, for the points.\n",
        "4.   Print the shapes of train and test data."
      ]
    },
    {
      "cell_type": "markdown",
      "metadata": {
        "id": "7LZ0WK4RfDLR"
      },
      "source": [
        "**Tweets from each class of the dataset**"
      ]
    },
    {
      "cell_type": "code",
      "metadata": {
        "id": "44vWx_eWDBLm",
        "outputId": "9b2a329e-42e5-40ec-f67d-c1b95988a78c",
        "colab": {
          "base_uri": "https://localhost:8080/",
          "height": 204
        }
      },
      "source": [
        "# 0 = negative\n",
        "seands[seands.target==0].head()"
      ],
      "execution_count": 13,
      "outputs": [
        {
          "output_type": "execute_result",
          "data": {
            "text/html": [
              "<div>\n",
              "<style scoped>\n",
              "    .dataframe tbody tr th:only-of-type {\n",
              "        vertical-align: middle;\n",
              "    }\n",
              "\n",
              "    .dataframe tbody tr th {\n",
              "        vertical-align: top;\n",
              "    }\n",
              "\n",
              "    .dataframe thead th {\n",
              "        text-align: right;\n",
              "    }\n",
              "</style>\n",
              "<table border=\"1\" class=\"dataframe\">\n",
              "  <thead>\n",
              "    <tr style=\"text-align: right;\">\n",
              "      <th></th>\n",
              "      <th>target</th>\n",
              "      <th>text</th>\n",
              "    </tr>\n",
              "  </thead>\n",
              "  <tbody>\n",
              "    <tr>\n",
              "      <th>0</th>\n",
              "      <td>0</td>\n",
              "      <td>@switchfoot http://twitpic.com/2y1zl - Awww, t...</td>\n",
              "    </tr>\n",
              "    <tr>\n",
              "      <th>1</th>\n",
              "      <td>0</td>\n",
              "      <td>is upset that he can't update his Facebook by ...</td>\n",
              "    </tr>\n",
              "    <tr>\n",
              "      <th>2</th>\n",
              "      <td>0</td>\n",
              "      <td>@Kenichan I dived many times for the ball. Man...</td>\n",
              "    </tr>\n",
              "    <tr>\n",
              "      <th>3</th>\n",
              "      <td>0</td>\n",
              "      <td>my whole body feels itchy and like its on fire</td>\n",
              "    </tr>\n",
              "    <tr>\n",
              "      <th>4</th>\n",
              "      <td>0</td>\n",
              "      <td>@nationwideclass no, it's not behaving at all....</td>\n",
              "    </tr>\n",
              "  </tbody>\n",
              "</table>\n",
              "</div>"
            ],
            "text/plain": [
              "   target                                               text\n",
              "0       0  @switchfoot http://twitpic.com/2y1zl - Awww, t...\n",
              "1       0  is upset that he can't update his Facebook by ...\n",
              "2       0  @Kenichan I dived many times for the ball. Man...\n",
              "3       0    my whole body feels itchy and like its on fire \n",
              "4       0  @nationwideclass no, it's not behaving at all...."
            ]
          },
          "metadata": {
            "tags": []
          },
          "execution_count": 13
        }
      ]
    },
    {
      "cell_type": "code",
      "metadata": {
        "id": "95AkD2QqDUmq",
        "outputId": "acc09ca1-06e8-4aa3-ba36-58f82758b20f",
        "colab": {
          "base_uri": "https://localhost:8080/",
          "height": 49
        }
      },
      "source": [
        "# 2 = neutral \n",
        "seands[seands.target==2].head()"
      ],
      "execution_count": 14,
      "outputs": [
        {
          "output_type": "execute_result",
          "data": {
            "text/html": [
              "<div>\n",
              "<style scoped>\n",
              "    .dataframe tbody tr th:only-of-type {\n",
              "        vertical-align: middle;\n",
              "    }\n",
              "\n",
              "    .dataframe tbody tr th {\n",
              "        vertical-align: top;\n",
              "    }\n",
              "\n",
              "    .dataframe thead th {\n",
              "        text-align: right;\n",
              "    }\n",
              "</style>\n",
              "<table border=\"1\" class=\"dataframe\">\n",
              "  <thead>\n",
              "    <tr style=\"text-align: right;\">\n",
              "      <th></th>\n",
              "      <th>target</th>\n",
              "      <th>text</th>\n",
              "    </tr>\n",
              "  </thead>\n",
              "  <tbody>\n",
              "  </tbody>\n",
              "</table>\n",
              "</div>"
            ],
            "text/plain": [
              "Empty DataFrame\n",
              "Columns: [target, text]\n",
              "Index: []"
            ]
          },
          "metadata": {
            "tags": []
          },
          "execution_count": 14
        }
      ]
    },
    {
      "cell_type": "code",
      "metadata": {
        "id": "wJzc61xfDSPy",
        "outputId": "6682c079-d696-4d10-feff-097039814f74",
        "colab": {
          "base_uri": "https://localhost:8080/",
          "height": 204
        }
      },
      "source": [
        "# 4 = positive\n",
        "seands[seands.target==4].head()"
      ],
      "execution_count": 15,
      "outputs": [
        {
          "output_type": "execute_result",
          "data": {
            "text/html": [
              "<div>\n",
              "<style scoped>\n",
              "    .dataframe tbody tr th:only-of-type {\n",
              "        vertical-align: middle;\n",
              "    }\n",
              "\n",
              "    .dataframe tbody tr th {\n",
              "        vertical-align: top;\n",
              "    }\n",
              "\n",
              "    .dataframe thead th {\n",
              "        text-align: right;\n",
              "    }\n",
              "</style>\n",
              "<table border=\"1\" class=\"dataframe\">\n",
              "  <thead>\n",
              "    <tr style=\"text-align: right;\">\n",
              "      <th></th>\n",
              "      <th>target</th>\n",
              "      <th>text</th>\n",
              "    </tr>\n",
              "  </thead>\n",
              "  <tbody>\n",
              "    <tr>\n",
              "      <th>800000</th>\n",
              "      <td>4</td>\n",
              "      <td>I LOVE @Health4UandPets u guys r the best!!</td>\n",
              "    </tr>\n",
              "    <tr>\n",
              "      <th>800001</th>\n",
              "      <td>4</td>\n",
              "      <td>im meeting up with one of my besties tonight! ...</td>\n",
              "    </tr>\n",
              "    <tr>\n",
              "      <th>800002</th>\n",
              "      <td>4</td>\n",
              "      <td>@DaRealSunisaKim Thanks for the Twitter add, S...</td>\n",
              "    </tr>\n",
              "    <tr>\n",
              "      <th>800003</th>\n",
              "      <td>4</td>\n",
              "      <td>Being sick can be really cheap when it hurts t...</td>\n",
              "    </tr>\n",
              "    <tr>\n",
              "      <th>800004</th>\n",
              "      <td>4</td>\n",
              "      <td>@LovesBrooklyn2 he has that effect on everyone</td>\n",
              "    </tr>\n",
              "  </tbody>\n",
              "</table>\n",
              "</div>"
            ],
            "text/plain": [
              "        target                                               text\n",
              "800000       4       I LOVE @Health4UandPets u guys r the best!! \n",
              "800001       4  im meeting up with one of my besties tonight! ...\n",
              "800002       4  @DaRealSunisaKim Thanks for the Twitter add, S...\n",
              "800003       4  Being sick can be really cheap when it hurts t...\n",
              "800004       4    @LovesBrooklyn2 he has that effect on everyone "
            ]
          },
          "metadata": {
            "tags": []
          },
          "execution_count": 15
        }
      ]
    },
    {
      "cell_type": "markdown",
      "metadata": {
        "id": "iSQxABNXEuMU"
      },
      "source": [
        "**Bar graph of class distribution in dataset**"
      ]
    },
    {
      "cell_type": "code",
      "metadata": {
        "id": "vAV3h0RJE1Lw",
        "outputId": "8fa4f65b-bb38-495a-9a90-c9d9e6444875",
        "colab": {
          "base_uri": "https://localhost:8080/",
          "height": 440
        }
      },
      "source": [
        "sns.set(font_scale=1.4)\n",
        "seands['target'].value_counts().plot(kind='bar', figsize=(7, 6), rot=0)\n",
        "plt.xlabel(\"Sentiment\", labelpad=14)\n",
        "plt.ylabel(\"Count of tweets\", labelpad=14)\n",
        "plt.title(\"Count of tweets by Sentiment\", y=1.02);"
      ],
      "execution_count": 16,
      "outputs": [
        {
          "output_type": "display_data",
          "data": {
            "image/png": "[encoded data removed]",
            "text/plain": [
              "<Figure size 504x432 with 1 Axes>"
            ]
          },
          "metadata": {
            "tags": []
          }
        }
      ]
    },
    {
      "cell_type": "markdown",
      "metadata": {
        "id": "t1-Og960GrSL"
      },
      "source": [
        "**shapes of train and test data.**"
      ]
    },
    {
      "cell_type": "code",
      "metadata": {
        "id": "Wt0pcfY_TBAT"
      },
      "source": [
        "# Ref : https://medium.com/themlblog/splitting-csv-into-train-and-test-data-1407a063dd74\n",
        "\n",
        "y = pd.to_numeric(seands.target)\n",
        "\n",
        "# X = seands.drop('target', axis=1)\n",
        "X = seands.text\n",
        "\n",
        "y =y.replace(to_replace=4,value=1)"
      ],
      "execution_count": 17,
      "outputs": []
    },
    {
      "cell_type": "code",
      "metadata": {
        "id": "vH6MO3fUTRdW"
      },
      "source": [
        "Xtrain, Xtest, Ytrain, Ytest = train_test_split(X, y,test_size=0.2)"
      ],
      "execution_count": 18,
      "outputs": []
    },
    {
      "cell_type": "code",
      "metadata": {
        "id": "zP9dSBRxauoX",
        "outputId": "e3c0aff5-73d9-42df-fbba-37e92f9bb8c2",
        "colab": {
          "base_uri": "https://localhost:8080/",
          "height": 34
        }
      },
      "source": [
        "print(np.unique(Ytrain.values,return_counts=True))"
      ],
      "execution_count": 19,
      "outputs": [
        {
          "output_type": "stream",
          "text": [
            "(array([0, 1]), array([640506, 639494]))\n"
          ],
          "name": "stdout"
        }
      ]
    },
    {
      "cell_type": "code",
      "metadata": {
        "id": "KDCSiYEYThJ9",
        "outputId": "39da5c65-ccfe-4c88-9b5f-8453e0f3cce1",
        "colab": {
          "base_uri": "https://localhost:8080/",
          "height": 697
        }
      },
      "source": [
        "# size of the datsets\n",
        "\n",
        "print(\"\\n Xtrain :\\n\")\n",
        "print(Xtrain.head())\n",
        "print(Xtrain.shape)\n",
        "\n",
        "print(\"\\n Xtest :\\n\")\n",
        "print(Xtest.head())\n",
        "print(Xtest.shape)\n",
        "\n",
        "print(\"\\n Ytrain :\\n\")\n",
        "print(Ytrain.head())\n",
        "print(Ytrain.shape)\n",
        "\n",
        "print(\"\\n Ytest :\\n\")\n",
        "print(Ytrain.head())\n",
        "print(Ytrain.shape)"
      ],
      "execution_count": 20,
      "outputs": [
        {
          "output_type": "stream",
          "text": [
            "\n",
            " Xtrain :\n",
            "\n",
            "1374558    @jbtaylor WIth ya. &quot;I'd like a Palm Pre, ...\n",
            "1389115    felt the earthquake this afternoon, it seems t...\n",
            "1137831          Ruffles on shirts are like so in, me Likey \n",
            "790714     Pretty bad night into a crappy morning....FML!...\n",
            "1117911               @dcbriccetti yeah, what a clear view! \n",
            "Name: text, dtype: object\n",
            "(1280000,)\n",
            "\n",
            " Xtest :\n",
            "\n",
            "541200               @chrishasboobs AHHH I HOPE YOUR OK!!! \n",
            "750       @misstoriblack cool , i have no tweet apps  fo...\n",
            "766711    @TiannaChaos i know  just family drama. its la...\n",
            "285055    School email won't open  and I have geography ...\n",
            "705995                               upper airways problem \n",
            "Name: text, dtype: object\n",
            "(320000,)\n",
            "\n",
            " Ytrain :\n",
            "\n",
            "1374558    1\n",
            "1389115    1\n",
            "1137831    1\n",
            "790714     0\n",
            "1117911    1\n",
            "Name: target, dtype: int64\n",
            "(1280000,)\n",
            "\n",
            " Ytest :\n",
            "\n",
            "1374558    1\n",
            "1389115    1\n",
            "1137831    1\n",
            "790714     0\n",
            "1117911    1\n",
            "Name: target, dtype: int64\n",
            "(1280000,)\n"
          ],
          "name": "stdout"
        }
      ]
    },
    {
      "cell_type": "markdown",
      "metadata": {
        "id": "9d4-kKjXHFZ7"
      },
      "source": [
        "##Data Pre-processing\n",
        "---"
      ]
    },
    {
      "cell_type": "markdown",
      "metadata": {
        "id": "1mmvOYTLOlmB"
      },
      "source": [
        "\n",
        "\n",
        "1.   Need for this Step-Since the models we use cannot accept string inputs or cannot be of the string format. We have to come up with a way of handling this step. The discussion of different ways of handling this step is out of the scope of this assignment.\n",
        "2.   Please use this [pre-trained embedding layer](https://tfhub.dev/google/nnlm-en-dim128/1) from TensorFlow hub for this assignment. This link also has a code snippet onhow to convert a sentence to a vector. Refer to that for further clarity on this subject.\n",
        "3.   Bring the train and test data in the required format."
      ]
    },
    {
      "cell_type": "code",
      "metadata": {
        "id": "uUW26OdSHdci",
        "outputId": "ec927bfe-5bc3-46b5-8e89-34f9a96f3d36",
        "colab": {
          "base_uri": "https://localhost:8080/",
          "height": 187
        }
      },
      "source": [
        "# Ref : https://tfhub.dev/google/nnlm-en-dim128/1\n",
        "\n",
        "embed = hub.Module(\"https://tfhub.dev/google/nnlm-en-dim128/1\")\n",
        "# embeddings = embed([\"cat is on the mat\", \"dog is in the fog\"])\n",
        "# print(embeddings)\n",
        "\n",
        "# print(type(Xtrain))\n",
        "# print(Xtrain.values)\n",
        "# print(Xtrain.values.shape)\n",
        "\n",
        "Xtrainval_tensor = embed(Xtrain.values)\n",
        "\n",
        "# print(Xtrainval)\n",
        "# print(type(Xtrainval))\n",
        "\n",
        "print(Xtrainval_tensor)\n",
        "print(type(Xtrainval_tensor))\n",
        "\n",
        "Xtestval_tensor = embed(Xtest.values)\n",
        "\n",
        "# print(Xtestval)\n",
        "# print(type(Xtestval))\n",
        "\n",
        "print(Xtestval_tensor)\n",
        "print(type(Xtestval_tensor))\n",
        "\n",
        "# converting tensors to numpy arrays\n",
        "with tf.Session() as sess:\n",
        "  sess.run(tf.global_variables_initializer())\n",
        "  sess.run(tf.tables_initializer()) \n",
        "  Xtrainval = sess.run(Xtrainval_tensor)\n",
        "  Xtestval = sess.run(Xtestval_tensor)\n",
        "\n",
        " \n",
        "print(Xtrainval.shape)\n",
        "print(Xtestval.shape)\n",
        "\n",
        "Ytrainval = tf.keras.utils.to_categorical(Ytrain.values)\n",
        "Ytestval = tf.keras.utils.to_categorical(Ytest.values)\n",
        "\n",
        "# print(Ytrainval.shape)\n",
        "# print(Ytestval.shape)\n",
        "\n",
        "# print(np.unique(Ytrainval,return_counts=True))\n",
        "\n",
        "# print(Ytrainval)\n",
        "\n",
        "# print(Ytrain.values)\n",
        "# print(Ytrain.value_counts())"
      ],
      "execution_count": 21,
      "outputs": [
        {
          "output_type": "stream",
          "text": [
            "INFO:tensorflow:Saver not created because there are no variables in the graph to restore\n"
          ],
          "name": "stdout"
        },
        {
          "output_type": "stream",
          "text": [
            "INFO:tensorflow:Saver not created because there are no variables in the graph to restore\n"
          ],
          "name": "stderr"
        },
        {
          "output_type": "stream",
          "text": [
            "Tensor(\"module_apply_default/embedding_lookup_sparse:0\", shape=(?, 128), dtype=float32)\n",
            "<class 'tensorflow.python.framework.ops.Tensor'>\n",
            "INFO:tensorflow:Saver not created because there are no variables in the graph to restore\n"
          ],
          "name": "stdout"
        },
        {
          "output_type": "stream",
          "text": [
            "INFO:tensorflow:Saver not created because there are no variables in the graph to restore\n"
          ],
          "name": "stderr"
        },
        {
          "output_type": "stream",
          "text": [
            "Tensor(\"module_apply_default_1/embedding_lookup_sparse:0\", shape=(?, 128), dtype=float32)\n",
            "<class 'tensorflow.python.framework.ops.Tensor'>\n",
            "(1280000, 128)\n",
            "(320000, 128)\n"
          ],
          "name": "stdout"
        }
      ]
    },
    {
      "cell_type": "markdown",
      "metadata": {
        "id": "mYwDGJwLFsaJ"
      },
      "source": [
        "# **Model Building**\n",
        "---\n",
        "1.   Sequential Model layers-Use AT LEAST 3 dense layers with appropriate input for each. Choose the best number for hidden units and give reasons.\n",
        "2.   Add L2 regularization to all the layers.\n",
        "3.   Add one layer of dropout at the appropriate position and give reasons.\n",
        "4.   Choose the appropriate activation function for all the layers.\n",
        "5.   Print the model summary.\n",
        "\n"
      ]
    },
    {
      "cell_type": "markdown",
      "metadata": {
        "id": "FKX7sMaZH9rZ"
      },
      "source": [
        " **DNN Model**\n",
        "\n",
        "\n",
        "Using Keras, create the DNN or Sequential Model"
      ]
    },
    {
      "cell_type": "code",
      "metadata": {
        "id": "fKiBS0eOIFBi"
      },
      "source": [
        "# Create a model object\n",
        "\n",
        "dnnModel = models.Sequential()"
      ],
      "execution_count": 22,
      "outputs": []
    },
    {
      "cell_type": "markdown",
      "metadata": {
        "id": "2ZYdBlsoId31"
      },
      "source": [
        "Add dense layers, specifying the number of units in each layer and the activation function used in the layer."
      ]
    },
    {
      "cell_type": "code",
      "metadata": {
        "id": "v_xDBAIsIey-",
        "outputId": "faa38753-bea6-4b94-9ef3-1065115e1a15",
        "colab": {
          "base_uri": "https://localhost:8080/",
          "height": 445
        }
      },
      "source": [
        "\n",
        "# Layer 1 = input layer\n",
        "# specify the input size for in the first layer. --  with Regularizers\n",
        "\n",
        "dnnModel.add(layers.Dense(100, activation='relu', \n",
        "                          kernel_regularizer=regularizers.l2(0.01), \n",
        "                          activity_regularizer=regularizers.l2(0.01), \n",
        "                          input_shape= (128,)\n",
        "                          ))\n",
        "\n",
        "\n",
        "\n",
        "# Layer 2 = hidden layer  with Regularizers\n",
        "dnnModel.add(layers.Dense(70, activation='relu', \n",
        "                          kernel_regularizer=regularizers.l2(0.01),\n",
        "                          activity_regularizer=regularizers.l2(0.01)\n",
        "                          ))\n",
        "\n",
        "# Add dropout of 50% to layer 2\n",
        "dnnModel.add(layers.Dropout(0.5))\n",
        "\n",
        "# Layer 3 = hidden layer  with Regularizers\n",
        "dnnModel.add(layers.Dense(30, activation='relu', \n",
        "                          kernel_regularizer=regularizers.l2(0.01),\n",
        "                          activity_regularizer=regularizers.l2(0.01)\n",
        "                          ))\n",
        "\n",
        "# Layer 4 = output layer  with Regularizers\n",
        "dnnModel.add(layers.Dense(2, activation='softmax', \n",
        "                          kernel_regularizer=regularizers.l2(0.01),\n",
        "                          activity_regularizer=regularizers.l2(0.01)\n",
        "                          ))\n",
        "\n",
        "dnnModel.summary()"
      ],
      "execution_count": 23,
      "outputs": [
        {
          "output_type": "stream",
          "text": [
            "WARNING:tensorflow:From /usr/local/lib/python3.6/dist-packages/tensorflow_core/python/ops/resource_variable_ops.py:1630: calling BaseResourceVariable.__init__ (from tensorflow.python.ops.resource_variable_ops) with constraint is deprecated and will be removed in a future version.\n",
            "Instructions for updating:\n",
            "If using Keras pass *_constraint arguments to layers.\n"
          ],
          "name": "stdout"
        },
        {
          "output_type": "stream",
          "text": [
            "WARNING:tensorflow:From /usr/local/lib/python3.6/dist-packages/tensorflow_core/python/ops/resource_variable_ops.py:1630: calling BaseResourceVariable.__init__ (from tensorflow.python.ops.resource_variable_ops) with constraint is deprecated and will be removed in a future version.\n",
            "Instructions for updating:\n",
            "If using Keras pass *_constraint arguments to layers.\n"
          ],
          "name": "stderr"
        },
        {
          "output_type": "stream",
          "text": [
            "Model: \"sequential\"\n",
            "_________________________________________________________________\n",
            "Layer (type)                 Output Shape              Param #   \n",
            "=================================================================\n",
            "dense (Dense)                (None, 100)               12900     \n",
            "_________________________________________________________________\n",
            "dense_1 (Dense)              (None, 70)                7070      \n",
            "_________________________________________________________________\n",
            "dropout (Dropout)            (None, 70)                0         \n",
            "_________________________________________________________________\n",
            "dense_2 (Dense)              (None, 30)                2130      \n",
            "_________________________________________________________________\n",
            "dense_3 (Dense)              (None, 2)                 62        \n",
            "=================================================================\n",
            "Total params: 22,162\n",
            "Trainable params: 22,162\n",
            "Non-trainable params: 0\n",
            "_________________________________________________________________\n"
          ],
          "name": "stdout"
        }
      ]
    },
    {
      "cell_type": "markdown",
      "metadata": {
        "id": "KCzLDZ-FAQfw"
      },
      "source": [
        "**Reason** for choosing the above set of DNN Layers, respective number of nodes and position of the dropout layer is based on how good the model performed based on various trialed combination that gave the best accuracy.Also dropout is placed in a layer where they are fully connected and having greater number of parameters which result in good accuracy. "
      ]
    },
    {
      "cell_type": "markdown",
      "metadata": {
        "id": "vZeoEiFSW9Pr"
      },
      "source": [
        "# **Model Compilation**\n",
        "---\n",
        "\n",
        "\n",
        "1.   Compile the model with the appropriate loss function.\n",
        "2.   Use an appropriate optimizer.Give reasons for the choice of learning rate and its value.\n",
        "3.    Use accuracy as metric.\n",
        "\n"
      ]
    },
    {
      "cell_type": "markdown",
      "metadata": {
        "id": "blRG0MtQXTYG"
      },
      "source": [
        "Regularization and Optimizations of DNN"
      ]
    },
    {
      "cell_type": "code",
      "metadata": {
        "id": "x2JotJFbXc6r"
      },
      "source": [
        "# Configure  the model for training, by using appropriate optimizers and regularizations\n",
        "# Available optimizer: adam, rmsprop, adagrad, sgd\n",
        "# loss:  objective that the model will try to minimize. \n",
        "# Available loss: categorical_crossentropy, binary_crossentropy, mean_squared_error\n",
        "# metrics: List of metrics to be evaluated by the model during training and testing. \n",
        "        \n",
        "#dnnModel.compile( optimizer = 'adam', loss = 'categorical_crossentropy', metrics=['accuracy'] )\n",
        "NUM_EPOCHS = 25\n",
        "INIT_LR = 0.001\n",
        "BS = 1024       \n",
        "opt = Adam(lr=INIT_LR, decay=INIT_LR / NUM_EPOCHS)\n",
        "# opt = 'adam'\n",
        "dnnModel.compile( optimizer = opt, loss = 'categorical_crossentropy', metrics=['accuracy'] )"
      ],
      "execution_count": 24,
      "outputs": []
    },
    {
      "cell_type": "markdown",
      "metadata": {
        "id": "MK4yvqt7BM1F"
      },
      "source": [
        "**Reason** for the choice of learning rate and its value : Upon choosing the above given Learning rate, best accuracy for data was acheived for the Adam optimizer."
      ]
    },
    {
      "cell_type": "markdown",
      "metadata": {
        "id": "14n80se3X2l4"
      },
      "source": [
        "# **Model Training**\n",
        "\n",
        "---\n",
        "\n",
        "\n",
        "1.   Train the model for an appropriate number of epochs (print the train and validation accuracy/loss for each epoch).Use the appropriate batch size.\n",
        "2.   Plot the loss and accuracy history graphs. Print the total time taken for training.\n",
        "\n"
      ]
    },
    {
      "cell_type": "markdown",
      "metadata": {
        "id": "elZsTSp7YGAC"
      },
      "source": [
        "**Train the Model**"
      ]
    },
    {
      "cell_type": "code",
      "metadata": {
        "id": "KP4HUkPrYLTl",
        "outputId": "1cbac503-a915-42fe-b28f-8daecd386467",
        "colab": {
          "base_uri": "https://localhost:8080/",
          "height": 901
        }
      },
      "source": [
        "# train the model\n",
        "#h = dnnModel.fit( Xtrainval, Ytrainval, epochs=25, validation_split=0.2, batch_size=512)\n",
        "start_time = time.time()\n",
        "h = dnnModel.fit( Xtrainval, Ytrainval, epochs=NUM_EPOCHS, validation_split=0.2, batch_size=BS)\n",
        "print(\"--- %s seconds taken for training---\" % (time.time() - start_time))\n"
      ],
      "execution_count": 25,
      "outputs": [
        {
          "output_type": "stream",
          "text": [
            "Train on 1024000 samples, validate on 256000 samples\n",
            "Epoch 1/25\n",
            "1024000/1024000 [==============================] - 8s 8us/sample - loss: 0.8260 - acc: 0.6744 - val_loss: 0.6865 - val_acc: 0.6964\n",
            "Epoch 2/25\n",
            "1024000/1024000 [==============================] - 5s 5us/sample - loss: 0.6907 - acc: 0.6914 - val_loss: 0.6856 - val_acc: 0.6984\n",
            "Epoch 3/25\n",
            "1024000/1024000 [==============================] - 5s 5us/sample - loss: 0.6906 - acc: 0.6914 - val_loss: 0.6855 - val_acc: 0.6985\n",
            "Epoch 4/25\n",
            "1024000/1024000 [==============================] - 5s 5us/sample - loss: 0.6904 - acc: 0.6921 - val_loss: 0.6856 - val_acc: 0.6985\n",
            "Epoch 5/25\n",
            "1024000/1024000 [==============================] - 5s 5us/sample - loss: 0.6904 - acc: 0.6914 - val_loss: 0.6860 - val_acc: 0.6980\n",
            "Epoch 6/25\n",
            "1024000/1024000 [==============================] - 5s 5us/sample - loss: 0.6903 - acc: 0.6917 - val_loss: 0.6853 - val_acc: 0.6988\n",
            "Epoch 7/25\n",
            "1024000/1024000 [==============================] - 5s 5us/sample - loss: 0.6903 - acc: 0.6922 - val_loss: 0.6863 - val_acc: 0.6970\n",
            "Epoch 8/25\n",
            "1024000/1024000 [==============================] - 5s 5us/sample - loss: 0.6903 - acc: 0.6917 - val_loss: 0.6856 - val_acc: 0.6991\n",
            "Epoch 9/25\n",
            "1024000/1024000 [==============================] - 5s 5us/sample - loss: 0.6903 - acc: 0.6920 - val_loss: 0.6852 - val_acc: 0.6987\n",
            "Epoch 10/25\n",
            "1024000/1024000 [==============================] - 5s 5us/sample - loss: 0.6901 - acc: 0.6917 - val_loss: 0.6866 - val_acc: 0.6960\n",
            "Epoch 11/25\n",
            "1024000/1024000 [==============================] - 5s 5us/sample - loss: 0.6903 - acc: 0.6917 - val_loss: 0.6858 - val_acc: 0.6990\n",
            "Epoch 12/25\n",
            "1024000/1024000 [==============================] - 5s 5us/sample - loss: 0.6902 - acc: 0.6919 - val_loss: 0.6863 - val_acc: 0.6972\n",
            "Epoch 13/25\n",
            "1024000/1024000 [==============================] - 5s 5us/sample - loss: 0.6900 - acc: 0.6923 - val_loss: 0.6855 - val_acc: 0.6987\n",
            "Epoch 14/25\n",
            "1024000/1024000 [==============================] - 5s 5us/sample - loss: 0.6901 - acc: 0.6921 - val_loss: 0.6852 - val_acc: 0.6990\n",
            "Epoch 15/25\n",
            "1024000/1024000 [==============================] - 5s 5us/sample - loss: 0.6901 - acc: 0.6922 - val_loss: 0.6857 - val_acc: 0.6981\n",
            "Epoch 16/25\n",
            "1024000/1024000 [==============================] - 5s 5us/sample - loss: 0.6901 - acc: 0.6920 - val_loss: 0.6853 - val_acc: 0.6982\n",
            "Epoch 17/25\n",
            "1024000/1024000 [==============================] - 5s 5us/sample - loss: 0.6902 - acc: 0.6920 - val_loss: 0.6855 - val_acc: 0.6976\n",
            "Epoch 18/25\n",
            "1024000/1024000 [==============================] - 5s 5us/sample - loss: 0.6902 - acc: 0.6922 - val_loss: 0.6855 - val_acc: 0.6986\n",
            "Epoch 19/25\n",
            "1024000/1024000 [==============================] - 5s 5us/sample - loss: 0.6901 - acc: 0.6923 - val_loss: 0.6854 - val_acc: 0.6985\n",
            "Epoch 20/25\n",
            "1024000/1024000 [==============================] - 5s 5us/sample - loss: 0.6901 - acc: 0.6920 - val_loss: 0.6853 - val_acc: 0.6991\n",
            "Epoch 21/25\n",
            "1024000/1024000 [==============================] - 5s 5us/sample - loss: 0.6901 - acc: 0.6927 - val_loss: 0.6854 - val_acc: 0.6989\n",
            "Epoch 22/25\n",
            "1024000/1024000 [==============================] - 5s 5us/sample - loss: 0.6900 - acc: 0.6924 - val_loss: 0.6855 - val_acc: 0.6992\n",
            "Epoch 23/25\n",
            "1024000/1024000 [==============================] - 5s 5us/sample - loss: 0.6901 - acc: 0.6917 - val_loss: 0.6853 - val_acc: 0.6986\n",
            "Epoch 24/25\n",
            "1024000/1024000 [==============================] - 5s 5us/sample - loss: 0.6900 - acc: 0.6920 - val_loss: 0.6855 - val_acc: 0.6995\n",
            "Epoch 25/25\n",
            "1024000/1024000 [==============================] - 5s 5us/sample - loss: 0.6899 - acc: 0.6924 - val_loss: 0.6854 - val_acc: 0.6993\n",
            "--- 136.97617745399475 seconds taken for training---\n"
          ],
          "name": "stdout"
        }
      ]
    },
    {
      "cell_type": "code",
      "metadata": {
        "id": "E_De2QRcYRuF",
        "outputId": "8c1188c8-fa5a-4d34-bcc0-bc86e4da0c36",
        "colab": {
          "base_uri": "https://localhost:8080/",
          "height": 51
        }
      },
      "source": [
        "print('Final training loss \\t', h.history['loss'][-1])\n",
        "# print('Final training accuracy ', h.history['accuracy'][-1])\n",
        "print('Final training accuracy ', h.history['acc'][-1])"
      ],
      "execution_count": 26,
      "outputs": [
        {
          "output_type": "stream",
          "text": [
            "Final training loss \t 0.6899472246170044\n",
            "Final training accuracy  0.6923848\n"
          ],
          "name": "stdout"
        }
      ]
    },
    {
      "cell_type": "code",
      "metadata": {
        "id": "04gRP7W9YWI2",
        "outputId": "7966e776-3b70-409a-cea6-34a97338a0f4",
        "colab": {
          "base_uri": "https://localhost:8080/",
          "height": 315
        }
      },
      "source": [
        "# plot the training loss\n",
        "\n",
        "plt.plot(h.history['loss'], label='Train loss')\n",
        "plt.plot(h.history['val_loss'], label='Val loss') \n",
        "plt.xlabel('Epochs')\n",
        "plt.ylabel('Loss')\n",
        "plt.title('Plot of Training Loss')\n",
        "plt.legend()\n",
        "plt.show()"
      ],
      "execution_count": 27,
      "outputs": [
        {
          "output_type": "display_data",
          "data": {
            "image/png": "[encoded data removed]",
            "text/plain": [
              "<Figure size 432x288 with 1 Axes>"
            ]
          },
          "metadata": {
            "tags": []
          }
        }
      ]
    },
    {
      "cell_type": "code",
      "metadata": {
        "id": "0UcCzjbPYYxG",
        "outputId": "9ce51551-9d97-409a-d89e-5f5a134f10a0",
        "colab": {
          "base_uri": "https://localhost:8080/",
          "height": 315
        }
      },
      "source": [
        "# plot the training accuracy\n",
        "\n",
        "# plt.plot(h.history['accuracy'], label='Train Acc')\n",
        "plt.plot(h.history['acc'], label='Train Acc')\n",
        "# plt.plot(h.history['val_accuracy'], label='Val Acc')\n",
        "plt.plot(h.history['val_acc'], label='Val Acc')\n",
        "plt.xlabel('Epochs')\n",
        "plt.ylabel('Loss')\n",
        "plt.title('Plot of Training Accuracy')\n",
        "plt.legend()\n",
        "plt.show()"
      ],
      "execution_count": 28,
      "outputs": [
        {
          "output_type": "display_data",
          "data": {
            "image/png": "[encoded data removed]",
            "text/plain": [
              "<Figure size 432x288 with 1 Axes>"
            ]
          },
          "metadata": {
            "tags": []
          }
        }
      ]
    },
    {
      "cell_type": "markdown",
      "metadata": {
        "id": "RKUh7gxAazaZ"
      },
      "source": [
        "# **Model Evaluation**\n",
        "\n",
        "---\n",
        "\n",
        "\n",
        "1.   Print the final test/validation loss and accuracy.\n",
        "2.   Print confusion matrix and classification report for the validation dataset. Write a summary for the best and worst performing class and the overall trend.\n",
        "\n",
        "\n"
      ]
    },
    {
      "cell_type": "markdown",
      "metadata": {
        "id": "54v20bxlbEVP"
      },
      "source": [
        "**Testing the Model**"
      ]
    },
    {
      "cell_type": "code",
      "metadata": {
        "id": "RerJqCjabJZ_",
        "outputId": "64d9d983-f5ea-4a2e-d04b-9e1148d979e9",
        "colab": {
          "base_uri": "https://localhost:8080/",
          "height": 34
        }
      },
      "source": [
        "# testing the model\n",
        "\n",
        "testLoss, testAccuracy = dnnModel.evaluate( Xtestval, Ytestval)"
      ],
      "execution_count": 29,
      "outputs": [
        {
          "output_type": "stream",
          "text": [
            "320000/320000 [==============================] - 23s 70us/sample - loss: 0.6845 - acc: 0.7006\n"
          ],
          "name": "stdout"
        }
      ]
    },
    {
      "cell_type": "code",
      "metadata": {
        "id": "FbkvXHc4bMb_",
        "outputId": "b7c53846-67da-4c2e-e317-96e36fe8a1fa",
        "colab": {
          "base_uri": "https://localhost:8080/",
          "height": 51
        }
      },
      "source": [
        "print('Testing loss \\t', testLoss)\n",
        "print('Testing accuracy ', testAccuracy)"
      ],
      "execution_count": 30,
      "outputs": [
        {
          "output_type": "stream",
          "text": [
            "Testing loss \t 0.6845032750129699\n",
            "Testing accuracy  0.700625\n"
          ],
          "name": "stdout"
        }
      ]
    },
    {
      "cell_type": "markdown",
      "metadata": {
        "id": "YdvDrwZnAz4M"
      },
      "source": [
        "**Confusion matrix and classification report for the validation dataset**"
      ]
    },
    {
      "cell_type": "code",
      "metadata": {
        "id": "RwhK32t77IDZ",
        "outputId": "de7b812c-1ce0-4365-dea4-35137f6f1955",
        "colab": {
          "base_uri": "https://localhost:8080/",
          "height": 323
        }
      },
      "source": [
        "prediction = dnnModel.predict_classes(Xtestval)\n",
        "print(prediction)\n",
        "# print(Ytest.shape)\n",
        "# print(Ytest)\n",
        "print(' \\n confusion_matrix \\n')\n",
        "print(confusion_matrix(Ytest,prediction))\n",
        "print(' \\n classification_report \\n')\n",
        "print(classification_report(Ytest,prediction))\n",
        "# dnnModel1\n",
        "# dnnModel2"
      ],
      "execution_count": 31,
      "outputs": [
        {
          "output_type": "stream",
          "text": [
            "[0 0 1 ... 1 0 0]\n",
            " \n",
            " confusion_matrix \n",
            "\n",
            "[[110863  48631]\n",
            " [ 47169 113337]]\n",
            " \n",
            " classification_report \n",
            "\n",
            "              precision    recall  f1-score   support\n",
            "\n",
            "           0       0.70      0.70      0.70    159494\n",
            "           1       0.70      0.71      0.70    160506\n",
            "\n",
            "    accuracy                           0.70    320000\n",
            "   macro avg       0.70      0.70      0.70    320000\n",
            "weighted avg       0.70      0.70      0.70    320000\n",
            "\n"
          ],
          "name": "stdout"
        }
      ]
    },
    {
      "cell_type": "markdown",
      "metadata": {
        "id": "XNJ8zKJbB1vV"
      },
      "source": [
        "**Summary for the best and worst performing class and the overall trend.**"
      ]
    },
    {
      "cell_type": "markdown",
      "metadata": {
        "id": "VRkdzZdnB7Da"
      },
      "source": [
        "It is observed that class 1 has highest recall\n",
        " while both class's have same precision and f1-score."
      ]
    },
    {
      "cell_type": "markdown",
      "metadata": {
        "id": "K_GAsmHCkcND"
      },
      "source": [
        "# **Hyperparameter Tuning**\n",
        "\n",
        "---\n",
        "Build two more models by changing the following hyperparameters one at a time. \n",
        "\n",
        "Write the code for Model Building, Model Compilation, Model Training and Model Evaluation as given in the instructions above for each additional model.\n",
        "\n",
        "1.   Dropout: Change the position and value of dropout layer.\n",
        "2.   Batch Size: Change the value of batch size in model training.\n",
        "\n",
        "Write a comparison between each model and give reasonsfor the difference in results. Also, make a comparison with the state-of-the-art accuracy for this dataset."
      ]
    },
    {
      "cell_type": "markdown",
      "metadata": {
        "id": "XX1cl6SyGDCm"
      },
      "source": [
        "## Dropout: Change the position and value of dropout layer"
      ]
    },
    {
      "cell_type": "markdown",
      "metadata": {
        "id": "w0eRbmHCGOWa"
      },
      "source": [
        "1. Model Building"
      ]
    },
    {
      "cell_type": "markdown",
      "metadata": {
        "id": "Zj6FLaFUG9ck"
      },
      "source": [
        " **DNN Model**\n",
        "\n",
        "---\n",
        "\n",
        "\n",
        "\n",
        "\n",
        "Using Keras, create the DNN or Sequential Model"
      ]
    },
    {
      "cell_type": "code",
      "metadata": {
        "id": "ALEXpvaaG9c6"
      },
      "source": [
        "# Create a model object\n",
        "\n",
        "dnnModel1 = models.Sequential()"
      ],
      "execution_count": 32,
      "outputs": []
    },
    {
      "cell_type": "markdown",
      "metadata": {
        "id": "wCnqCn5rG9dA"
      },
      "source": [
        "Add dense layers, specifying the number of units in each layer and the activation function used in the layer."
      ]
    },
    {
      "cell_type": "code",
      "metadata": {
        "id": "mpjWlSq-G9dB",
        "outputId": "977827e1-a829-4e51-9129-1dd61aaf656c",
        "colab": {
          "base_uri": "https://localhost:8080/",
          "height": 323
        }
      },
      "source": [
        "# Layer 1 = input layer\n",
        "# specify the input size for in the first layer. --  with Regularizers\n",
        "\n",
        "dnnModel1.add(layers.Dense(100, activation='relu', \n",
        "                          kernel_regularizer=regularizers.l2(0.01), \n",
        "                          activity_regularizer=regularizers.l2(0.01), \n",
        "                          input_shape= (128,)\n",
        "                          ))\n",
        "\n",
        "\n",
        "# Layer 2 = hidden layer  with Regularizers\n",
        "dnnModel1.add(layers.Dense(70, activation='relu', \n",
        "                          kernel_regularizer=regularizers.l2(0.01),\n",
        "                          activity_regularizer=regularizers.l2(0.01)\n",
        "                          ))\n",
        "# Add dropout of 50% to layer 2\n",
        "#dnnModel1.add(layers.Dropout(0.5))\n",
        "\n",
        "# Layer 3 = hidden layer  with Regularizers\n",
        "dnnModel1.add(layers.Dense(30, activation='relu', \n",
        "                          kernel_regularizer=regularizers.l2(0.01),\n",
        "                          activity_regularizer=regularizers.l2(0.01)\n",
        "                          ))\n",
        "# changed drpopout position and reduced dropout value\n",
        "# Add dropout of 20% to layer 3\n",
        "dnnModel1.add(layers.Dropout(0.20))\n",
        "\n",
        "\n",
        "# Layer 4 = output layer  with Regularizers\n",
        "dnnModel1.add(layers.Dense(2, activation='softmax', \n",
        "                          kernel_regularizer=regularizers.l2(0.01),\n",
        "                          activity_regularizer=regularizers.l2(0.01)\n",
        "                          ))\n",
        "\n",
        "dnnModel1.summary()"
      ],
      "execution_count": 33,
      "outputs": [
        {
          "output_type": "stream",
          "text": [
            "Model: \"sequential_1\"\n",
            "_________________________________________________________________\n",
            "Layer (type)                 Output Shape              Param #   \n",
            "=================================================================\n",
            "dense_4 (Dense)              (None, 100)               12900     \n",
            "_________________________________________________________________\n",
            "dense_5 (Dense)              (None, 70)                7070      \n",
            "_________________________________________________________________\n",
            "dense_6 (Dense)              (None, 30)                2130      \n",
            "_________________________________________________________________\n",
            "dropout_1 (Dropout)          (None, 30)                0         \n",
            "_________________________________________________________________\n",
            "dense_7 (Dense)              (None, 2)                 62        \n",
            "=================================================================\n",
            "Total params: 22,162\n",
            "Trainable params: 22,162\n",
            "Non-trainable params: 0\n",
            "_________________________________________________________________\n"
          ],
          "name": "stdout"
        }
      ]
    },
    {
      "cell_type": "markdown",
      "metadata": {
        "id": "cHeeRKN0GYKZ"
      },
      "source": [
        "2. Model Compilation"
      ]
    },
    {
      "cell_type": "markdown",
      "metadata": {
        "id": "CJeNZgOEI6nL"
      },
      "source": [
        "Regularization and Optimizations of DNN"
      ]
    },
    {
      "cell_type": "code",
      "metadata": {
        "id": "6dg9_fyAI6nR"
      },
      "source": [
        "# Configure  the model for training, by using appropriate optimizers and regularizations\n",
        "# Available optimizer: adam, rmsprop, adagrad, sgd\n",
        "# loss:  objective that the model will try to minimize. \n",
        "# Available loss: categorical_crossentropy, binary_crossentropy, mean_squared_error\n",
        "# metrics: List of metrics to be evaluated by the model during training and testing. \n",
        "        \n",
        "#dnnModel1.compile( optimizer = 'adam', loss = 'categorical_crossentropy', metrics=['accuracy'] )\n",
        "\n",
        "NUM_EPOCHS = 25\n",
        "INIT_LR = 0.001\n",
        "BS = 1024       \n",
        "opt = Adam(lr=INIT_LR, decay=INIT_LR / NUM_EPOCHS)\n",
        "# opt = 'adam'\n",
        "dnnModel1.compile( optimizer = opt, loss = 'categorical_crossentropy', metrics=['accuracy'] )"
      ],
      "execution_count": 34,
      "outputs": []
    },
    {
      "cell_type": "markdown",
      "metadata": {
        "id": "V7cKeVrBGdpJ"
      },
      "source": [
        "3. Model Training"
      ]
    },
    {
      "cell_type": "markdown",
      "metadata": {
        "id": "8MaX774vJJlN"
      },
      "source": [
        "**Train the Model**"
      ]
    },
    {
      "cell_type": "code",
      "metadata": {
        "id": "OrrUfmaBJJlP",
        "outputId": "b78c75ca-62ef-4422-8964-4c10b0d822f3",
        "colab": {
          "base_uri": "https://localhost:8080/",
          "height": 901
        }
      },
      "source": [
        "# train the model\n",
        "#h1 = dnnModel1.fit( Xtrainval, Ytrainval, epochs=25, validation_split=0.2, batch_size=512)\n",
        "start_time = time.time()\n",
        "h1 = dnnModel1.fit( Xtrainval, Ytrainval, epochs=NUM_EPOCHS, validation_split=0.2, batch_size=BS)\n",
        "print(\"--- %s seconds taken for training---\" % (time.time() - start_time))"
      ],
      "execution_count": 35,
      "outputs": [
        {
          "output_type": "stream",
          "text": [
            "Train on 1024000 samples, validate on 256000 samples\n",
            "Epoch 1/25\n",
            "1024000/1024000 [==============================] - 7s 6us/sample - loss: 0.8229 - acc: 0.6832 - val_loss: 0.6861 - val_acc: 0.6965\n",
            "Epoch 2/25\n",
            "1024000/1024000 [==============================] - 5s 5us/sample - loss: 0.6878 - acc: 0.6943 - val_loss: 0.6852 - val_acc: 0.6989\n",
            "Epoch 3/25\n",
            "1024000/1024000 [==============================] - 5s 5us/sample - loss: 0.6875 - acc: 0.6947 - val_loss: 0.6850 - val_acc: 0.6987\n",
            "Epoch 4/25\n",
            "1024000/1024000 [==============================] - 5s 5us/sample - loss: 0.6874 - acc: 0.6952 - val_loss: 0.6851 - val_acc: 0.6980\n",
            "Epoch 5/25\n",
            "1024000/1024000 [==============================] - 5s 5us/sample - loss: 0.6873 - acc: 0.6949 - val_loss: 0.6848 - val_acc: 0.6985\n",
            "Epoch 6/25\n",
            "1024000/1024000 [==============================] - 5s 5us/sample - loss: 0.6872 - acc: 0.6955 - val_loss: 0.6852 - val_acc: 0.6984\n",
            "Epoch 7/25\n",
            "1024000/1024000 [==============================] - 5s 5us/sample - loss: 0.6873 - acc: 0.6949 - val_loss: 0.6848 - val_acc: 0.6983\n",
            "Epoch 8/25\n",
            "1024000/1024000 [==============================] - 5s 5us/sample - loss: 0.6872 - acc: 0.6953 - val_loss: 0.6849 - val_acc: 0.6991\n",
            "Epoch 9/25\n",
            "1024000/1024000 [==============================] - 5s 5us/sample - loss: 0.6870 - acc: 0.6957 - val_loss: 0.6857 - val_acc: 0.6968\n",
            "Epoch 10/25\n",
            "1024000/1024000 [==============================] - 5s 5us/sample - loss: 0.6870 - acc: 0.6953 - val_loss: 0.6846 - val_acc: 0.6993\n",
            "Epoch 11/25\n",
            "1024000/1024000 [==============================] - 5s 5us/sample - loss: 0.6870 - acc: 0.6951 - val_loss: 0.6851 - val_acc: 0.6986\n",
            "Epoch 12/25\n",
            "1024000/1024000 [==============================] - 5s 5us/sample - loss: 0.6869 - acc: 0.6956 - val_loss: 0.6848 - val_acc: 0.6992\n",
            "Epoch 13/25\n",
            "1024000/1024000 [==============================] - 5s 5us/sample - loss: 0.6870 - acc: 0.6957 - val_loss: 0.6846 - val_acc: 0.6996\n",
            "Epoch 14/25\n",
            "1024000/1024000 [==============================] - 5s 5us/sample - loss: 0.6869 - acc: 0.6954 - val_loss: 0.6845 - val_acc: 0.6992\n",
            "Epoch 15/25\n",
            "1024000/1024000 [==============================] - 5s 5us/sample - loss: 0.6869 - acc: 0.6952 - val_loss: 0.6845 - val_acc: 0.6992\n",
            "Epoch 16/25\n",
            "1024000/1024000 [==============================] - 5s 5us/sample - loss: 0.6870 - acc: 0.6956 - val_loss: 0.6848 - val_acc: 0.6986\n",
            "Epoch 17/25\n",
            "1024000/1024000 [==============================] - 5s 5us/sample - loss: 0.6868 - acc: 0.6956 - val_loss: 0.6847 - val_acc: 0.6982\n",
            "Epoch 18/25\n",
            "1024000/1024000 [==============================] - 5s 5us/sample - loss: 0.6868 - acc: 0.6953 - val_loss: 0.6844 - val_acc: 0.6988\n",
            "Epoch 19/25\n",
            "1024000/1024000 [==============================] - 5s 5us/sample - loss: 0.6868 - acc: 0.6958 - val_loss: 0.6846 - val_acc: 0.6996\n",
            "Epoch 20/25\n",
            "1024000/1024000 [==============================] - 5s 5us/sample - loss: 0.6866 - acc: 0.6956 - val_loss: 0.6854 - val_acc: 0.6962\n",
            "Epoch 21/25\n",
            "1024000/1024000 [==============================] - 5s 5us/sample - loss: 0.6867 - acc: 0.6955 - val_loss: 0.6844 - val_acc: 0.6988\n",
            "Epoch 22/25\n",
            "1024000/1024000 [==============================] - 5s 5us/sample - loss: 0.6867 - acc: 0.6955 - val_loss: 0.6845 - val_acc: 0.6988\n",
            "Epoch 23/25\n",
            "1024000/1024000 [==============================] - 5s 5us/sample - loss: 0.6867 - acc: 0.6958 - val_loss: 0.6844 - val_acc: 0.6993\n",
            "Epoch 24/25\n",
            "1024000/1024000 [==============================] - 5s 5us/sample - loss: 0.6866 - acc: 0.6957 - val_loss: 0.6844 - val_acc: 0.6988\n",
            "Epoch 25/25\n",
            "1024000/1024000 [==============================] - 5s 5us/sample - loss: 0.6867 - acc: 0.6959 - val_loss: 0.6848 - val_acc: 0.6992\n",
            "--- 134.87399101257324 seconds taken for training---\n"
          ],
          "name": "stdout"
        }
      ]
    },
    {
      "cell_type": "code",
      "metadata": {
        "id": "O9VLIBZWJJlU",
        "outputId": "3a986548-817c-4a9d-952b-6e2d30260524",
        "colab": {
          "base_uri": "https://localhost:8080/",
          "height": 51
        }
      },
      "source": [
        "print('Final training loss \\t', h1.history['loss'][-1])\n",
        "print('Final training accuracy ', h1.history['acc'][-1])"
      ],
      "execution_count": 36,
      "outputs": [
        {
          "output_type": "stream",
          "text": [
            "Final training loss \t 0.6867018973231316\n",
            "Final training accuracy  0.6959209\n"
          ],
          "name": "stdout"
        }
      ]
    },
    {
      "cell_type": "code",
      "metadata": {
        "id": "tHOl6t7lJJlZ",
        "outputId": "138f036a-6eb4-4412-ac14-d3aa52aea9cb",
        "colab": {
          "base_uri": "https://localhost:8080/",
          "height": 315
        }
      },
      "source": [
        "# plot the training loss\n",
        "\n",
        "plt.plot(h1.history['loss'], label='Train loss')\n",
        "plt.plot(h1.history['val_loss'], label='Val loss') \n",
        "plt.xlabel('Epochs')\n",
        "plt.ylabel('Loss')\n",
        "plt.title('Plot of Training Loss')\n",
        "plt.legend()\n",
        "plt.show()"
      ],
      "execution_count": 37,
      "outputs": [
        {
          "output_type": "display_data",
          "data": {
            "image/png": "[encoded data removed]",
            "text/plain": [
              "<Figure size 432x288 with 1 Axes>"
            ]
          },
          "metadata": {
            "tags": []
          }
        }
      ]
    },
    {
      "cell_type": "code",
      "metadata": {
        "id": "R95Eb1jPJJlc",
        "outputId": "fd8d3dac-92d1-4988-e8e2-2f989caf430f",
        "colab": {
          "base_uri": "https://localhost:8080/",
          "height": 315
        }
      },
      "source": [
        "# plot the training accuracy\n",
        "\n",
        "plt.plot(h1.history['acc'], label='Train Acc')\n",
        "plt.plot(h1.history['val_acc'], label='Val Acc')\n",
        "plt.xlabel('Epochs')\n",
        "plt.ylabel('Loss')\n",
        "plt.title('Plot of Training Accuracy')\n",
        "plt.legend()\n",
        "plt.show()"
      ],
      "execution_count": 38,
      "outputs": [
        {
          "output_type": "display_data",
          "data": {
            "image/png": "[encoded data removed]",
            "text/plain": [
              "<Figure size 432x288 with 1 Axes>"
            ]
          },
          "metadata": {
            "tags": []
          }
        }
      ]
    },
    {
      "cell_type": "markdown",
      "metadata": {
        "id": "r7JFDYGPGlZ7"
      },
      "source": [
        "4. Model Evaluation\n"
      ]
    },
    {
      "cell_type": "markdown",
      "metadata": {
        "id": "U_2-beZVJU_o"
      },
      "source": [
        "**Testing the Model**"
      ]
    },
    {
      "cell_type": "code",
      "metadata": {
        "id": "lhSBkV0FJU_v",
        "outputId": "5b657a86-35fd-4d32-da79-cf28ea51c4f5",
        "colab": {
          "base_uri": "https://localhost:8080/",
          "height": 34
        }
      },
      "source": [
        "# testing the model\n",
        "\n",
        "testLoss1, testAccuracy1 = dnnModel1.evaluate( Xtestval, Ytestval)\n"
      ],
      "execution_count": 39,
      "outputs": [
        {
          "output_type": "stream",
          "text": [
            "320000/320000 [==============================] - 22s 68us/sample - loss: 0.6840 - acc: 0.6999\n"
          ],
          "name": "stdout"
        }
      ]
    },
    {
      "cell_type": "code",
      "metadata": {
        "id": "0KP00Qr4JU_8",
        "outputId": "6e9c0735-2058-481b-f7a3-1a2dcf761b39",
        "colab": {
          "base_uri": "https://localhost:8080/",
          "height": 51
        }
      },
      "source": [
        "print('Testing loss \\t', testLoss1)\n",
        "print('Testing accuracy ', testAccuracy1)"
      ],
      "execution_count": 40,
      "outputs": [
        {
          "output_type": "stream",
          "text": [
            "Testing loss \t 0.6839746617496013\n",
            "Testing accuracy  0.6999\n"
          ],
          "name": "stdout"
        }
      ]
    },
    {
      "cell_type": "markdown",
      "metadata": {
        "id": "GVPJf8DIBGyv"
      },
      "source": [
        "**Confusion matrix and classification report for the validation dataset**"
      ]
    },
    {
      "cell_type": "code",
      "metadata": {
        "id": "B0hJ0NEwBGyw",
        "outputId": "d486c7b0-9b91-4ee3-f28b-8f1d146dbac5",
        "colab": {
          "base_uri": "https://localhost:8080/",
          "height": 323
        }
      },
      "source": [
        "prediction1 = dnnModel1.predict_classes(Xtestval)\n",
        "print(prediction1)\n",
        "# print(Ytest.shape)\n",
        "# print(Ytest)\n",
        "print(' \\n confusion_matrix \\n')\n",
        "print(confusion_matrix(Ytest,prediction1))\n",
        "print(' \\n classification_report \\n')\n",
        "print(classification_report(Ytest,prediction1))"
      ],
      "execution_count": 41,
      "outputs": [
        {
          "output_type": "stream",
          "text": [
            "[0 0 1 ... 1 0 0]\n",
            " \n",
            " confusion_matrix \n",
            "\n",
            "[[116624  42870]\n",
            " [ 53162 107344]]\n",
            " \n",
            " classification_report \n",
            "\n",
            "              precision    recall  f1-score   support\n",
            "\n",
            "           0       0.69      0.73      0.71    159494\n",
            "           1       0.71      0.67      0.69    160506\n",
            "\n",
            "    accuracy                           0.70    320000\n",
            "   macro avg       0.70      0.70      0.70    320000\n",
            "weighted avg       0.70      0.70      0.70    320000\n",
            "\n"
          ],
          "name": "stdout"
        }
      ]
    },
    {
      "cell_type": "markdown",
      "metadata": {
        "id": "mvFUrlaREZnF"
      },
      "source": [
        "**Summary for the best and worst performing class and the overall trend.**"
      ]
    },
    {
      "cell_type": "markdown",
      "metadata": {
        "id": "lfipWJPbEZnJ"
      },
      "source": [
        "It is observed that class 0 has highest recall and f1-score while class 1 has highest precision."
      ]
    },
    {
      "cell_type": "markdown",
      "metadata": {
        "id": "vPxPEpaaGxBj"
      },
      "source": [
        "## Batch Size: Change the value of batch size in model training"
      ]
    },
    {
      "cell_type": "markdown",
      "metadata": {
        "id": "UPmL_pRXGxBm"
      },
      "source": [
        "1. Model Building"
      ]
    },
    {
      "cell_type": "markdown",
      "metadata": {
        "id": "aKa3Rz-YcsPm"
      },
      "source": [
        " **DNN Model**\n",
        "\n",
        "---\n",
        "\n",
        "\n",
        "\n",
        "\n",
        "Using Keras, create the DNN or Sequential Model"
      ]
    },
    {
      "cell_type": "code",
      "metadata": {
        "id": "-r2kBcX-csPt"
      },
      "source": [
        "# Create a model object\n",
        "\n",
        "dnnModel2 = models.Sequential()"
      ],
      "execution_count": 42,
      "outputs": []
    },
    {
      "cell_type": "markdown",
      "metadata": {
        "id": "GXhw4oBdcsP1"
      },
      "source": [
        "Add dense layers, specifying the number of units in each layer and the activation function used in the layer."
      ]
    },
    {
      "cell_type": "code",
      "metadata": {
        "id": "uz2XvMDMcsP2",
        "outputId": "ab0a0d74-af80-4e5c-f713-03888b308af5",
        "colab": {
          "base_uri": "https://localhost:8080/",
          "height": 323
        }
      },
      "source": [
        "# Layer 1 = input layer\n",
        "# specify the input size for in the first layer. --  with Regularizers\n",
        "\n",
        "dnnModel2.add(layers.Dense(100, activation='relu', \n",
        "                          kernel_regularizer=regularizers.l2(0.01), \n",
        "                          activity_regularizer=regularizers.l2(0.01), \n",
        "                          input_shape= (128,)\n",
        "                          ))\n",
        "\n",
        "# Layer 2 = hidden layer  with Regularizers\n",
        "dnnModel2.add(layers.Dense(70, activation='relu', \n",
        "                          kernel_regularizer=regularizers.l2(0.01),\n",
        "                          activity_regularizer=regularizers.l2(0.01)\n",
        "                          ))\n",
        "# Add dropout of 50% to layer 2\n",
        "dnnModel2.add(layers.Dropout(0.5))\n",
        "\n",
        "# Layer 3 = hidden layer  with Regularizers\n",
        "dnnModel2.add(layers.Dense(30, activation='relu', \n",
        "                          kernel_regularizer=regularizers.l2(0.01),\n",
        "                          activity_regularizer=regularizers.l2(0.01)\n",
        "                          ))\n",
        "\n",
        "# Layer 4 = output layer  with Regularizers\n",
        "dnnModel2.add(layers.Dense(2, activation='softmax', \n",
        "                          kernel_regularizer=regularizers.l2(0.01),\n",
        "                          activity_regularizer=regularizers.l2(0.01)\n",
        "                          ))\n",
        "\n",
        "dnnModel2.summary()"
      ],
      "execution_count": 43,
      "outputs": [
        {
          "output_type": "stream",
          "text": [
            "Model: \"sequential_2\"\n",
            "_________________________________________________________________\n",
            "Layer (type)                 Output Shape              Param #   \n",
            "=================================================================\n",
            "dense_8 (Dense)              (None, 100)               12900     \n",
            "_________________________________________________________________\n",
            "dense_9 (Dense)              (None, 70)                7070      \n",
            "_________________________________________________________________\n",
            "dropout_2 (Dropout)          (None, 70)                0         \n",
            "_________________________________________________________________\n",
            "dense_10 (Dense)             (None, 30)                2130      \n",
            "_________________________________________________________________\n",
            "dense_11 (Dense)             (None, 2)                 62        \n",
            "=================================================================\n",
            "Total params: 22,162\n",
            "Trainable params: 22,162\n",
            "Non-trainable params: 0\n",
            "_________________________________________________________________\n"
          ],
          "name": "stdout"
        }
      ]
    },
    {
      "cell_type": "markdown",
      "metadata": {
        "id": "Coh2DUZnGxBo"
      },
      "source": [
        "2. Model Compilation"
      ]
    },
    {
      "cell_type": "markdown",
      "metadata": {
        "id": "_Ha_SOn7fEFp"
      },
      "source": [
        "Regularization and Optimizations of DNN"
      ]
    },
    {
      "cell_type": "code",
      "metadata": {
        "id": "j0ikP5-AfEFw"
      },
      "source": [
        "# Configure  the model for training, by using appropriate optimizers and regularizations\n",
        "# Available optimizer: adam, rmsprop, adagrad, sgd\n",
        "# loss:  objective that the model will try to minimize. \n",
        "# Available loss: categorical_crossentropy, binary_crossentropy, mean_squared_error\n",
        "# metrics: List of metrics to be evaluated by the model during training and testing. \n",
        "        \n",
        "# dnnModel2.compile( optimizer = 'adam', loss = 'categorical_crossentropy', metrics=['accuracy'] )\n",
        "\n",
        "NUM_EPOCHS = 25\n",
        "INIT_LR = 0.001\n",
        "BS = 2048 # doubled batch size       \n",
        "opt = Adam(lr=INIT_LR, decay=INIT_LR / NUM_EPOCHS)\n",
        "# opt = 'adam'\n",
        "dnnModel2.compile( optimizer = opt, loss = 'categorical_crossentropy', metrics=['accuracy'] )"
      ],
      "execution_count": 44,
      "outputs": []
    },
    {
      "cell_type": "markdown",
      "metadata": {
        "id": "X68_rhN1GxBq"
      },
      "source": [
        "3. Model Training"
      ]
    },
    {
      "cell_type": "markdown",
      "metadata": {
        "id": "Fz0iK-PS9RmO"
      },
      "source": [
        "**Testing the Model**"
      ]
    },
    {
      "cell_type": "code",
      "metadata": {
        "id": "sXUY4YaJfOAS",
        "outputId": "65e2c9ee-612a-466f-b890-3f4ffc42dc25",
        "colab": {
          "base_uri": "https://localhost:8080/",
          "height": 901
        }
      },
      "source": [
        "# train the model\n",
        "\n",
        "# h2 = dnnModel2.fit( Xtrainval, Ytrainval, epochs=25, validation_split=0.2, batch_size=1024) \n",
        "start_time = time.time()\n",
        "h2 = dnnModel2.fit( Xtrainval, Ytrainval, epochs=NUM_EPOCHS, validation_split=0.2, batch_size=BS)\n",
        "print(\"--- %s seconds taken for training---\" % (time.time() - start_time))"
      ],
      "execution_count": 45,
      "outputs": [
        {
          "output_type": "stream",
          "text": [
            "Train on 1024000 samples, validate on 256000 samples\n",
            "Epoch 1/25\n",
            "1024000/1024000 [==============================] - 4s 4us/sample - loss: 0.9624 - acc: 0.6677 - val_loss: 0.6857 - val_acc: 0.6982\n",
            "Epoch 2/25\n",
            "1024000/1024000 [==============================] - 3s 3us/sample - loss: 0.6897 - acc: 0.6924 - val_loss: 0.6855 - val_acc: 0.6977\n",
            "Epoch 3/25\n",
            "1024000/1024000 [==============================] - 3s 3us/sample - loss: 0.6898 - acc: 0.6918 - val_loss: 0.6855 - val_acc: 0.6981\n",
            "Epoch 4/25\n",
            "1024000/1024000 [==============================] - 3s 3us/sample - loss: 0.6897 - acc: 0.6927 - val_loss: 0.6858 - val_acc: 0.6982\n",
            "Epoch 5/25\n",
            "1024000/1024000 [==============================] - 3s 3us/sample - loss: 0.6898 - acc: 0.6923 - val_loss: 0.6856 - val_acc: 0.6984\n",
            "Epoch 6/25\n",
            "1024000/1024000 [==============================] - 3s 3us/sample - loss: 0.6896 - acc: 0.6926 - val_loss: 0.6852 - val_acc: 0.6985\n",
            "Epoch 7/25\n",
            "1024000/1024000 [==============================] - 3s 3us/sample - loss: 0.6895 - acc: 0.6927 - val_loss: 0.6852 - val_acc: 0.6984\n",
            "Epoch 8/25\n",
            "1024000/1024000 [==============================] - 3s 3us/sample - loss: 0.6895 - acc: 0.6923 - val_loss: 0.6852 - val_acc: 0.6983\n",
            "Epoch 9/25\n",
            "1024000/1024000 [==============================] - 3s 3us/sample - loss: 0.6895 - acc: 0.6927 - val_loss: 0.6854 - val_acc: 0.6986\n",
            "Epoch 10/25\n",
            "1024000/1024000 [==============================] - 3s 3us/sample - loss: 0.6894 - acc: 0.6929 - val_loss: 0.6851 - val_acc: 0.6987\n",
            "Epoch 11/25\n",
            "1024000/1024000 [==============================] - 3s 3us/sample - loss: 0.6895 - acc: 0.6926 - val_loss: 0.6852 - val_acc: 0.6987\n",
            "Epoch 12/25\n",
            "1024000/1024000 [==============================] - 3s 3us/sample - loss: 0.6896 - acc: 0.6928 - val_loss: 0.6856 - val_acc: 0.6984\n",
            "Epoch 13/25\n",
            "1024000/1024000 [==============================] - 3s 3us/sample - loss: 0.6895 - acc: 0.6926 - val_loss: 0.6852 - val_acc: 0.6987\n",
            "Epoch 14/25\n",
            "1024000/1024000 [==============================] - 3s 3us/sample - loss: 0.6894 - acc: 0.6924 - val_loss: 0.6852 - val_acc: 0.6987\n",
            "Epoch 15/25\n",
            "1024000/1024000 [==============================] - 3s 3us/sample - loss: 0.6894 - acc: 0.6923 - val_loss: 0.6851 - val_acc: 0.6987\n",
            "Epoch 16/25\n",
            "1024000/1024000 [==============================] - 3s 3us/sample - loss: 0.6893 - acc: 0.6927 - val_loss: 0.6850 - val_acc: 0.6991\n",
            "Epoch 17/25\n",
            "1024000/1024000 [==============================] - 3s 3us/sample - loss: 0.6893 - acc: 0.6922 - val_loss: 0.6853 - val_acc: 0.6985\n",
            "Epoch 18/25\n",
            "1024000/1024000 [==============================] - 3s 3us/sample - loss: 0.6892 - acc: 0.6929 - val_loss: 0.6851 - val_acc: 0.6986\n",
            "Epoch 19/25\n",
            "1024000/1024000 [==============================] - 3s 3us/sample - loss: 0.6893 - acc: 0.6927 - val_loss: 0.6854 - val_acc: 0.6982\n",
            "Epoch 20/25\n",
            "1024000/1024000 [==============================] - 3s 3us/sample - loss: 0.6895 - acc: 0.6924 - val_loss: 0.6850 - val_acc: 0.6983\n",
            "Epoch 21/25\n",
            "1024000/1024000 [==============================] - 3s 3us/sample - loss: 0.6893 - acc: 0.6925 - val_loss: 0.6850 - val_acc: 0.6986\n",
            "Epoch 22/25\n",
            "1024000/1024000 [==============================] - 3s 3us/sample - loss: 0.6892 - acc: 0.6927 - val_loss: 0.6850 - val_acc: 0.6984\n",
            "Epoch 23/25\n",
            "1024000/1024000 [==============================] - 3s 3us/sample - loss: 0.6893 - acc: 0.6928 - val_loss: 0.6850 - val_acc: 0.6993\n",
            "Epoch 24/25\n",
            "1024000/1024000 [==============================] - 3s 3us/sample - loss: 0.6892 - acc: 0.6927 - val_loss: 0.6852 - val_acc: 0.6979\n",
            "Epoch 25/25\n",
            "1024000/1024000 [==============================] - 3s 3us/sample - loss: 0.6893 - acc: 0.6927 - val_loss: 0.6851 - val_acc: 0.6983\n",
            "--- 77.7537145614624 seconds taken for training---\n"
          ],
          "name": "stdout"
        }
      ]
    },
    {
      "cell_type": "code",
      "metadata": {
        "id": "eCyABUr1fOAW",
        "outputId": "30774f7a-6371-4bc4-fec9-54d9009f8732",
        "colab": {
          "base_uri": "https://localhost:8080/",
          "height": 51
        }
      },
      "source": [
        "print('Final training loss \\t', h2.history['loss'][-1])\n",
        "print('Final training accuracy ', h2.history['acc'][-1])"
      ],
      "execution_count": 46,
      "outputs": [
        {
          "output_type": "stream",
          "text": [
            "Final training loss \t 0.6893128333091736\n",
            "Final training accuracy  0.6926943\n"
          ],
          "name": "stdout"
        }
      ]
    },
    {
      "cell_type": "code",
      "metadata": {
        "id": "Y-4JvC7dfOAb",
        "outputId": "d27729ef-82ca-4640-e82a-d91465d3889a",
        "colab": {
          "base_uri": "https://localhost:8080/",
          "height": 315
        }
      },
      "source": [
        "# plot the training loss\n",
        "\n",
        "plt.plot(h2.history['loss'], label='Train loss')\n",
        "plt.plot(h2.history['val_loss'], label='Val loss') \n",
        "plt.xlabel('Epochs')\n",
        "plt.ylabel('Loss')\n",
        "plt.title('Plot of Training Loss')\n",
        "plt.legend()\n",
        "plt.show()"
      ],
      "execution_count": 47,
      "outputs": [
        {
          "output_type": "display_data",
          "data": {
            "image/png": "[encoded data removed]",
            "text/plain": [
              "<Figure size 432x288 with 1 Axes>"
            ]
          },
          "metadata": {
            "tags": []
          }
        }
      ]
    },
    {
      "cell_type": "code",
      "metadata": {
        "id": "9fJsAwOdfOAg",
        "outputId": "cc3409d2-0a04-4060-b4ca-9243013712d0",
        "colab": {
          "base_uri": "https://localhost:8080/",
          "height": 315
        }
      },
      "source": [
        "# plot the training accuracy\n",
        "\n",
        "plt.plot(h2.history['acc'], label='Train Acc')\n",
        "plt.plot(h2.history['val_acc'], label='Val Acc')\n",
        "plt.xlabel('Epochs')\n",
        "plt.ylabel('Loss')\n",
        "plt.title('Plot of Training Accuracy')\n",
        "plt.legend()\n",
        "plt.show()"
      ],
      "execution_count": 48,
      "outputs": [
        {
          "output_type": "display_data",
          "data": {
            "image/png": "[encoded data removed]",
            "text/plain": [
              "<Figure size 432x288 with 1 Axes>"
            ]
          },
          "metadata": {
            "tags": []
          }
        }
      ]
    },
    {
      "cell_type": "markdown",
      "metadata": {
        "id": "IBzfkgAhGxBs"
      },
      "source": [
        "4. Model Evaluation"
      ]
    },
    {
      "cell_type": "markdown",
      "metadata": {
        "id": "9jE9i-2O9IPK"
      },
      "source": [
        "**Testing the Model**"
      ]
    },
    {
      "cell_type": "code",
      "metadata": {
        "id": "xfsnJycOfl0C",
        "outputId": "fd7db479-0453-4d65-d002-8a20d4f2384a",
        "colab": {
          "base_uri": "https://localhost:8080/",
          "height": 34
        }
      },
      "source": [
        "# testing the model\n",
        "\n",
        "testLoss2, testAccuracy2 = dnnModel2.evaluate( Xtestval, Ytestval)"
      ],
      "execution_count": 49,
      "outputs": [
        {
          "output_type": "stream",
          "text": [
            "320000/320000 [==============================] - 22s 68us/sample - loss: 0.6841 - acc: 0.6997\n"
          ],
          "name": "stdout"
        }
      ]
    },
    {
      "cell_type": "code",
      "metadata": {
        "id": "mix5iIKVfl0J",
        "outputId": "35849016-cb35-4826-e8ef-401dd567d9d2",
        "colab": {
          "base_uri": "https://localhost:8080/",
          "height": 51
        }
      },
      "source": [
        "print('Testing loss \\t', testLoss2)\n",
        "print('Testing accuracy ', testAccuracy2)"
      ],
      "execution_count": 50,
      "outputs": [
        {
          "output_type": "stream",
          "text": [
            "Testing loss \t 0.6840803014338016\n",
            "Testing accuracy  0.69974065\n"
          ],
          "name": "stdout"
        }
      ]
    },
    {
      "cell_type": "markdown",
      "metadata": {
        "id": "0_wedgBxBSqT"
      },
      "source": [
        "**Confusion matrix and classification report for the validation dataset**"
      ]
    },
    {
      "cell_type": "code",
      "metadata": {
        "id": "ogcd8iwgBSqV",
        "outputId": "b9a5cf80-2e6e-43cc-ffae-3f94084877ce",
        "colab": {
          "base_uri": "https://localhost:8080/",
          "height": 323
        }
      },
      "source": [
        "prediction2 = dnnModel2.predict_classes(Xtestval)\n",
        "print(prediction2)\n",
        "# print(Ytest.shape)\n",
        "# print(Ytest)\n",
        "print(' \\n confusion_matrix \\n')\n",
        "print(confusion_matrix(Ytest,prediction2))\n",
        "print(' \\n classification_report \\n')\n",
        "print(classification_report(Ytest,prediction2))"
      ],
      "execution_count": 51,
      "outputs": [
        {
          "output_type": "stream",
          "text": [
            "[0 0 1 ... 1 0 0]\n",
            " \n",
            " confusion_matrix \n",
            "\n",
            "[[109819  49675]\n",
            " [ 46408 114098]]\n",
            " \n",
            " classification_report \n",
            "\n",
            "              precision    recall  f1-score   support\n",
            "\n",
            "           0       0.70      0.69      0.70    159494\n",
            "           1       0.70      0.71      0.70    160506\n",
            "\n",
            "    accuracy                           0.70    320000\n",
            "   macro avg       0.70      0.70      0.70    320000\n",
            "weighted avg       0.70      0.70      0.70    320000\n",
            "\n"
          ],
          "name": "stdout"
        }
      ]
    },
    {
      "cell_type": "markdown",
      "metadata": {
        "id": "3fSca2nTEe9b"
      },
      "source": [
        "**Summary for the best and worst performing class and the overall trend.**"
      ]
    },
    {
      "cell_type": "markdown",
      "metadata": {
        "id": "h3n5qkKCEe9f"
      },
      "source": [
        "It is observed that class 1 has highest recall\n",
        "while both class's have same precision and f1-score."
      ]
    },
    {
      "cell_type": "markdown",
      "metadata": {
        "id": "KjCxCS08gnTE"
      },
      "source": [
        "# **Model Comparisons**\n",
        "\n",
        "---\n",
        "\n"
      ]
    },
    {
      "cell_type": "code",
      "metadata": {
        "id": "M6xDmKoVhGs2",
        "outputId": "51215251-c3f0-445a-c609-f8b1b8c696eb",
        "colab": {
          "base_uri": "https://localhost:8080/",
          "height": 153
        }
      },
      "source": [
        "print('Final training loss - h  -->\\t', h.history['loss'][-1])\n",
        "print('Final training loss - h1  --> \\t', h1.history['loss'][-1])\n",
        "print('Final training loss - h2  --> \\t', h2.history['loss'][-1])\n",
        "\n",
        "print('\\n')\n",
        "\n",
        "print('Final training accuracy - h  --> ', h.history['acc'][-1])\n",
        "print('Final training accuracy - h1  --> ', h1.history['acc'][-1])\n",
        "print('Final training accuracy - h3  --> ', h2.history['acc'][-1])"
      ],
      "execution_count": 52,
      "outputs": [
        {
          "output_type": "stream",
          "text": [
            "Final training loss - h  -->\t 0.6899472246170044\n",
            "Final training loss - h1  --> \t 0.6867018973231316\n",
            "Final training loss - h2  --> \t 0.6893128333091736\n",
            "\n",
            "\n",
            "Final training accuracy - h  -->  0.6923848\n",
            "Final training accuracy - h1  -->  0.6959209\n",
            "Final training accuracy - h3  -->  0.6926943\n"
          ],
          "name": "stdout"
        }
      ]
    },
    {
      "cell_type": "code",
      "metadata": {
        "id": "r44t4A28gup8",
        "outputId": "ad8fadde-e4b4-474f-9ff0-0a867d24f7bc",
        "colab": {
          "base_uri": "https://localhost:8080/",
          "height": 153
        }
      },
      "source": [
        "print('Testing loss for dnnModel \\t', testLoss)\n",
        "print('Testing loss for dnnModel1 \\t', testLoss1)\n",
        "print('Testing loss for dnnModel2 \\t', testLoss2)\n",
        "\n",
        "print('\\n')\n",
        "\n",
        "print('Testing accuracy for dnnModel ', testAccuracy)\n",
        "print('Testing accuracy for dnnModel1 ', testAccuracy1)\n",
        "print('Testing accuracy for dnnModel2 ', testAccuracy2)"
      ],
      "execution_count": 53,
      "outputs": [
        {
          "output_type": "stream",
          "text": [
            "Testing loss for dnnModel \t 0.6845032750129699\n",
            "Testing loss for dnnModel1 \t 0.6839746617496013\n",
            "Testing loss for dnnModel2 \t 0.6840803014338016\n",
            "\n",
            "\n",
            "Testing accuracy for dnnModel  0.700625\n",
            "Testing accuracy for dnnModel1  0.6999\n",
            "Testing accuracy for dnnModel2  0.69974065\n"
          ],
          "name": "stdout"
        }
      ]
    },
    {
      "cell_type": "markdown",
      "metadata": {
        "id": "CSdKx16HFESi"
      },
      "source": [
        "Analysis from above observed results :\n",
        "\n",
        "\n",
        "\n",
        "1.   Model 1 has highest Training loss while Model 2 has lowest\n",
        "2.   Model 2 has highest Training accuracy while Model 1 has lowest\n",
        "3.   Model 1 has highest Testing loss while Model 2 has lowest\n",
        "4.   Model 1 has highest Testing accuracy while Model 2 has lowest\n",
        "\n"
      ]
    },
    {
      "cell_type": "markdown",
      "metadata": {
        "id": "rjY5lKxJHSKl"
      },
      "source": [
        "From the 3 models created, the maximim accuracy (Testing) achieved is above 70%.\n",
        "state-of-the-art accuracy for this dataset is more than 85%"
      ]
    }
  ]
}