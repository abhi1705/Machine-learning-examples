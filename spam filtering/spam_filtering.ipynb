{
 "cells": [
  {
   "cell_type": "markdown",
   "metadata": {},
   "source": [
    "# Spambase - Spam Detection"
   ]
  },
  {
   "cell_type": "markdown",
   "metadata": {},
   "source": [
    "## Setting Up"
   ]
  },
  {
   "cell_type": "code",
   "execution_count": 23,
   "metadata": {},
   "outputs": [],
   "source": [
    "import numpy as np\n",
    "import matplotlib.pyplot as plt\n",
    "import pandas as pd\n",
    "from sklearn.feature_extraction.text import TfidfVectorizer\n",
    "from sklearn.naive_bayes import MultinomialNB, GaussianNB, BernoulliNB\n",
    "from sklearn.model_selection import train_test_split, cross_val_score\n",
    "from sklearn.metrics import confusion_matrix,classification_report,accuracy_score\n",
    "import csv\n",
    "from numpy.random import RandomState"
   ]
  },
  {
   "cell_type": "markdown",
   "metadata": {},
   "source": [
    "### Constants"
   ]
  },
  {
   "cell_type": "code",
   "execution_count": 24,
   "metadata": {},
   "outputs": [],
   "source": [
    "RANDOM_SEED = 1234\n",
    "EPS = 1e-8\n",
    "FEATURES = ['word_freq_make', 'word_freq_address', 'word_freq_all', 'word_freq_3d', 'word_freq_our', 'word_freq_over', 'word_freq_remove', 'word_freq_internet', 'word_freq_order', 'word_freq_mail', 'word_freq_receive', 'word_freq_will', 'word_freq_people', 'word_freq_report', 'word_freq_addresses', 'word_freq_free', 'word_freq_business', 'word_freq_email', 'word_freq_you', 'word_freq_credit', 'word_freq_your', 'word_freq_font', 'word_freq_000', 'word_freq_money', 'word_freq_hp', 'word_freq_hpl', 'word_freq_george', 'word_freq_650', 'word_freq_lab', 'word_freq_labs', 'word_freq_telnet', 'word_freq_857', 'word_freq_data', 'word_freq_415', 'word_freq_85', 'word_freq_technology', 'word_freq_1999', 'word_freq_parts', 'word_freq_pm', 'word_freq_direct', 'word_freq_cs', 'word_freq_meeting', 'word_freq_original', 'word_freq_project', 'word_freq_re', 'word_freq_edu', 'word_freq_table', 'word_freq_conference', 'char_freq_;', 'char_freq_(', 'char_freq_[', 'char_freq_!', 'char_freq_$', 'char_freq_#', 'capital_run_length_average', 'capital_run_length_longest', 'capital_run_length_total', 'label']"
   ]
  },
  {
   "cell_type": "code",
   "execution_count": 25,
   "metadata": {},
   "outputs": [],
   "source": [
    "np.random.seed(RANDOM_SEED)"
   ]
  },
  {
   "cell_type": "markdown",
   "metadata": {},
   "source": [
    "### Utility functions"
   ]
  },
  {
   "cell_type": "code",
   "execution_count": 26,
   "metadata": {},
   "outputs": [],
   "source": [
    "# compute idf\n",
    "# we get the tf feature from the dataset\n",
    "def compute_idf(data: np.ndarray):\n",
    "    \"\"\"Return the computed idf values, we are using smooth idf here \"\"\"\n",
    "    n = data.shape[0]\n",
    "    df = (data > 0.0).astype(np.int).sum(axis=0)\n",
    "    idf = np.log((n + 1.) / (df + 1.)) + 1.\n",
    "    return idf"
   ]
  },
  {
   "cell_type": "code",
   "execution_count": 27,
   "metadata": {},
   "outputs": [],
   "source": [
    "def transform_tfidf(data: np.ndarray, idf: np.ndarray):\n",
    "    tf_idf_values_raw = data * idf\n",
    "    # applying l2 norm\n",
    "    norm = np.linalg.norm(tf_idf_values_raw, axis=1)\n",
    "    norm += EPS # to avoid divide by zero\n",
    "    tf_idf_values = tf_idf_values_raw / norm[:, None]\n",
    "    return tf_idf_values"
   ]
  },
  {
   "cell_type": "code",
   "execution_count": 28,
   "metadata": {},
   "outputs": [],
   "source": [
    "def print_stats(model, x, y):\n",
    "    y_pred = model.predict(x)\n",
    "    return classification_report(y, y_pred)"
   ]
  },
  {
   "cell_type": "markdown",
   "metadata": {},
   "source": [
    "## Loading and Preprocessing"
   ]
  },
  {
   "cell_type": "code",
   "execution_count": 29,
   "metadata": {},
   "outputs": [],
   "source": [
    "data = np.genfromtxt('spambase.data',delimiter=',')"
   ]
  },
  {
   "cell_type": "code",
   "execution_count": 30,
   "metadata": {},
   "outputs": [],
   "source": [
    "trainX, testX, trainY, testY = train_test_split(data[:, 0:57], data[:, -1], test_size=0.2, random_state=RANDOM_SEED)"
   ]
  },
  {
   "cell_type": "markdown",
   "metadata": {},
   "source": [
    "### Computing tf-idf for words"
   ]
  },
  {
   "cell_type": "code",
   "execution_count": 31,
   "metadata": {},
   "outputs": [],
   "source": [
    "word_freq_features = trainX[:, 0:48]\n",
    "word_idf_values = compute_idf(word_freq_features)\n",
    "# save word idf values to use while prediction"
   ]
  },
  {
   "cell_type": "code",
   "execution_count": 32,
   "metadata": {},
   "outputs": [],
   "source": [
    "train_word_tf_idf_values = transform_tfidf(word_freq_features, word_idf_values)"
   ]
  },
  {
   "cell_type": "markdown",
   "metadata": {},
   "source": [
    "### Computing tf-idf for chars"
   ]
  },
  {
   "cell_type": "code",
   "execution_count": 33,
   "metadata": {},
   "outputs": [],
   "source": [
    "char_freq_features = trainX[:, 48:54]\n",
    "char_idf_values = compute_idf(char_freq_features)\n",
    "# save char idf values to use while prediction"
   ]
  },
  {
   "cell_type": "code",
   "execution_count": 34,
   "metadata": {},
   "outputs": [],
   "source": [
    "train_char_tf_idf_values = transform_tfidf(char_freq_features, char_idf_values)"
   ]
  },
  {
   "cell_type": "markdown",
   "metadata": {},
   "source": [
    "### Preparing for train and test"
   ]
  },
  {
   "cell_type": "code",
   "execution_count": 35,
   "metadata": {},
   "outputs": [],
   "source": [
    "x_train = np.hstack([train_word_tf_idf_values, train_char_tf_idf_values])\n",
    "y_train = trainY"
   ]
  },
  {
   "cell_type": "code",
   "execution_count": 36,
   "metadata": {},
   "outputs": [],
   "source": [
    "# preparing same op on test\n",
    "test_word_tf_idf_values = transform_tfidf(testX[:, 0:48], word_idf_values)\n",
    "test_char_tf_idf_values = transform_tfidf(testX[:, 48:54], char_idf_values)\n",
    "x_test = np.hstack([test_word_tf_idf_values, test_char_tf_idf_values])\n",
    "y_test = testY"
   ]
  },
  {
   "cell_type": "markdown",
   "metadata": {},
   "source": [
    "## Model Training and Inference"
   ]
  },
  {
   "cell_type": "markdown",
   "metadata": {},
   "source": [
    "### Computing 10 fold CV"
   ]
  },
  {
   "cell_type": "code",
   "execution_count": 37,
   "metadata": {},
   "outputs": [],
   "source": [
    "scores = [] #for plotting purposes\n",
    "\n",
    "multinomial_classifier = MultinomialNB()\n",
    "gaussian_classifier = GaussianNB()\n",
    "bernoulli_classifier = BernoulliNB(binarize=0.25)\n",
    "\n",
    "multinomial_cv = cross_val_score(multinomial_classifier, x_train, y_train, cv=10)\n",
    "multinomial_classifier_mean_score = multinomial_cv.mean()\n",
    "scores.append(multinomial_classifier_mean_score)\n",
    "\n",
    "gaussian_cv = cross_val_score(gaussian_classifier, x_train, y_train, cv=10)\n",
    "gaussian_classifier_mean_score = gaussian_cv.mean()\n",
    "scores.append(gaussian_classifier_mean_score)\n",
    "\n",
    "bernoulli_cv = cross_val_score(bernoulli_classifier, x_train, y_train, cv=10)\n",
    "bernoulli_classifier_mean_score = bernoulli_cv.mean()\n",
    "scores.append(bernoulli_classifier_mean_score)"
   ]
  },
  {
   "cell_type": "code",
   "execution_count": 38,
   "metadata": {},
   "outputs": [
    {
     "data": {
      "image/png": "[encoded data removed]",
      "text/plain": [
       "<Figure size 432x288 with 1 Axes>"
      ]
     },
     "metadata": {
      "needs_background": "light"
     },
     "output_type": "display_data"
    }
   ],
   "source": [
    "algorithms = ['MultinomialNB', 'GaussianNB', 'BernoulliNB']\n",
    "def plot_bar_x(scores):\n",
    "    index = np.arange(len(algorithms))\n",
    "    plt.bar(index, scores)\n",
    "    plt.xlabel('Algorithm', fontsize=5)\n",
    "    plt.ylabel('Score', fontsize=5)\n",
    "    plt.xticks(index, algorithms, fontsize=5, rotation=30)\n",
    "    plt.title('Average cross validation scores for algorithms')\n",
    "    plt.show()\n",
    "    \n",
    "plot_bar_x(scores)"
   ]
  },
  {
   "cell_type": "markdown",
   "metadata": {},
   "source": [
    "### Mutlinomial Naive Bayes"
   ]
  },
  {
   "cell_type": "code",
   "execution_count": 39,
   "metadata": {},
   "outputs": [
    {
     "data": {
      "text/plain": [
       "MultinomialNB(alpha=1.0, class_prior=None, fit_prior=True)"
      ]
     },
     "execution_count": 39,
     "metadata": {},
     "output_type": "execute_result"
    }
   ],
   "source": [
    "multinomial_classifier = MultinomialNB()\n",
    "multinomial_classifier.fit(x_train, y_train)"
   ]
  },
  {
   "cell_type": "code",
   "execution_count": 40,
   "metadata": {},
   "outputs": [
    {
     "name": "stdout",
     "output_type": "stream",
     "text": [
      "## Train Stats\n",
      "               precision    recall  f1-score   support\n",
      "\n",
      "         0.0       0.95      0.89      0.92      2225\n",
      "         1.0       0.85      0.93      0.89      1455\n",
      "\n",
      "    accuracy                           0.90      3680\n",
      "   macro avg       0.90      0.91      0.90      3680\n",
      "weighted avg       0.91      0.90      0.91      3680\n",
      "\n",
      "--------------------------------------------------------------\n",
      "## Test Stats\n",
      "               precision    recall  f1-score   support\n",
      "\n",
      "         0.0       0.96      0.91      0.94       563\n",
      "         1.0       0.88      0.94      0.91       358\n",
      "\n",
      "    accuracy                           0.93       921\n",
      "   macro avg       0.92      0.93      0.92       921\n",
      "weighted avg       0.93      0.93      0.93       921\n",
      "\n"
     ]
    }
   ],
   "source": [
    "print('## Train Stats\\n', print_stats(multinomial_classifier, x_train, y_train))\n",
    "print('--------------------------------------------------------------')\n",
    "print('## Test Stats\\n', print_stats(multinomial_classifier, x_test, y_test))"
   ]
  },
  {
   "cell_type": "markdown",
   "metadata": {},
   "source": [
    "### Gaussian Naive Bayes"
   ]
  },
  {
   "cell_type": "code",
   "execution_count": 41,
   "metadata": {},
   "outputs": [
    {
     "data": {
      "text/plain": [
       "GaussianNB(priors=None, var_smoothing=1e-09)"
      ]
     },
     "execution_count": 41,
     "metadata": {},
     "output_type": "execute_result"
    }
   ],
   "source": [
    "gaussian_classifier = GaussianNB()\n",
    "gaussian_classifier.fit(x_train, y_train)"
   ]
  },
  {
   "cell_type": "code",
   "execution_count": 42,
   "metadata": {},
   "outputs": [
    {
     "name": "stdout",
     "output_type": "stream",
     "text": [
      "## Train Stats\n",
      "               precision    recall  f1-score   support\n",
      "\n",
      "         0.0       0.95      0.77      0.85      2225\n",
      "         1.0       0.73      0.94      0.82      1455\n",
      "\n",
      "    accuracy                           0.84      3680\n",
      "   macro avg       0.84      0.85      0.84      3680\n",
      "weighted avg       0.86      0.84      0.84      3680\n",
      "\n",
      "--------------------------------------------------------------\n",
      "## Test Stats\n",
      "               precision    recall  f1-score   support\n",
      "\n",
      "         0.0       0.96      0.77      0.86       563\n",
      "         1.0       0.73      0.95      0.82       358\n",
      "\n",
      "    accuracy                           0.84       921\n",
      "   macro avg       0.84      0.86      0.84       921\n",
      "weighted avg       0.87      0.84      0.84       921\n",
      "\n"
     ]
    }
   ],
   "source": [
    "print('## Train Stats\\n', print_stats(gaussian_classifier, x_train, y_train))\n",
    "print('--------------------------------------------------------------')\n",
    "print('## Test Stats\\n', print_stats(gaussian_classifier, x_test, y_test))"
   ]
  },
  {
   "cell_type": "markdown",
   "metadata": {},
   "source": [
    "### Bernoulli Naive Bayes"
   ]
  },
  {
   "cell_type": "code",
   "execution_count": 43,
   "metadata": {},
   "outputs": [
    {
     "data": {
      "text/plain": [
       "BernoulliNB(alpha=1.0, binarize=0.25, class_prior=None, fit_prior=True)"
      ]
     },
     "execution_count": 43,
     "metadata": {},
     "output_type": "execute_result"
    }
   ],
   "source": [
    "bernoulli_classifier = BernoulliNB(binarize=0.25)\n",
    "bernoulli_classifier.fit(x_train, y_train)"
   ]
  },
  {
   "cell_type": "code",
   "execution_count": 44,
   "metadata": {},
   "outputs": [
    {
     "name": "stdout",
     "output_type": "stream",
     "text": [
      "## Train Stats\n",
      "               precision    recall  f1-score   support\n",
      "\n",
      "         0.0       0.94      0.90      0.92      2225\n",
      "         1.0       0.85      0.91      0.88      1455\n",
      "\n",
      "    accuracy                           0.90      3680\n",
      "   macro avg       0.90      0.91      0.90      3680\n",
      "weighted avg       0.91      0.90      0.90      3680\n",
      "\n",
      "--------------------------------------------------------------\n",
      "## Test Stats\n",
      "               precision    recall  f1-score   support\n",
      "\n",
      "         0.0       0.95      0.92      0.94       563\n",
      "         1.0       0.88      0.93      0.90       358\n",
      "\n",
      "    accuracy                           0.92       921\n",
      "   macro avg       0.92      0.92      0.92       921\n",
      "weighted avg       0.93      0.92      0.92       921\n",
      "\n"
     ]
    }
   ],
   "source": [
    "print('## Train Stats\\n', print_stats(bernoulli_classifier, x_train, y_train))\n",
    "print('--------------------------------------------------------------')\n",
    "print('## Test Stats\\n', print_stats(bernoulli_classifier, x_test, y_test))"
   ]
  }
 ],
 "metadata": {
  "kernelspec": {
   "display_name": "Python 3",
   "language": "python",
   "name": "python3"
  },
  "language_info": {
   "codemirror_mode": {
    "name": "ipython",
    "version": 3
   },
   "file_extension": ".py",
   "mimetype": "text/x-python",
   "name": "python",
   "nbconvert_exporter": "python",
   "pygments_lexer": "ipython3",
   "version": "3.6.9"
  }
 },
 "nbformat": 4,
 "nbformat_minor": 2
}
