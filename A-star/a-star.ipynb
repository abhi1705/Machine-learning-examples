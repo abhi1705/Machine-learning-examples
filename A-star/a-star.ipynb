
  {
   "cell_type": "markdown",
   "metadata": {},
   "source": [
    "Coding begins now!!!"
   ]
  },
  {
   "cell_type": "markdown",
   "metadata": {},
   "source": [
    "1) Define the environment representation in the following code block"
   ]
  },
  {
   "cell_type": "raw",
   "metadata": {},
   "source": [
    "#PEAS Description of the task environment here :\n",
    "Performance : minimizing travelling distance(Optimal), gettig to the correct destination(Complete), Time and Memory  it use to find the solution, minimizing the total cost of search\n",
    "Environment : Roads, Cities, Other traffic\n",
    "Actuators   : Steering, Accelerator, Signals, Horn, Display\n",
    "Sensors     : Camera, Sonar, Speedometer, Keyboard, Engine Sensors"
   ]
  },
  {
   "cell_type": "code",
   "execution_count": null,
   "metadata": {},
   "outputs": [],
   "source": [
    "#Environment representation goes here\n",
    "#Fully observable :Agent know the complete state of the environment at each point in time\n",
    "#Single agent     :Single agent is solving the problem \n",
    "#Deterministic    :Each action has exactly one outcome\n",
    "#Sequential       :Each action could affect all the futute decisions\n",
    "#Static           :Environment is not changing while agent is deliberating\n",
    "#Discrete         :At any given state there are only finitely many actions to choose from\n",
    "#Known            :Knows which states are reached by each actions\n"
   ]
  },
  {
   "cell_type": "markdown",
   "metadata": {},
   "source": [
    "Define the haversine formula and what it does"
   ]
  },
  {
   "cell_type": "raw",
   "metadata": {},
   "source": [
    "#haversine formula representation \n",
    "The Haversine formula calculates the shortest distance between two points on a sphere using their latitudes and longitudes measured along the surface. Haversine formula will be used to find the heuristic function of the problem."
   ]
  },
  {
   "cell_type": "markdown",
   "metadata": {},
   "source": [
    "2) Define a function which calculates the heuristic distance from each city to the destination city in the following code block"
   ]
  },
  {
   "cell_type": "code",
   "execution_count": 1,
   "metadata": {},
   "outputs": [],
   "source": [
    "#Function for calculating distance from each node/city to Destination\n",
    "class Heuristics(object):\n",
    "\n",
    "    def __init__(self, dest):\n",
    "        self.data_dict = {\n",
    "            'Panji': [15.4909, 73.8278],\n",
    "            'Raichur': [16.2076, 77.3463],\n",
    "            'Mangalore': [12.9141, 74.8560],\n",
    "            'Bellari': [15.1394, 76.9214],\n",
    "            'Tirupati': [13.6288, 79.4192],\n",
    "            'Kurnool': [15.8281, 78.0373],\n",
    "            'Kozhikode': [11.2588, 75.7804],\n",
    "            'Bangalore': [12.9716, 77.5946],\n",
    "            'Nellore': [14.4426, 79.9865],\n",
    "            'Chennai': [13.0827, 80.2707]\n",
    "        }\n",
    "        self.dest = dest\n",
    "\n",
    "    def h(self, n):\n",
    "        LatLong1 = self.data_dict[n]\n",
    "        LatLong2 = self.data_dict[self.dest]\n",
    "        import math\n",
    "\n",
    "        if (n == self.dest):\n",
    "            distance = 0\n",
    "        else:\n",
    "            # distance between latitudes\n",
    "            # and longitudes\n",
    "            dLat = (LatLong2[0] - LatLong1[0]) * math.pi / 180.0\n",
    "            dLon = (LatLong2[1] - LatLong1[1]) * math.pi / 180.0\n",
    "\n",
    "            # convert to radians\n",
    "            lat1 = (LatLong1[0]) * math.pi / 180.0\n",
    "            lat2 = (LatLong2[0]) * math.pi / 180.0\n",
    "\n",
    "            # apply formulae\n",
    "            a = (pow(math.sin(dLat / 2), 2) +\n",
    "                 pow(math.sin(dLon / 2), 2) *\n",
    "                 math.cos(lat1) * math.cos(lat2));\n",
    "            rad = 6371\n",
    "            c = 2 * math.asin(math.sqrt(a))\n",
    "\n",
    "            # distance\n",
    "            distance = rad * c\n",
    "        return distance"
   ]
  },
  {
   "cell_type": "code",
   "execution_count": null,
   "metadata": {},
   "outputs": [],
   "source": [
    "#Code Block 2 .."
   ]
  },
  {
   "cell_type": "markdown",
   "metadata": {},
   "source": [
    "3) Implementation of A* Algorithm . Feel free to add code blocks for each methods needed starting here.\n",
    "Please modularize the implementation of A* and write each of them in a code block. "
   ]
  },
  {
   "cell_type": "code",
   "execution_count": 4,
   "metadata": {},
   "outputs": [],
   "source": [
    "#Code Block 1\n",
    "class Graph(object):\n",
    "\n",
    "    def __init__(self, adjacency_list):\n",
    "        self.adjacency_list = adjacency_list\n",
    "\n",
    "    def get_neighbors(self, v):\n",
    "        return self.adjacency_list[v]\n"
   ]
  },
  {
   "cell_type": "code",
   "execution_count": 13,
   "metadata": {},
   "outputs": [],
   "source": [
    "#Code Block 2 .. \n",
    "class AStar(object):\n",
    "\n",
    "    def __init__(self, start_node, stop_node, graph):\n",
    "        self.start_node = start_node\n",
    "        self.stop_node = stop_node\n",
    "        self.graph = graph\n",
    "        self.h_func = Heuristics(stop_node)\n",
    "        self.visited_node_count = 0\n",
    "        \n",
    "\n",
    "\n",
    "    def a_star_algorithm(self):\n",
    "        open_list = set([self.start_node])\n",
    "        closed_list = set([])\n",
    "\n",
    "        # g contains current distances from start_node to all other nodes\n",
    "        # the default value (if it's not found in the map) is +infinity\n",
    "        g = {}\n",
    "\n",
    "        g[self.start_node] = 0\n",
    "\n",
    "        # parents contains an adjacency map of all nodes\n",
    "        parents = {}\n",
    "        parents[self.start_node] = self.start_node\n",
    "\n",
    "        while len(open_list) > 0:\n",
    "            n = None\n",
    "\n",
    "            # find a node with the lowest value of f() - evaluation function\n",
    "\n",
    "            for v in open_list:\n",
    "                if n == None or g[v] + self.h_func.h(v) < g[n] + self.h_func.h(n):\n",
    "                    n = v;\n",
    "\n",
    "            if n == None:\n",
    "                print('Path does not exist!')\n",
    "                return None\n",
    "\n",
    "            # if the current node is the stop_node\n",
    "            # then we begin reconstructin the path from it to the start_node\n",
    "            if n == self.stop_node:\n",
    "                reconst_path = []\n",
    "                self.n_cost = g[n]\n",
    "                while parents[n] != n:\n",
    "                    reconst_path.append(n)\n",
    "                    n = parents[n]\n",
    "\n",
    "                reconst_path.append(self.start_node)\n",
    "\n",
    "                reconst_path.reverse()\n",
    "                self.best_path = reconst_path\n",
    "                return None\n",
    "\n",
    "            # for all neighbors of the current node do\n",
    "            for (m, weight) in self.graph.get_neighbors(n):\n",
    "                # if the current node isn't in both open_list and closed_list\n",
    "                # add it to open_list and note n as it's parent\n",
    "                self.visited_node_count +=1\n",
    "                if m not in open_list and m not in closed_list:\n",
    "                    open_list.add(m)\n",
    "                    parents[m] = n\n",
    "                    g[m] = g[n] + weight\n",
    "\n",
    "                # otherwise, check if it's quicker to first visit n, then m\n",
    "                # and if it is, update parent data and g data\n",
    "                # and if the node was in the closed_list, move it to open_list\n",
    "                else:\n",
    "                    if g[m] > g[n] + weight:\n",
    "                        g[m] = g[n] + weight\n",
    "                        parents[m] = n\n",
    "\n",
    "                        if m in closed_list:\n",
    "                            closed_list.remove(m)\n",
    "                            open_list.add(m)\n",
    "\n",
    "            # remove n from the open_list, and add it to closed_list\n",
    "            # because all of his neighbors were inspected\n",
    "            open_list.remove(n)\n",
    "            closed_list.add(n)\n",
    "\n",
    "        print('Path does not exist!')\n",
    "        return None"
   ]
  },
  {
   "cell_type": "markdown",
   "metadata": {},
   "source": [
    "Call your main function/algorithm block in the next code block with appropriate input representation"
   ]
  },
  {
   "cell_type": "code",
   "execution_count": 14,
   "metadata": {},
   "outputs": [],
   "source": [
    "#Computation call\n",
    "adjacency_list = {\n",
    "    'Panji': [('Mangalore', 365), ('Bellari', 409), ('Raichur', 457)],\n",
    "    'Raichur': [('Panji', 457), ('Tirupati', 453), ('Kurnool', 100)],\n",
    "    'Mangalore': [('Panji', 365), ('Kozhikode', 233), ('Bangalore', 352)],\n",
    "    'Bellari': [('Panji', 409), ('Tirupati', 379), ('Bangalore', 311)],\n",
    "    'Tirupati': [('Raichur', 453), ('Kurnool', 340), ('Nellore', 136), ('Chennai', 153), ('Bellari', 379)],\n",
    "    'Kurnool': [('Raichur', 100), ('Tirupati', 340), ('Nellore', 325)],\n",
    "    'Kozhikode': [('Mangalore', 233), ('Bangalore', 356)],\n",
    "    'Bangalore': [('Mangalore', 352), ('Kozhikode', 356), ('Bellari', 311), ('Chennai', 346)],\n",
    "    'Nellore': [('Chennai', 175), ('Tirupati', 136), ('Kurnool', 325)],\n",
    "    'Chennai': [('Nellore', 175), ('Tirupati', 153), ('Bangalore', 346)]\n",
    "    }\n",
    "graph = Graph(adjacency_list)\n",
    "a_star = AStar('Panji', 'Chennai', graph)\n",
    "a_star.a_star_algorithm()\n"
   ]
  },
  {
   "cell_type": "markdown",
   "metadata": {},
   "source": [
    "The agent should provide expected output for questions mentioned below in the subsequent blocks"
   ]
  },
  {
   "cell_type": "markdown",
   "metadata": {},
   "source": [
    "(3.1) Path taken to reach destination from Panaji"
   ]
  },
  {
   "cell_type": "code",
   "execution_count": 15,
   "metadata": {},
   "outputs": [
    {
     "name": "stdout",
     "output_type": "stream",
     "text": [
      "['Panji', 'Bellari', 'Tirupati', 'Chennai']\n"
     ]
    }
   ],
   "source": [
    "# Execute statement to retrieve the path taken here\n",
    "print(a_star.best_path)\n"
   ]
  },
  {
   "cell_type": "markdown",
   "metadata": {},
   "source": [
    "(3.2) Cost of the path"
   ]
  },
  {
   "cell_type": "code",
   "execution_count": 16,
   "metadata": {},
   "outputs": [
    {
     "name": "stdout",
     "output_type": "stream",
     "text": [
      "941\n"
     ]
    }
   ],
   "source": [
    "# Execute statement to retrieve the cost of the path here\n",
    "print(a_star.n_cost)"
   ]
  },
  {
   "cell_type": "markdown",
   "metadata": {},
   "source": [
    "(3.3) Total Number of nodes vistied to get this state"
   ]
  },
  {
   "cell_type": "code",
   "execution_count": 17,
   "metadata": {},
   "outputs": [
    {
     "name": "stdout",
     "output_type": "stream",
     "text": [
      "14\n"
     ]
    }
   ],
   "source": [
    "# Execute statement to retrieve the total number of nodes visited to get this state here\n",
    "print(a_star.visited_node_count)"
   ]
  },
  {
   "cell_type": "markdown",
   "metadata": {},
   "source": [
    "<center>All the best!! Happy Coding!!Let human intelligence prevail</center>\n",
    "<center>**********************************************************</center>"
   ]
  }
 ],
 "metadata": {
  "kernelspec": {
   "display_name": "Python 3",
   "language": "python",
   "name": "python3"
  },
  "language_info": {
   "codemirror_mode": {
    "name": "ipython",
    "version": 3
   },
   "file_extension": ".py",
   "mimetype": "text/x-python",
   "name": "python",
   "nbconvert_exporter": "python",
   "pygments_lexer": "ipython3",
   "version": "3.7.3"
  }
 },
 "nbformat": 4,
 "nbformat_minor": 4
}
